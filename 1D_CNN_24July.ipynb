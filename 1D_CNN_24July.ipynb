{
 "cells": [
  {
   "cell_type": "code",
   "execution_count": 42,
   "metadata": {},
   "outputs": [],
   "source": [
    "import numpy as np\n",
    "import pandas as pd\n",
    "import tensorflow\n",
    "import keras\n",
    "from keras.layers import Convolution1D, Dense, MaxPooling1D, Flatten\n",
    "from keras.models import Sequential\n",
    "import itertools\n",
    "import matplotlib.pyplot as plt\n",
    "%matplotlib inline\n",
    "\n"
   ]
  },
  {
   "cell_type": "code",
   "execution_count": 51,
   "metadata": {
    "collapsed": true
   },
   "outputs": [],
   "source": [
    "data=np.load('overnight_all_compressed.npz')\n",
    "eval_data = data['arr_2']"
   ]
  },
  {
   "cell_type": "code",
   "execution_count": 6,
   "metadata": {},
   "outputs": [
    {
     "name": "stdout",
     "output_type": "stream",
     "text": [
      "<numpy.lib.npyio.NpzFile object at 0x00000162D3DEBDD8>\n",
      "(11044514, 4)\n",
      "(4769867, 4)\n",
      "(15814381, 4)\n"
     ]
    },
    {
     "data": {
      "text/plain": [
       "'for i in x:\\n    \\n    print(x[i].shape)\\n    temp=x[i]\\n    final_array = np.hstack()\\n    final_array = np.concatenate((final_array,temp),axis=0)'"
      ]
     },
     "execution_count": 6,
     "metadata": {},
     "output_type": "execute_result"
    }
   ],
   "source": [
    "x = np.load('overnight_all_compressed_new.npz')\n",
    "print(x)\n",
    "x_t=[]\n",
    "final_array=np.array([])\n",
    "\n",
    "a = x['arr_0']\n",
    "b = x['arr_1']\n",
    "\n",
    "print(a.shape)\n",
    "print(b.shape)\n",
    "\n",
    "\n",
    "final_array=np.vstack([a,b])\n",
    "\n",
    "print(final_array.shape)\n",
    "\n",
    "'''for i in x:\n",
    "    \n",
    "    print(x[i].shape)\n",
    "    temp=x[i]\n",
    "    final_array = np.hstack()\n",
    "    final_array = np.concatenate((final_array,temp),axis=0)'''\n",
    "    #np.concatenate(p,x[i])\n",
    "    #p =np.concatenate((p,temp),axis=0)\n",
    "    #np.append(x[i])\n",
    "    \n",
    "#data=['seconds','mic (trachea)','abdominal movement (stretch sensor)','thorax movement (stretch sensor)']\n",
    "#x = pd.DataFrame(x['arr_0'], columns = data)\n",
    "#x = pd.DataFrame(x['arr_1'], columns = data)\n",
    "\n",
    "#merged = list(itertools.chain.from_iterable(x_t))\n"
   ]
  },
  {
   "cell_type": "code",
   "execution_count": 56,
   "metadata": {},
   "outputs": [
    {
     "name": "stdout",
     "output_type": "stream",
     "text": [
      "(15814381, 4)\n"
     ]
    },
    {
     "data": {
      "text/plain": [
       "array([0.000000e+00, 1.000000e-03, 2.000000e-03, ..., 4.769864e+03,\n",
       "       4.769865e+03, 4.769866e+03])"
      ]
     },
     "execution_count": 56,
     "metadata": {},
     "output_type": "execute_result"
    }
   ],
   "source": [
    "print(final_array.shape)\n",
    "\n",
    "#final_array.reshape(63257524,4)\n",
    "#X_test= pd.DataFrame(x['arr_1'],columns = data)"
   ]
  },
  {
   "cell_type": "code",
   "execution_count": 12,
   "metadata": {},
   "outputs": [],
   "source": [
    "X_train = final_array[:,1]\n",
    "Y_train = final_array[:,2]"
   ]
  },
  {
   "cell_type": "code",
   "execution_count": 72,
   "metadata": {},
   "outputs": [],
   "source": [
    "time=eval_data[:1000,0]\n",
    "x_pred=eval_data[:1000,5].reshape(1,1000,1)\n",
    "y_true=eval_data[:1000,2]"
   ]
  },
  {
   "cell_type": "code",
   "execution_count": 77,
   "metadata": {
    "collapsed": true
   },
   "outputs": [],
   "source": [
    "def Conv_test():\n",
    "    model = Sequential()\n",
    "    model.add(Convolution1D(16,1,activation='relu'))\n",
    "    model.add(Convolution1D(8,1,activation='relu'))\n",
    "    model.add(Convolution1D(4,1,activation='relu'))\n",
    "    model.add(Dense(1,activation='relu'))\n",
    "    model.compile(loss='mean_squared_error', optimizer='adam',metrics=['accuracy'])\n",
    "    return model"
   ]
  },
  {
   "cell_type": "code",
   "execution_count": null,
   "metadata": {},
   "outputs": [],
   "source": []
  },
  {
   "cell_type": "code",
   "execution_count": 78,
   "metadata": {},
   "outputs": [
    {
     "name": "stdout",
     "output_type": "stream",
     "text": [
      "5271461\n",
      "5271460\n",
      "(1, 5271461, 1)\n",
      "(1, 5271461, 1)\n",
      "(1, 5271460, 1)\n",
      "(1, 5271460, 1)\n",
      "Epoch 1/50\n",
      " - 2s - loss: 1.2073 - acc: 0.0000e+00\n",
      "Epoch 2/50\n",
      " - 1s - loss: 1.1869 - acc: 0.0000e+00\n",
      "Epoch 3/50\n",
      " - 1s - loss: 1.1662 - acc: 0.0000e+00\n",
      "Epoch 4/50\n",
      " - 1s - loss: 1.1476 - acc: 0.0000e+00\n",
      "Epoch 5/50\n",
      " - 2s - loss: 1.1288 - acc: 0.0000e+00\n",
      "Epoch 6/50\n",
      " - 1s - loss: 1.1092 - acc: 0.0000e+00\n",
      "Epoch 7/50\n",
      " - 2s - loss: 1.0900 - acc: 0.0000e+00\n",
      "Epoch 8/50\n",
      " - 1s - loss: 1.0705 - acc: 0.0000e+00\n",
      "Epoch 9/50\n",
      " - 1s - loss: 1.0513 - acc: 0.0000e+00\n",
      "Epoch 10/50\n",
      " - 1s - loss: 1.0341 - acc: 0.0000e+00\n",
      "Epoch 11/50\n",
      " - 1s - loss: 1.0172 - acc: 0.0000e+00\n",
      "Epoch 12/50\n",
      " - 1s - loss: 0.9999 - acc: 0.0000e+00\n",
      "Epoch 13/50\n",
      " - 1s - loss: 0.9829 - acc: 0.0000e+00\n",
      "Epoch 14/50\n",
      " - 1s - loss: 0.9661 - acc: 0.0000e+00\n",
      "Epoch 15/50\n",
      " - 1s - loss: 0.9492 - acc: 0.0000e+00\n",
      "Epoch 16/50\n",
      " - 1s - loss: 0.9327 - acc: 0.0000e+00\n",
      "Epoch 17/50\n",
      " - 1s - loss: 0.9160 - acc: 0.0000e+00\n",
      "Epoch 18/50\n",
      " - 1s - loss: 0.8997 - acc: 0.0000e+00\n",
      "Epoch 19/50\n",
      " - 1s - loss: 0.8848 - acc: 0.0000e+00\n",
      "Epoch 20/50\n",
      " - 1s - loss: 0.8726 - acc: 0.0000e+00\n",
      "Epoch 21/50\n",
      " - 2s - loss: 0.8603 - acc: 0.0000e+00\n",
      "Epoch 22/50\n",
      " - 2s - loss: 0.8481 - acc: 0.0000e+00\n",
      "Epoch 23/50\n",
      " - 1s - loss: 0.8360 - acc: 0.0000e+00\n",
      "Epoch 24/50\n",
      " - 1s - loss: 0.8238 - acc: 0.0000e+00\n",
      "Epoch 25/50\n",
      " - 1s - loss: 0.8117 - acc: 0.0000e+00\n",
      "Epoch 26/50\n",
      " - 1s - loss: 0.7995 - acc: 0.0000e+00\n",
      "Epoch 27/50\n",
      " - 2s - loss: 0.7874 - acc: 0.0000e+00\n",
      "Epoch 28/50\n",
      " - 2s - loss: 0.7751 - acc: 0.0000e+00\n",
      "Epoch 29/50\n",
      " - 2s - loss: 0.7628 - acc: 0.0000e+00\n",
      "Epoch 30/50\n",
      " - 1s - loss: 0.7506 - acc: 0.0000e+00\n",
      "Epoch 31/50\n",
      " - 1s - loss: 0.7384 - acc: 0.0000e+00\n",
      "Epoch 32/50\n",
      " - 1s - loss: 0.7262 - acc: 0.0000e+00\n",
      "Epoch 33/50\n",
      " - 2s - loss: 0.7141 - acc: 0.0000e+00\n",
      "Epoch 34/50\n",
      " - 1s - loss: 0.7021 - acc: 0.0000e+00\n",
      "Epoch 35/50\n",
      " - 1s - loss: 0.6901 - acc: 0.0000e+00\n",
      "Epoch 36/50\n",
      " - 1s - loss: 0.6781 - acc: 0.0000e+00\n",
      "Epoch 37/50\n",
      " - 1s - loss: 0.6666 - acc: 0.0000e+00\n",
      "Epoch 38/50\n",
      " - 1s - loss: 0.6550 - acc: 0.0000e+00\n",
      "Epoch 39/50\n",
      " - 1s - loss: 0.6435 - acc: 0.0000e+00\n",
      "Epoch 40/50\n",
      " - 1s - loss: 0.6320 - acc: 0.0000e+00\n",
      "Epoch 41/50\n",
      " - 1s - loss: 0.6206 - acc: 0.0000e+00\n",
      "Epoch 42/50\n",
      " - 1s - loss: 0.6094 - acc: 0.0000e+00\n",
      "Epoch 43/50\n",
      " - 2s - loss: 0.5982 - acc: 0.0000e+00\n",
      "Epoch 44/50\n",
      " - 1s - loss: 0.5872 - acc: 0.0000e+00\n",
      "Epoch 45/50\n",
      " - 1s - loss: 0.5762 - acc: 0.0000e+00\n",
      "Epoch 46/50\n",
      " - 1s - loss: 0.5653 - acc: 0.0000e+00\n",
      "Epoch 47/50\n",
      " - 1s - loss: 0.5546 - acc: 0.0000e+00\n",
      "Epoch 48/50\n",
      " - 2s - loss: 0.5439 - acc: 0.0000e+00\n",
      "Epoch 49/50\n",
      " - 1s - loss: 0.5333 - acc: 0.0000e+00\n",
      "Epoch 50/50\n",
      " - 1s - loss: 0.5230 - acc: 0.0000e+00\n",
      "dict_keys(['loss', 'acc'])\n"
     ]
    },
    {
     "data": {
      "image/png": "[encoded data removed]",
      "text/plain": [
       "<matplotlib.figure.Figure at 0x1628f522748>"
      ]
     },
     "metadata": {},
     "output_type": "display_data"
    },
    {
     "name": "stdout",
     "output_type": "stream",
     "text": [
      "10542921\n",
      "5271460\n",
      "(1, 10542921, 1)\n",
      "(1, 10542921, 1)\n",
      "(1, 5271460, 1)\n",
      "(1, 5271460, 1)\n",
      "Epoch 1/50\n",
      " - 4s - loss: 3.0207 - acc: 0.0000e+00\n",
      "Epoch 2/50\n",
      " - 3s - loss: 3.0207 - acc: 0.0000e+00\n",
      "Epoch 3/50\n",
      " - 3s - loss: 3.0207 - acc: 0.0000e+00\n",
      "Epoch 4/50\n",
      " - 3s - loss: 3.0207 - acc: 0.0000e+00\n",
      "Epoch 5/50\n",
      " - 3s - loss: 3.0207 - acc: 0.0000e+00\n",
      "Epoch 6/50\n",
      " - 3s - loss: 3.0207 - acc: 0.0000e+00\n",
      "Epoch 7/50\n",
      " - 3s - loss: 3.0207 - acc: 0.0000e+00\n",
      "Epoch 8/50\n",
      " - 3s - loss: 3.0207 - acc: 0.0000e+00\n",
      "Epoch 9/50\n",
      " - 3s - loss: 3.0207 - acc: 0.0000e+00\n",
      "Epoch 10/50\n",
      " - 3s - loss: 3.0207 - acc: 0.0000e+00\n",
      "Epoch 11/50\n",
      " - 3s - loss: 3.0207 - acc: 0.0000e+00\n",
      "Epoch 12/50\n",
      " - 3s - loss: 3.0207 - acc: 0.0000e+00\n",
      "Epoch 13/50\n",
      " - 3s - loss: 3.0207 - acc: 0.0000e+00\n",
      "Epoch 14/50\n",
      " - 3s - loss: 3.0207 - acc: 0.0000e+00\n",
      "Epoch 15/50\n",
      " - 3s - loss: 3.0207 - acc: 0.0000e+00\n",
      "Epoch 16/50\n",
      " - 3s - loss: 3.0207 - acc: 0.0000e+00\n",
      "Epoch 17/50\n",
      " - 3s - loss: 3.0207 - acc: 0.0000e+00\n",
      "Epoch 18/50\n",
      " - 3s - loss: 3.0207 - acc: 0.0000e+00\n",
      "Epoch 19/50\n",
      " - 3s - loss: 3.0207 - acc: 0.0000e+00\n",
      "Epoch 20/50\n",
      " - 3s - loss: 3.0207 - acc: 0.0000e+00\n",
      "Epoch 21/50\n",
      " - 3s - loss: 3.0207 - acc: 0.0000e+00\n",
      "Epoch 22/50\n",
      " - 3s - loss: 3.0207 - acc: 0.0000e+00\n",
      "Epoch 23/50\n",
      " - 3s - loss: 3.0207 - acc: 0.0000e+00\n",
      "Epoch 24/50\n",
      " - 3s - loss: 3.0207 - acc: 0.0000e+00\n",
      "Epoch 25/50\n",
      " - 3s - loss: 3.0207 - acc: 0.0000e+00\n",
      "Epoch 26/50\n",
      " - 3s - loss: 3.0207 - acc: 0.0000e+00\n",
      "Epoch 27/50\n",
      " - 3s - loss: 3.0207 - acc: 0.0000e+00\n",
      "Epoch 28/50\n",
      " - 3s - loss: 3.0207 - acc: 0.0000e+00\n",
      "Epoch 29/50\n",
      " - 3s - loss: 3.0207 - acc: 0.0000e+00\n",
      "Epoch 30/50\n",
      " - 3s - loss: 3.0207 - acc: 0.0000e+00\n",
      "Epoch 31/50\n",
      " - 3s - loss: 3.0207 - acc: 0.0000e+00\n",
      "Epoch 32/50\n",
      " - 3s - loss: 3.0207 - acc: 0.0000e+00\n",
      "Epoch 33/50\n",
      " - 3s - loss: 3.0207 - acc: 0.0000e+00\n",
      "Epoch 34/50\n",
      " - 3s - loss: 3.0207 - acc: 0.0000e+00\n",
      "Epoch 35/50\n",
      " - 3s - loss: 3.0207 - acc: 0.0000e+00\n",
      "Epoch 36/50\n",
      " - 3s - loss: 3.0207 - acc: 0.0000e+00\n",
      "Epoch 37/50\n",
      " - 3s - loss: 3.0207 - acc: 0.0000e+00\n",
      "Epoch 38/50\n",
      " - 3s - loss: 3.0207 - acc: 0.0000e+00\n",
      "Epoch 39/50\n",
      " - 3s - loss: 3.0207 - acc: 0.0000e+00\n",
      "Epoch 40/50\n",
      " - 3s - loss: 3.0207 - acc: 0.0000e+00\n",
      "Epoch 41/50\n",
      " - 3s - loss: 3.0207 - acc: 0.0000e+00\n",
      "Epoch 42/50\n",
      " - 3s - loss: 3.0207 - acc: 0.0000e+00\n",
      "Epoch 43/50\n",
      " - 3s - loss: 3.0207 - acc: 0.0000e+00\n",
      "Epoch 44/50\n",
      " - 3s - loss: 3.0207 - acc: 0.0000e+00\n",
      "Epoch 45/50\n",
      " - 3s - loss: 3.0207 - acc: 0.0000e+00\n",
      "Epoch 46/50\n",
      " - 3s - loss: 3.0207 - acc: 0.0000e+00\n",
      "Epoch 47/50\n",
      " - 3s - loss: 3.0207 - acc: 0.0000e+00\n",
      "Epoch 48/50\n",
      " - 3s - loss: 3.0207 - acc: 0.0000e+00\n",
      "Epoch 49/50\n",
      " - 3s - loss: 3.0207 - acc: 0.0000e+00\n",
      "Epoch 50/50\n",
      " - 3s - loss: 3.0207 - acc: 0.0000e+00\n",
      "dict_keys(['loss', 'acc'])\n"
     ]
    },
    {
     "data": {
      "image/png": "[encoded data removed]",
      "text/plain": [
       "<matplotlib.figure.Figure at 0x16294150208>"
      ]
     },
     "metadata": {},
     "output_type": "display_data"
    },
    {
     "name": "stdout",
     "output_type": "stream",
     "text": [
      "(1, 10542921, 1)\n",
      "(1, 10542921, 1)\n",
      "(1, 5271460, 1)\n",
      "(1, 5271460, 1)\n"
     ]
    }
   ],
   "source": [
    "\n",
    "from sklearn.model_selection import TimeSeriesSplit\n",
    "\n",
    "\n",
    "tscv = TimeSeriesSplit(n_splits=2)\n",
    "\n",
    "for train, test in tscv.split(final_array):\n",
    "    print(len(train))\n",
    "    print(len(test))\n",
    "    X_train=(final_array[train][:,1]).reshape(1,len(train),1)\n",
    "    #X_train=X_train.reshape(1,len(train),1)\n",
    "    Y_train=final_array[train][:,2].reshape(1,len(train),1)\n",
    "    #Y_train.reshape(1,len(train),1)\n",
    "    X_test=final_array[test][:,1].reshape(1,len(test),1)\n",
    "    #X_test.reshape(1,len(test),1)\n",
    "    Y_test=final_array[test][:,2].reshape(1,len(test),1)\n",
    "    #Y_test.reshape(1,len(test),1)\n",
    "    validationData=(X_test,Y_test)\n",
    "    \n",
    "    print(X_train.shape)\n",
    "    print(Y_train.shape)\n",
    "    print(X_test.shape)\n",
    "    print(Y_test.shape)\n",
    "    model=Conv_test()\n",
    "    history = model.fit(X_train,Y_train,epochs=50,batch_size=10, verbose=2)\n",
    "    print(history.history.keys())\n",
    "    #y_pred=model.predict(x_pred)\n",
    "    # summarize history for loss\n",
    "    plt.plot(history.history['loss'])\n",
    "    #plt.plot(history.history['val_loss'])\n",
    "    plt.title('model loss')\n",
    "    plt.ylabel('loss')\n",
    "    plt.xlabel('epoch')\n",
    "    plt.legend(['train', 'test'], loc='upper left')\n",
    "    plt.show()\n",
    "print(X_train.shape)\n",
    "print(Y_train.shape)\n",
    "print(X_test.shape)\n",
    "print(Y_test.shape)"
   ]
  },
  {
   "cell_type": "code",
   "execution_count": 73,
   "metadata": {},
   "outputs": [
    {
     "ename": "ValueError",
     "evalue": "Error when checking input: expected sequential_34_input to have shape (10542921, 1) but got array with shape (1000, 1)",
     "output_type": "error",
     "traceback": [
      "\u001b[1;31m---------------------------------------------------------------------------\u001b[0m",
      "\u001b[1;31mValueError\u001b[0m                                Traceback (most recent call last)",
      "\u001b[1;32m<ipython-input-73-1f6659428a64>\u001b[0m in \u001b[0;36m<module>\u001b[1;34m()\u001b[0m\n\u001b[1;32m----> 1\u001b[1;33m \u001b[0my_pred\u001b[0m\u001b[1;33m=\u001b[0m\u001b[0mmodel\u001b[0m\u001b[1;33m.\u001b[0m\u001b[0mpredict\u001b[0m\u001b[1;33m(\u001b[0m\u001b[0mx_pred\u001b[0m\u001b[1;33m)\u001b[0m\u001b[1;33m\u001b[0m\u001b[0m\n\u001b[0m\u001b[0;32m      2\u001b[0m \u001b[0mprint\u001b[0m\u001b[1;33m(\u001b[0m\u001b[0my_pred\u001b[0m\u001b[1;33m.\u001b[0m\u001b[0mshape\u001b[0m\u001b[1;33m)\u001b[0m\u001b[1;33m\u001b[0m\u001b[0m\n\u001b[0;32m      3\u001b[0m \u001b[0mfig\u001b[0m \u001b[1;33m=\u001b[0m \u001b[0mplt\u001b[0m\u001b[1;33m.\u001b[0m\u001b[0mfigure\u001b[0m\u001b[1;33m(\u001b[0m\u001b[0mfigsize\u001b[0m\u001b[1;33m=\u001b[0m\u001b[1;33m(\u001b[0m\u001b[1;36m20\u001b[0m\u001b[1;33m,\u001b[0m\u001b[1;36m10\u001b[0m\u001b[1;33m)\u001b[0m\u001b[1;33m)\u001b[0m\u001b[1;33m\u001b[0m\u001b[0m\n\u001b[0;32m      4\u001b[0m \u001b[1;31m#for ix,items in zip([1,2],x):\u001b[0m\u001b[1;33m\u001b[0m\u001b[1;33m\u001b[0m\u001b[0m\n\u001b[0;32m      5\u001b[0m \u001b[0max\u001b[0m \u001b[1;33m=\u001b[0m \u001b[0mfig\u001b[0m\u001b[1;33m.\u001b[0m\u001b[0madd_subplot\u001b[0m\u001b[1;33m(\u001b[0m\u001b[1;36m2\u001b[0m\u001b[1;33m,\u001b[0m\u001b[1;36m1\u001b[0m\u001b[1;33m,\u001b[0m\u001b[0mix\u001b[0m\u001b[1;33m)\u001b[0m\u001b[1;33m\u001b[0m\u001b[0m\n",
      "\u001b[1;32mC:\\local\\Anaconda3\\lib\\site-packages\\keras\\engine\\training.py\u001b[0m in \u001b[0;36mpredict\u001b[1;34m(self, x, batch_size, verbose, steps)\u001b[0m\n\u001b[0;32m   1150\u001b[0m                              'argument.')\n\u001b[0;32m   1151\u001b[0m         \u001b[1;31m# Validate user data.\u001b[0m\u001b[1;33m\u001b[0m\u001b[1;33m\u001b[0m\u001b[0m\n\u001b[1;32m-> 1152\u001b[1;33m         \u001b[0mx\u001b[0m\u001b[1;33m,\u001b[0m \u001b[0m_\u001b[0m\u001b[1;33m,\u001b[0m \u001b[0m_\u001b[0m \u001b[1;33m=\u001b[0m \u001b[0mself\u001b[0m\u001b[1;33m.\u001b[0m\u001b[0m_standardize_user_data\u001b[0m\u001b[1;33m(\u001b[0m\u001b[0mx\u001b[0m\u001b[1;33m)\u001b[0m\u001b[1;33m\u001b[0m\u001b[0m\n\u001b[0m\u001b[0;32m   1153\u001b[0m         \u001b[1;32mif\u001b[0m \u001b[0mself\u001b[0m\u001b[1;33m.\u001b[0m\u001b[0mstateful\u001b[0m\u001b[1;33m:\u001b[0m\u001b[1;33m\u001b[0m\u001b[0m\n\u001b[0;32m   1154\u001b[0m             \u001b[1;32mif\u001b[0m \u001b[0mx\u001b[0m\u001b[1;33m[\u001b[0m\u001b[1;36m0\u001b[0m\u001b[1;33m]\u001b[0m\u001b[1;33m.\u001b[0m\u001b[0mshape\u001b[0m\u001b[1;33m[\u001b[0m\u001b[1;36m0\u001b[0m\u001b[1;33m]\u001b[0m \u001b[1;33m>\u001b[0m \u001b[0mbatch_size\u001b[0m \u001b[1;32mand\u001b[0m \u001b[0mx\u001b[0m\u001b[1;33m[\u001b[0m\u001b[1;36m0\u001b[0m\u001b[1;33m]\u001b[0m\u001b[1;33m.\u001b[0m\u001b[0mshape\u001b[0m\u001b[1;33m[\u001b[0m\u001b[1;36m0\u001b[0m\u001b[1;33m]\u001b[0m \u001b[1;33m%\u001b[0m \u001b[0mbatch_size\u001b[0m \u001b[1;33m!=\u001b[0m \u001b[1;36m0\u001b[0m\u001b[1;33m:\u001b[0m\u001b[1;33m\u001b[0m\u001b[0m\n",
      "\u001b[1;32mC:\\local\\Anaconda3\\lib\\site-packages\\keras\\engine\\training.py\u001b[0m in \u001b[0;36m_standardize_user_data\u001b[1;34m(self, x, y, sample_weight, class_weight, check_array_lengths, batch_size)\u001b[0m\n\u001b[0;32m    752\u001b[0m             \u001b[0mfeed_input_shapes\u001b[0m\u001b[1;33m,\u001b[0m\u001b[1;33m\u001b[0m\u001b[0m\n\u001b[0;32m    753\u001b[0m             \u001b[0mcheck_batch_axis\u001b[0m\u001b[1;33m=\u001b[0m\u001b[1;32mFalse\u001b[0m\u001b[1;33m,\u001b[0m  \u001b[1;31m# Don't enforce the batch size.\u001b[0m\u001b[1;33m\u001b[0m\u001b[0m\n\u001b[1;32m--> 754\u001b[1;33m             exception_prefix='input')\n\u001b[0m\u001b[0;32m    755\u001b[0m \u001b[1;33m\u001b[0m\u001b[0m\n\u001b[0;32m    756\u001b[0m         \u001b[1;32mif\u001b[0m \u001b[0my\u001b[0m \u001b[1;32mis\u001b[0m \u001b[1;32mnot\u001b[0m \u001b[1;32mNone\u001b[0m\u001b[1;33m:\u001b[0m\u001b[1;33m\u001b[0m\u001b[0m\n",
      "\u001b[1;32mC:\\local\\Anaconda3\\lib\\site-packages\\keras\\engine\\training_utils.py\u001b[0m in \u001b[0;36mstandardize_input_data\u001b[1;34m(data, names, shapes, check_batch_axis, exception_prefix)\u001b[0m\n\u001b[0;32m    134\u001b[0m                             \u001b[1;34m': expected '\u001b[0m \u001b[1;33m+\u001b[0m \u001b[0mnames\u001b[0m\u001b[1;33m[\u001b[0m\u001b[0mi\u001b[0m\u001b[1;33m]\u001b[0m \u001b[1;33m+\u001b[0m \u001b[1;34m' to have shape '\u001b[0m \u001b[1;33m+\u001b[0m\u001b[1;33m\u001b[0m\u001b[0m\n\u001b[0;32m    135\u001b[0m                             \u001b[0mstr\u001b[0m\u001b[1;33m(\u001b[0m\u001b[0mshape\u001b[0m\u001b[1;33m)\u001b[0m \u001b[1;33m+\u001b[0m \u001b[1;34m' but got array with shape '\u001b[0m \u001b[1;33m+\u001b[0m\u001b[1;33m\u001b[0m\u001b[0m\n\u001b[1;32m--> 136\u001b[1;33m                             str(data_shape))\n\u001b[0m\u001b[0;32m    137\u001b[0m     \u001b[1;32mreturn\u001b[0m \u001b[0mdata\u001b[0m\u001b[1;33m\u001b[0m\u001b[0m\n\u001b[0;32m    138\u001b[0m \u001b[1;33m\u001b[0m\u001b[0m\n",
      "\u001b[1;31mValueError\u001b[0m: Error when checking input: expected sequential_34_input to have shape (10542921, 1) but got array with shape (1000, 1)"
     ]
    }
   ],
   "source": [
    "model.p\n",
    "\n",
    "y_pred=model.predict(x_pred)\n",
    "print(y_pred.shape)\n",
    "fig = plt.figure(figsize=(20,10))\n",
    "#for ix,items in zip([1,2],x):\n",
    "ax = fig.add_subplot(2,1,ix)\n",
    "ax.set_title('Time vs Patient Data')\n",
    "ax.set_xlabel('Time(in sec)')\n",
    "ax.set_ylabel('Patient Data')\n",
    "ax.plot(time,y_pred,label='abdominal movement (stretch sensor)_pred')\n",
    "ax.plot(time,y_true,label='abdominal movement (stretch sensor)_true')\n",
    "\n",
    "\n",
    "\n",
    "ax.legend()\n"
   ]
  },
  {
   "cell_type": "code",
   "execution_count": null,
   "metadata": {
    "collapsed": true
   },
   "outputs": [],
   "source": [
    "history = model.fit(X, Y, validation_split=0.33, epochs=150, batch_size=10, verbose=0)\n",
    "# list all data in history\n",
    "print(history.history.keys())\n",
    "# summarize history for accuracy\n",
    "plt.plot(history.history['acc'])\n",
    "plt.plot(history.history['val_acc'])\n",
    "plt.title('model accuracy')\n",
    "plt.ylabel('accuracy')\n",
    "plt.xlabel('epoch')\n",
    "plt.legend(['train', 'test'], loc='upper left')\n",
    "plt.show()\n",
    "# summarize history for loss\n",
    "plt.plot(history.history['loss'])\n",
    "plt.plot(history.history['val_loss'])\n",
    "plt.title('model loss')\n",
    "plt.ylabel('loss')\n",
    "plt.xlabel('epoch')\n",
    "plt.legend(['train', 'test'], loc='upper left')\n",
    "plt.show()"
   ]
  },
  {
   "cell_type": "code",
   "execution_count": null,
   "metadata": {
    "collapsed": true
   },
   "outputs": [],
   "source": [
    "from sklearn.model_selection import TimeSeriesSplit\n",
    "\n",
    "X = x['mic (trachea)'][:10000]\n",
    "print(X.shape)\n",
    "[:10000]\n",
    "tscv = TimeSeriesSplit(n_splits=3)\n",
    "print(tscv)  \n",
    "\n",
    "#for train, test in tscv.split(X):\n",
    "    #print(train)\n",
    "    #print(y[test])\n",
    "model = oneDC_model()\n",
    "#x_ = X[train].reshape(1,len(train),1)\n",
    "\n",
    "print(x_.shape)\n",
    "y_=y[train].reshape(1,2500)\n",
    "model.fit(X,y,epochs=1,batch_size=1000, verbose=2)\n",
    "\n",
    "pred =model.predict(X[test])\n",
    "#print('*****')\n",
    "#print(pred)\n",
    "scores = model.evaluate(pred,y[test])\n",
    "\n",
    "#print(model.metrics_names)\n",
    "print(scores[1])\n",
    "#[1],scores[1])\n",
    "print(model.metrics_names[0],scores[0])\n",
    "\n",
    "    #print(\"%s %s\" % (y[test], pred))\n"
   ]
  },
  {
   "cell_type": "code",
   "execution_count": null,
   "metadata": {
    "collapsed": true
   },
   "outputs": [],
   "source": []
  }
 ],
 "metadata": {
  "kernelspec": {
   "display_name": "Python 3",
   "language": "python",
   "name": "python3"
  },
  "language_info": {
   "codemirror_mode": {
    "name": "ipython",
    "version": 3
   },
   "file_extension": ".py",
   "mimetype": "text/x-python",
   "name": "python",
   "nbconvert_exporter": "python",
   "pygments_lexer": "ipython3",
   "version": "3.6.1"
  }
 },
 "nbformat": 4,
 "nbformat_minor": 2
}

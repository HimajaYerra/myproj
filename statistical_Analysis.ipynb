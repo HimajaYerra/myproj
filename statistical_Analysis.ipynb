{
 "cells": [
  {
   "cell_type": "code",
   "execution_count": 2,
   "metadata": {},
   "outputs": [
    {
     "name": "stderr",
     "output_type": "stream",
     "text": [
      "C:\\local\\Anaconda3\\lib\\site-packages\\statsmodels\\compat\\pandas.py:56: FutureWarning: The pandas.core.datetools module is deprecated and will be removed in a future version. Please use the pandas.tseries module instead.\n",
      "  from pandas.core import datetools\n",
      "C:\\local\\Anaconda3\\lib\\site-packages\\h5py\\__init__.py:34: FutureWarning: Conversion of the second argument of issubdtype from `float` to `np.floating` is deprecated. In future, it will be treated as `np.float64 == np.dtype(float).type`.\n",
      "  from ._conv import register_converters as _register_converters\n",
      "Using TensorFlow backend.\n"
     ]
    }
   ],
   "source": [
    "## Load in the data\n",
    "import numpy as np\n",
    "import matplotlib.pyplot as plt\n",
    "import scipy.io\n",
    "import time\n",
    "import pandas as pd\n",
    "import seaborn as sns\n",
    "import statsmodels.api as sm\n",
    "from statsmodels.graphics.tsaplots import plot_pacf\n",
    "import tensorflow\n",
    "import keras\n",
    "import datetime\n",
    "from keras.models import Sequential\n",
    "from keras.layers import Dense\n",
    "from keras.wrappers.scikit_learn import KerasRegressor\n",
    "from sklearn.model_selection import cross_val_score\n",
    "from sklearn.model_selection import KFold\n",
    "from sklearn.preprocessing import StandardScaler\n",
    "from sklearn.pipeline import Pipeline\n",
    "%matplotlib inline"
   ]
  },
  {
   "cell_type": "code",
   "execution_count": 3,
   "metadata": {
    "collapsed": true
   },
   "outputs": [],
   "source": [
    "columns=['seconds','mic (trachea)','abdominal movement (stretch sensor)','thorax movement (stretch sensor)']\n",
    "data_test=['seconds','thorax movement (stretch sensor)','abdominal movement (stretch sensor)','mic (right of trachea)','mic 2 (left of trachea)','mic (trachea)',]"
   ]
  },
  {
   "cell_type": "raw",
   "metadata": {},
   "source": [
    "to load file from GCS -- need to fix bugs\n",
    "myfile=\"overnight_all_compressed_new.npz\"\n",
    "!curl -o $myfile https://storage.cloud.google.com/itsmehimaja/overnight_all_compressed_new.npz\n",
    "    \n",
    "d= np.load(myfile)"
   ]
  },
  {
   "cell_type": "code",
   "execution_count": 4,
   "metadata": {
    "collapsed": true
   },
   "outputs": [],
   "source": [
    "data = np.load('overnight_all_compressed.npz')\n"
   ]
  },
  {
   "cell_type": "code",
   "execution_count": 5,
   "metadata": {
    "collapsed": true,
    "scrolled": true
   },
   "outputs": [],
   "source": [
    "final_array=np.array([])\n",
    "\n",
    "a = data['arr_0']\n",
    "b = data['arr_1']\n",
    "c = data['arr_2']\n",
    "d= c[:,(0,5,2,1)]\n",
    "\n",
    "#change the below numpy array to stack required files and perform modelling on\n",
    "final_array=np.vstack([b,d])"
   ]
  },
  {
   "cell_type": "markdown",
   "metadata": {},
   "source": [
    "Create a dataframe from the above array"
   ]
  },
  {
   "cell_type": "code",
   "execution_count": 6,
   "metadata": {
    "collapsed": true
   },
   "outputs": [],
   "source": [
    "#create a dataframe of required file to check stats\n",
    "df = pd.DataFrame(final_array,columns=columns)\n",
    "#change below to see stats tests for different files\n",
    "df = pd.DataFrame(d,columns=columns)"
   ]
  },
  {
   "cell_type": "code",
   "execution_count": 24,
   "metadata": {},
   "outputs": [
    {
     "data": {
      "text/plain": [
       "[<matplotlib.lines.Line2D at 0x2285d7ec3c8>]"
      ]
     },
     "execution_count": 24,
     "metadata": {},
     "output_type": "execute_result"
    },
    {
     "data": {
      "image/png": "[encoded data removed]",
      "text/plain": [
       "<matplotlib.figure.Figure at 0x2285c666080>"
      ]
     },
     "metadata": {},
     "output_type": "display_data"
    }
   ],
   "source": [
    "plt.plot(b[::,0],b[::,2])"
   ]
  },
  {
   "cell_type": "code",
   "execution_count": null,
   "metadata": {},
   "outputs": [],
   "source": [
    "#to check loaded data correcteness by simple plots\n",
    "fig = plt.figure(figsize=(20,10))\n",
    "ax = fig.add_subplot(1,1,1)\n",
    "ax.plot(b[:,0],b[:,1],label='mic (trachea)')\n",
    "ax.set_ylabel('Patient Data')\n",
    "ax.set_xlabel('time(in sec)')\n",
    "ax.legend()"
   ]
  },
  {
   "cell_type": "markdown",
   "metadata": {},
   "source": [
    "http://barnesanalytics.com/analyzing-multivariate-time-series-using-arimax-in-python-with-statsmodels \n",
    "\n",
    "\n",
    "http://barnesanalytics.com/basics-of-arima-models-with-statsmodels-in-python"
   ]
  },
  {
   "cell_type": "markdown",
   "metadata": {},
   "source": [
    "see the adfuller test results for above data to check stationarity of the series\n",
    "\n",
    " As P-value is less than 0.05 which is that the series does not have a unit root and thus the series is stationary."
   ]
  },
  {
   "cell_type": "code",
   "execution_count": 7,
   "metadata": {},
   "outputs": [
    {
     "name": "stdout",
     "output_type": "stream",
     "text": [
      "(-1057.2883578926783, 0.0, 10, 15437767, {'1%': -3.4303504235911246, '5%': -2.861540187222691, '10%': -2.5667700996517295})\n",
      "(-12.960209825163066, 3.2371959786630156e-24, 10, 15437767, {'1%': -3.4303504235911246, '5%': -2.861540187222691, '10%': -2.5667700996517295})\n",
      "(-9.14317950348075, 2.813290162100839e-15, 10, 15437767, {'1%': -3.4303504235911246, '5%': -2.861540187222691, '10%': -2.5667700996517295})\n"
     ]
    }
   ],
   "source": [
    "#to see the ADFuller test results - to verify the stationarity of data\n",
    "print(sm.tsa.stattools.adfuller(df['mic (trachea)'],autolag=None,maxlag=10))\n",
    "print(sm.tsa.stattools.adfuller(df['abdominal movement (stretch sensor)'],autolag=None,maxlag=10))\n",
    "print(sm.tsa.stattools.adfuller(df['thorax movement (stretch sensor)'],autolag=None,maxlag=10))\n",
    "#output - Test static, p-value, no.of lags, no.of observations ..."
   ]
  },
  {
   "cell_type": "markdown",
   "metadata": {},
   "source": [
    "#### A naive regression on above time-series to see the model results for thorax movement\n",
    "X - Mic trachea\n",
    "Y - Thorax Movement --> gave p-value of 0.04 indicating model fits slight closely but R - value is zero surprisingly -- need to understand this"
   ]
  },
  {
   "cell_type": "code",
   "execution_count": 10,
   "metadata": {},
   "outputs": [
    {
     "name": "stdout",
     "output_type": "stream",
     "text": [
      "                            OLS Regression Results                            \n",
      "==============================================================================\n",
      "Dep. Variable:          mic (trachea)   R-squared:                       0.000\n",
      "Model:                            OLS   Adj. R-squared:                  0.000\n",
      "Method:                 Least Squares   F-statistic:                     4.234\n",
      "Date:                Wed, 15 Aug 2018   Prob (F-statistic):             0.0396\n",
      "Time:                        12:13:54   Log-Likelihood:             2.7373e+07\n",
      "No. Observations:            15437778   AIC:                        -5.475e+07\n",
      "Df Residuals:                15437776   BIC:                        -5.475e+07\n",
      "Df Model:                           1                                         \n",
      "Covariance Type:            nonrobust                                         \n",
      "====================================================================================================\n",
      "                                       coef    std err          t      P>|t|      [0.025      0.975]\n",
      "----------------------------------------------------------------------------------------------------\n",
      "thorax movement (stretch sensor)     0.0003      0.000      2.058      0.040     1.4e-05       0.001\n",
      "const                                1.2488      0.000   6978.437      0.000       1.248       1.249\n",
      "==============================================================================\n",
      "Omnibus:                  6711389.738   Durbin-Watson:                   1.393\n",
      "Prob(Omnibus):                  0.000   Jarque-Bera (JB):       7182127229.143\n",
      "Skew:                           0.530   Prob(JB):                         0.00\n",
      "Kurtosis:                     108.662   Cond. No.                         35.0\n",
      "==============================================================================\n",
      "\n",
      "Warnings:\n",
      "[1] Standard Errors assume that the covariance matrix of the errors is correctly specified.\n"
     ]
    }
   ],
   "source": [
    "df['const']=1 \n",
    "model1=sm.OLS(endog=df['mic (trachea)'],exog=df[['thorax movement (stretch sensor)','const']])\n",
    "results1=model1.fit()\n",
    "print(results1.summary())\n"
   ]
  },
  {
   "cell_type": "markdown",
   "metadata": {},
   "source": [
    "#### A naive regression on above time-series to see the model results for abdominal movement\n",
    "X - Mic trachea\n",
    "Y - Abdominal Movement --> gave p-value of 0.00 and R-value is zero surprisingly "
   ]
  },
  {
   "cell_type": "code",
   "execution_count": 11,
   "metadata": {},
   "outputs": [
    {
     "name": "stdout",
     "output_type": "stream",
     "text": [
      "                            OLS Regression Results                            \n",
      "==============================================================================\n",
      "Dep. Variable:          mic (trachea)   R-squared:                       0.000\n",
      "Model:                            OLS   Adj. R-squared:                  0.000\n",
      "Method:                 Least Squares   F-statistic:                     65.63\n",
      "Date:                Wed, 15 Aug 2018   Prob (F-statistic):           5.45e-16\n",
      "Time:                        12:14:30   Log-Likelihood:             2.7373e+07\n",
      "No. Observations:            15437778   AIC:                        -5.475e+07\n",
      "Df Residuals:                15437776   BIC:                        -5.475e+07\n",
      "Df Model:                           1                                         \n",
      "Covariance Type:            nonrobust                                         \n",
      "=======================================================================================================\n",
      "                                          coef    std err          t      P>|t|      [0.025      0.975]\n",
      "-------------------------------------------------------------------------------------------------------\n",
      "abdominal movement (stretch sensor)    -0.0017      0.000     -8.101      0.000      -0.002      -0.001\n",
      "const                                   1.2511      0.000   5314.487      0.000       1.251       1.252\n",
      "==============================================================================\n",
      "Omnibus:                  6723652.499   Durbin-Watson:                   1.393\n",
      "Prob(Omnibus):                  0.000   Jarque-Bera (JB):       7183637636.838\n",
      "Skew:                           0.535   Prob(JB):                         0.00\n",
      "Kurtosis:                     108.673   Cond. No.                         45.2\n",
      "==============================================================================\n",
      "\n",
      "Warnings:\n",
      "[1] Standard Errors assume that the covariance matrix of the errors is correctly specified.\n"
     ]
    }
   ],
   "source": [
    "df['const']=1 \n",
    "model1=sm.OLS(endog=df['mic (trachea)'],exog=df[['abdominal movement (stretch sensor)','const']])\n",
    "results1=model1.fit()\n",
    "print(results1.summary())"
   ]
  },
  {
   "cell_type": "markdown",
   "metadata": {},
   "source": [
    "lets try differencing the abdominal stretch series data and applying Naive regeression as below -- p-value & R-value both are zero"
   ]
  },
  {
   "cell_type": "code",
   "execution_count": 15,
   "metadata": {},
   "outputs": [
    {
     "name": "stdout",
     "output_type": "stream",
     "text": [
      "                            OLS Regression Results                            \n",
      "==============================================================================\n",
      "Dep. Variable:          mic (trachea)   R-squared:                       0.000\n",
      "Model:                            OLS   Adj. R-squared:                  0.000\n",
      "Method:                 Least Squares   F-statistic:                     65.63\n",
      "Date:                Wed, 15 Aug 2018   Prob (F-statistic):           5.45e-16\n",
      "Time:                        12:21:16   Log-Likelihood:             2.7373e+07\n",
      "No. Observations:            15437778   AIC:                        -5.475e+07\n",
      "Df Residuals:                15437776   BIC:                        -5.475e+07\n",
      "Df Model:                           1                                         \n",
      "Covariance Type:            nonrobust                                         \n",
      "=======================================================================================================\n",
      "                                          coef    std err          t      P>|t|      [0.025      0.975]\n",
      "-------------------------------------------------------------------------------------------------------\n",
      "abdominal movement (stretch sensor)    -0.0017      0.000     -8.101      0.000      -0.002      -0.001\n",
      "const                                   1.2511      0.000   5314.487      0.000       1.251       1.252\n",
      "==============================================================================\n",
      "Omnibus:                  6723652.499   Durbin-Watson:                   1.393\n",
      "Prob(Omnibus):                  0.000   Jarque-Bera (JB):       7183637636.838\n",
      "Skew:                           0.535   Prob(JB):                         0.00\n",
      "Kurtosis:                     108.673   Cond. No.                         45.2\n",
      "==============================================================================\n",
      "\n",
      "Warnings:\n",
      "[1] Standard Errors assume that the covariance matrix of the errors is correctly specified.\n"
     ]
    }
   ],
   "source": [
    "df['diffS']=df['mic (trachea)'].diff() \n",
    "df['diffM']=df['abdominal movement (stretch sensor)'].diff() \n",
    "model2=sm.OLS(endog=df['diffS'].dropna(),exog=df[['diffM','const']].dropna()) \n",
    "results2=model1.fit() \n",
    "print(results2.summary())"
   ]
  },
  {
   "cell_type": "code",
   "execution_count": 9,
   "metadata": {
    "scrolled": true
   },
   "outputs": [
    {
     "name": "stdout",
     "output_type": "stream",
     "text": [
      "                            OLS Regression Results                            \n",
      "==============================================================================\n",
      "Dep. Variable:          mic (trachea)   R-squared:                       0.000\n",
      "Model:                            OLS   Adj. R-squared:                  0.000\n",
      "Method:                 Least Squares   F-statistic:                     65.63\n",
      "Date:                Wed, 15 Aug 2018   Prob (F-statistic):           5.45e-16\n",
      "Time:                        12:13:31   Log-Likelihood:             2.7373e+07\n",
      "No. Observations:            15437778   AIC:                        -5.475e+07\n",
      "Df Residuals:                15437776   BIC:                        -5.475e+07\n",
      "Df Model:                           1                                         \n",
      "Covariance Type:            nonrobust                                         \n",
      "=======================================================================================================\n",
      "                                          coef    std err          t      P>|t|      [0.025      0.975]\n",
      "-------------------------------------------------------------------------------------------------------\n",
      "abdominal movement (stretch sensor)    -0.0017      0.000     -8.101      0.000      -0.002      -0.001\n",
      "const                                   1.2511      0.000   5314.487      0.000       1.251       1.252\n",
      "==============================================================================\n",
      "Omnibus:                  6723652.499   Durbin-Watson:                   1.393\n",
      "Prob(Omnibus):                  0.000   Jarque-Bera (JB):       7183637636.838\n",
      "Skew:                           0.535   Prob(JB):                         0.00\n",
      "Kurtosis:                     108.673   Cond. No.                         45.2\n",
      "==============================================================================\n",
      "\n",
      "Warnings:\n",
      "[1] Standard Errors assume that the covariance matrix of the errors is correctly specified.\n"
     ]
    }
   ],
   "source": [
    "df['diffS']=df['mic (trachea)'].diff() \n",
    "df['diffM']=df['abdominal movement (stretch sensor)'].diff() \n",
    "model2=sm.OLS(endog=df['diffS'].dropna(),exog=df[['diffM','const']].dropna()) \n",
    "results2=model1.fit() \n",
    "print(results2.summary())\n"
   ]
  },
  {
   "cell_type": "code",
   "execution_count": 16,
   "metadata": {},
   "outputs": [
    {
     "name": "stdout",
     "output_type": "stream",
     "text": [
      "\n",
      "Granger Causality\n",
      "number of lags (no zero) 1\n",
      "ssr based F test:         F=33.1971 , p=0.0000  , df_denom=15437774, df_num=1\n",
      "ssr based chi2 test:   chi2=33.1971 , p=0.0000  , df=1\n",
      "likelihood ratio test: chi2=33.1971 , p=0.0000  , df=1\n",
      "parameter F test:         F=33.1971 , p=0.0000  , df_denom=15437774, df_num=1\n",
      "{1: ({'ssr_ftest': (33.19710924928564, 8.327581172989513e-09, 15437774.0, 1), 'ssr_chi2test': (33.19711570043123, 8.32739608019971e-09, 1), 'lrtest': (33.1970901042223, 8.327505696797156e-09, 1), 'params_ftest': (33.19711928837038, 8.327538174348094e-09, 15437774.0, 1)}, [<statsmodels.regression.linear_model.RegressionResultsWrapper object at 0x000002285C671F28>, <statsmodels.regression.linear_model.RegressionResultsWrapper object at 0x000002285C6830B8>, array([[0., 1., 0.]])])}\n",
      "\n",
      "Granger Causality\n",
      "number of lags (no zero) 1\n",
      "ssr based F test:         F=17.8261 , p=0.0000  , df_denom=15437774, df_num=1\n",
      "ssr based chi2 test:   chi2=17.8261 , p=0.0000  , df=1\n",
      "likelihood ratio test: chi2=17.8261 , p=0.0000  , df=1\n",
      "parameter F test:         F=17.8261 , p=0.0000  , df_denom=15437774, df_num=1\n",
      "{1: ({'ssr_ftest': (17.82610687775702, 2.4204079849396694e-05, 15437774.0, 1), 'ssr_chi2test': (17.82611034187825, 2.4203897536818988e-05, 1), 'lrtest': (17.82608112692833, 2.4204269157255414e-05, 1), 'params_ftest': (17.826087889531934, 2.4204321381550716e-05, 15437774.0, 1)}, [<statsmodels.regression.linear_model.RegressionResultsWrapper object at 0x000002285C671F98>, <statsmodels.regression.linear_model.RegressionResultsWrapper object at 0x000002285C671F28>, array([[0., 1., 0.]])])}\n",
      "\n",
      "Granger Causality\n",
      "number of lags (no zero) 1\n",
      "ssr based F test:         F=58.2572 , p=0.0000  , df_denom=15437774, df_num=1\n",
      "ssr based chi2 test:   chi2=58.2572 , p=0.0000  , df=1\n",
      "likelihood ratio test: chi2=58.2571 , p=0.0000  , df=1\n",
      "parameter F test:         F=58.2572 , p=0.0000  , df_denom=15437774, df_num=1\n",
      "{1: ({'ssr_ftest': (58.25723062663141, 2.3000318827637075e-14, 15437774.0, 1), 'ssr_chi2test': (58.25724194767367, 2.2998879327148452e-14, 1), 'lrtest': (58.25706070661545, 2.3000998236396887e-14, 1), 'params_ftest': (58.257159240297874, 2.300115343997023e-14, 15437774.0, 1)}, [<statsmodels.regression.linear_model.RegressionResultsWrapper object at 0x000002285C671F60>, <statsmodels.regression.linear_model.RegressionResultsWrapper object at 0x000002285C671F98>, array([[0., 1., 0.]])])}\n",
      "\n",
      "Granger Causality\n",
      "number of lags (no zero) 1\n",
      "ssr based F test:         F=2.6688  , p=0.1023  , df_denom=15437774, df_num=1\n",
      "ssr based chi2 test:   chi2=2.6688  , p=0.1023  , df=1\n",
      "likelihood ratio test: chi2=2.6688  , p=0.1023  , df=1\n",
      "parameter F test:         F=2.6688  , p=0.1023  , df_denom=15437774, df_num=1\n",
      "{1: ({'ssr_ftest': (2.6687663915228126, 0.10233533662354993, 15437774.0, 1), 'ssr_chi2test': (2.6687669101402745, 0.10233528283642206, 1), 'lrtest': (2.6687806844711304, 0.10233439709322145, 1), 'params_ftest': (2.6687803896637177, 0.1023344363070722, 15437774.0, 1)}, [<statsmodels.regression.linear_model.RegressionResultsWrapper object at 0x000002285C671BE0>, <statsmodels.regression.linear_model.RegressionResultsWrapper object at 0x000002285C671CC0>, array([[0., 1., 0.]])])}\n"
     ]
    }
   ],
   "source": [
    "print(sm.tsa.stattools.grangercausalitytests(df[['mic (trachea)','abdominal movement (stretch sensor)']].dropna(),1))\n",
    "print(sm.tsa.stattools.grangercausalitytests(df[['abdominal movement (stretch sensor)','mic (trachea)']].dropna(),1))\n",
    "print(sm.tsa.stattools.grangercausalitytests(df[['thorax movement (stretch sensor)','mic (trachea)']].dropna(),1))\n",
    "print(sm.tsa.stattools.grangercausalitytests(df[['mic (trachea)','thorax movement (stretch sensor)']].dropna(),1))"
   ]
  },
  {
   "cell_type": "markdown",
   "metadata": {},
   "source": [
    "#### So from all the results above we can see that there is causality between Mic Trachea & Thorax movement. Lets try fitting ARIMAX on them. Before that lets index the time-series with the Datetime index.\n"
   ]
  },
  {
   "cell_type": "markdown",
   "metadata": {},
   "source": [
    "Get the timestamp given the no.of milliseconds"
   ]
  },
  {
   "cell_type": "code",
   "execution_count": 19,
   "metadata": {
    "collapsed": true
   },
   "outputs": [],
   "source": [
    "def get_time(ml):\n",
    "    milliseconds = (str)(ml % 1000)\n",
    "    seconds = (int) ((ml / 1000) % 60)\n",
    "    minutes = (int) ((ml / (1000*60)) % 60)\n",
    "    hours   = (int) ((ml / (1000*60*60)) % 24)\n",
    "    hours = \"0\" + (str)(hours) if(hours < 10)  else (str)(hours)\n",
    "    minutes = \"0\" + (str)(minutes) if(minutes < 10)  else (str)(minutes)\n",
    "    seconds =\"0\" + (str)(seconds) if (seconds < 10)  else (str)(seconds)\n",
    "    \n",
    "    return (' '+ hours + \":\" + minutes + \":\" + seconds + \".\" + milliseconds+\"000\")\n",
    "\n",
    "#print('*********'+str(4*60*60*1000+17*60*1000+17*1000+778))\n",
    "#print('**************'+ str(milliseconds))\n",
    "#index=pd.date_range(start=('2018-05-05 01:00:00.000'), end=get_time(df.shape[0]), freq='1MS').tz_localize('UTC')\n",
    "#index = df.between_time(start_time='2018-05-05 01:00:00.000', end_time=get_time(df.shape[0]),include_start=True,include_end=True)"
   ]
  },
  {
   "cell_type": "code",
   "execution_count": 20,
   "metadata": {
    "collapsed": true
   },
   "outputs": [],
   "source": [
    "start = '2018-05-05 00:00:00.000' # set a random date for current file\n",
    "#end = '2018-05-05 00:00:00.100'\n",
    "end_date = start.split(' ')[0]\n",
    "end =end_date+get_time(df.shape[0]-1)\n",
    "times = pd.DatetimeIndex(freq='1ms', start=start, end=end) # generate timestamps to use as the indexes\n",
    "df['index']=times\n",
    "df =df.set_index('index') # set index to our dataframe"
   ]
  },
  {
   "cell_type": "markdown",
   "metadata": {},
   "source": [
    "#### Now fit the ARIMAX model for the estimation of Thorax movement given mic trachea"
   ]
  },
  {
   "cell_type": "code",
   "execution_count": 21,
   "metadata": {},
   "outputs": [
    {
     "name": "stderr",
     "output_type": "stream",
     "text": [
      "C:\\local\\Anaconda3\\lib\\site-packages\\statsmodels\\tsa\\kalmanf\\kalmanfilter.py:646: FutureWarning: Conversion of the second argument of issubdtype from `float` to `np.floating` is deprecated. In future, it will be treated as `np.float64 == np.dtype(float).type`.\n",
      "  if issubdtype(paramsdtype, float):\n",
      "C:\\local\\Anaconda3\\lib\\site-packages\\statsmodels\\tsa\\kalmanf\\kalmanfilter.py:650: FutureWarning: Conversion of the second argument of issubdtype from `complex` to `np.complexfloating` is deprecated. In future, it will be treated as `np.complex128 == np.dtype(complex).type`.\n",
      "  elif issubdtype(paramsdtype, complex):\n"
     ]
    },
    {
     "name": "stdout",
     "output_type": "stream",
     "text": [
      "                             ARIMA Model Results                              \n",
      "==============================================================================\n",
      "Dep. Variable:        D.mic (trachea)   No. Observations:             15437777\n",
      "Model:                 ARIMA(1, 1, 0)   Log Likelihood            26730626.086\n",
      "Method:                       css-mle   S.D. of innovations              0.043\n",
      "Date:                Wed, 15 Aug 2018   AIC                      -53461244.172\n",
      "Time:                        12:33:20   BIC                      -53461185.963\n",
      "Sample:                    05-05-2018   HQIC                     -53461229.720\n",
      "                         - 05-05-2018                                         \n",
      "====================================================================================================\n",
      "                                       coef    std err          z      P>|z|      [0.025      0.975]\n",
      "----------------------------------------------------------------------------------------------------\n",
      "const                             2.154e-05      0.000      0.170      0.865      -0.000       0.000\n",
      "thorax movement (stretch sensor) -1.733e-05      0.000     -0.170      0.865      -0.000       0.000\n",
      "ar.L1.D.mic (trachea)               -0.4690      0.000  -2086.652      0.000      -0.469      -0.469\n",
      "                                    Roots                                    \n",
      "=============================================================================\n",
      "                 Real           Imaginary           Modulus         Frequency\n",
      "-----------------------------------------------------------------------------\n",
      "AR.1           -2.1320           +0.0000j            2.1320            0.5000\n",
      "-----------------------------------------------------------------------------\n"
     ]
    }
   ],
   "source": [
    "df['lag']=df['diffM'].shift()\n",
    "#df.dropna(inplace=True)\n",
    "model3=sm.tsa.ARIMA(endog=df['mic (trachea)'],exog=df['thorax movement (stretch sensor)'],order=[1,1,0])\n",
    "results3=model3.fit()\n",
    "print(results3.summary())"
   ]
  },
  {
   "cell_type": "code",
   "execution_count": 22,
   "metadata": {},
   "outputs": [
    {
     "name": "stderr",
     "output_type": "stream",
     "text": [
      "C:\\local\\Anaconda3\\lib\\site-packages\\statsmodels\\tsa\\kalmanf\\kalmanfilter.py:577: FutureWarning: Conversion of the second argument of issubdtype from `float` to `np.floating` is deprecated. In future, it will be treated as `np.float64 == np.dtype(float).type`.\n",
      "  if issubdtype(paramsdtype, float):\n"
     ]
    }
   ],
   "source": [
    "y_pred=model3.predict(b[::,1])"
   ]
  },
  {
   "cell_type": "markdown",
   "metadata": {},
   "source": [
    "Below is the plot of the predicted values by our model for unseen data true values for this can be found in the beginning of the file"
   ]
  },
  {
   "cell_type": "code",
   "execution_count": 23,
   "metadata": {},
   "outputs": [
    {
     "data": {
      "text/plain": [
       "[<matplotlib.lines.Line2D at 0x2285c52d588>]"
      ]
     },
     "execution_count": 23,
     "metadata": {},
     "output_type": "execute_result"
    },
    {
     "data": {
      "image/png": "[encoded data removed]",
      "text/plain": [
       "<matplotlib.figure.Figure at 0x2285c666048>"
      ]
     },
     "metadata": {},
     "output_type": "display_data"
    }
   ],
   "source": [
    "plt.plot(y_pred)\n"
   ]
  },
  {
   "cell_type": "code",
   "execution_count": null,
   "metadata": {},
   "outputs": [],
   "source": []
  },
  {
   "cell_type": "code",
   "execution_count": null,
   "metadata": {
    "collapsed": true
   },
   "outputs": [],
   "source": [
    "print(Xtrain.shape)\n",
    "print(ytrain.shape)\n",
    "\n",
    "#Xtrain=Xtrain.reshape(-1,1)\n",
    "#ytrain=ytrain.reshape(-1,1)\n",
    "Xtest=Xtest.reshape(-1,1)"
   ]
  },
  {
   "cell_type": "code",
   "execution_count": null,
   "metadata": {
    "collapsed": true
   },
   "outputs": [],
   "source": [
    "X_train = df[:,1]\n",
    "Y_train = final_array[:,2]\n",
    "l= len(X_train)\n",
    "Xtrain = X_train[:round(l*0.7)]\n",
    "Xtest = X_train[round(l*0.7)+1:]\n",
    "ytrain = Y_train[:round(l*0.7)]\n",
    "ytest = Y_train[round(l*0.7)+1:]"
   ]
  },
  {
   "cell_type": "code",
   "execution_count": null,
   "metadata": {
    "collapsed": true
   },
   "outputs": [],
   "source": [
    "window_size = 1000\n",
    "leftover = len(Xtrain)%window_size\n",
    "\n",
    "X_reshaped_train=(Xtrain[:-leftover]).reshape(-1,window_size,1)\n",
    "print(X_reshaped_train.shape)\n",
    "\n",
    "y_reshaped_train=(ytrain[:-leftover]).reshape(-1,window_size,1)\n",
    "\n",
    "leftover_test = len(Xtest)%window_size\n",
    "\n",
    "X_reshaped_test=(Xtest[:-leftover_test]).reshape(-1,window_size,1)\n",
    "y_reshaped_test=(ytest[:-leftover_test]).reshape(-1,window_size,1)\n"
   ]
  },
  {
   "cell_type": "code",
   "execution_count": null,
   "metadata": {
    "collapsed": true
   },
   "outputs": [],
   "source": [
    "from sklearn import datasets, linear_model\n",
    "from sklearn.metrics import mean_squared_error, r2_score\n",
    "\n",
    "regr = linear_model.LinearRegression()\n",
    "regr.fit(Xtrain,ytrain)\n",
    "y_pred = regr.predict(Xtest)"
   ]
  },
  {
   "cell_type": "code",
   "execution_count": null,
   "metadata": {
    "collapsed": true
   },
   "outputs": [],
   "source": [
    "plt.plot(ytest,  color='black')\n",
    "plt.plot(y_pred, color='blue')\n"
   ]
  },
  {
   "cell_type": "code",
   "execution_count": null,
   "metadata": {
    "collapsed": true
   },
   "outputs": [],
   "source": [
    "def baseline_model():\n",
    "    # create model\n",
    "    model = Sequential()\n",
    "    model.add(Dense(4,  kernel_initializer='normal', activation='relu'))\n",
    "    model.add(Dense(1, kernel_initializer='normal',activation='linear'))\n",
    "    # Compile model\n",
    "    model.compile(loss='mean_squared_error', optimizer='adam')\n",
    "    return model"
   ]
  },
  {
   "cell_type": "code",
   "execution_count": null,
   "metadata": {
    "collapsed": true
   },
   "outputs": [],
   "source": [
    "from keras.callbacks import EarlyStopping\n",
    "early_stopping = EarlyStopping(monitor='val_loss', patience=2)\n",
    "\n",
    "\n",
    "# Xtrain=(Xtrain).reshape(len(Xtrain),1,1)\n",
    "\n",
    "# ytrain=ytrain.reshape(len(ytrain),1,1)\n",
    "\n",
    "# Xtest=Xtest.reshape(len(Xtest),1,1)\n",
    "\n",
    "# ytest=ytest.reshape(len(ytest),1,1)\n",
    "\n",
    "validationData=(Xtest,ytest)\n",
    "'''\n",
    "print(X_train.shape)\n",
    "print(Y_train.shape)\n",
    "print(X_test.shape)\n",
    "print(Y_test.shape)'''\n",
    "print(Xtrain.shape)\n",
    "\n",
    "model=baseline_model()\n",
    "history = model.fit(X_reshaped_train,y_reshaped_train,\n",
    "                    validation_data=(X_reshaped_test, y_reshaped_test),\n",
    "                    epochs=3,batch_size=50,\n",
    "                    callbacks=[early_stopping])"
   ]
  },
  {
   "cell_type": "code",
   "execution_count": null,
   "metadata": {
    "collapsed": true
   },
   "outputs": [],
   "source": [
    "y_pred=model.predict(X_reshaped_train)\n",
    "y_pred_unravel=y_pred.reshape(-1,1)\n",
    "print(y_pred_unravel.shape)"
   ]
  },
  {
   "cell_type": "code",
   "execution_count": null,
   "metadata": {
    "collapsed": true
   },
   "outputs": [],
   "source": [
    "y_pred=model.predict(X_reshaped_train)\n",
    "y_pred.reshape(-1,1)\n",
    "print(y_pred.shape)\n",
    "y_pred= y_pred.reshape(-1,1)\n",
    "print(y_pred)\n",
    "fig = plt.figure(figsize=(20,10))\n",
    "#for ix,items in zip([1,2],x):\n",
    "ax = fig.add_subplot(2,1,1)\n",
    "ax.set_title('Time vs Patient Data')\n",
    "ax.set_xlabel('Time(in sec)')\n",
    "ax.set_ylabel('Patient Data')\n",
    "ax.plot(y_pred,label='abdominal movement (stretch sensor)_pred')\n",
    "ax.plot(y_reshaped_train.reshape(-1,1),label='abdominal movement (stretch sensor)_true')\n",
    "#ax.plot(final_array[:,2],label='abdominal movement (stretch sensor)_original')\n",
    "ax.legend()\n"
   ]
  },
  {
   "cell_type": "code",
   "execution_count": null,
   "metadata": {
    "collapsed": true
   },
   "outputs": [],
   "source": [
    "# fix random seed for reproducibility\n",
    "seed = 7\n",
    "numpy.random.seed(seed)\n",
    "# evaluate model with standardized dataset\n",
    "estimator = KerasRegressor(build_fn=baseline_model, epochs=100, batch_size=5, verbose=0)"
   ]
  },
  {
   "cell_type": "code",
   "execution_count": null,
   "metadata": {
    "collapsed": true
   },
   "outputs": [],
   "source": [
    "kfold = KFold(n_splits=2, random_state=seed)\n",
    "results = cross_val_score(estimator, X_train, Y_train, cv=kfold)\n",
    "print(\"Results: %.2f (%.2f) MSE\" % (results.mean(), results.std()))"
   ]
  },
  {
   "cell_type": "code",
   "execution_count": null,
   "metadata": {
    "collapsed": true
   },
   "outputs": [],
   "source": []
  }
 ],
 "metadata": {
  "kernelspec": {
   "display_name": "Python 3",
   "language": "python",
   "name": "python3"
  },
  "language_info": {
   "codemirror_mode": {
    "name": "ipython",
    "version": 3
   },
   "file_extension": ".py",
   "mimetype": "text/x-python",
   "name": "python",
   "nbconvert_exporter": "python",
   "pygments_lexer": "ipython3",
   "version": "3.6.1"
  }
 },
 "nbformat": 4,
 "nbformat_minor": 2
}

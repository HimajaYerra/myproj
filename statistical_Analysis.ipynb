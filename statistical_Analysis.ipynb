{
 "cells": [
  {
   "cell_type": "code",
   "execution_count": 1,
   "metadata": {},
   "outputs": [
    {
     "name": "stderr",
     "output_type": "stream",
     "text": [
      "C:\\local\\Anaconda3\\lib\\site-packages\\statsmodels\\compat\\pandas.py:56: FutureWarning: The pandas.core.datetools module is deprecated and will be removed in a future version. Please use the pandas.tseries module instead.\n",
      "  from pandas.core import datetools\n",
      "C:\\local\\Anaconda3\\lib\\site-packages\\h5py\\__init__.py:34: FutureWarning: Conversion of the second argument of issubdtype from `float` to `np.floating` is deprecated. In future, it will be treated as `np.float64 == np.dtype(float).type`.\n",
      "  from ._conv import register_converters as _register_converters\n",
      "Using TensorFlow backend.\n"
     ]
    }
   ],
   "source": [
    "## Load in the data\n",
    "import numpy as np\n",
    "import matplotlib.pyplot as plt\n",
    "import scipy.io\n",
    "import time\n",
    "import pandas as pd\n",
    "import seaborn as sns\n",
    "import statsmodels.api as sm\n",
    "from statsmodels.graphics.tsaplots import plot_pacf\n",
    "import tensorflow\n",
    "import keras\n",
    "import datetime\n",
    "from keras.models import Sequential\n",
    "from keras.layers import Dense\n",
    "from keras.wrappers.scikit_learn import KerasRegressor\n",
    "from sklearn.model_selection import cross_val_score\n",
    "from sklearn.model_selection import KFold\n",
    "from sklearn.preprocessing import StandardScaler\n",
    "from sklearn.pipeline import Pipeline\n",
    "%matplotlib inline"
   ]
  },
  {
   "cell_type": "code",
   "execution_count": 2,
   "metadata": {
    "collapsed": true
   },
   "outputs": [],
   "source": [
    "columns=['seconds','mic (trachea)','abdominal movement (stretch sensor)','thorax movement (stretch sensor)']\n",
    "data_test=['seconds','thorax movement (stretch sensor)','abdominal movement (stretch sensor)','mic (right of trachea)','mic 2 (left of trachea)','mic (trachea)',]"
   ]
  },
  {
   "cell_type": "raw",
   "metadata": {},
   "source": [
    "to load file from GCS -- need to fix bugs\n",
    "myfile=\"overnight_all_compressed_new.npz\"\n",
    "!curl -o $myfile https://storage.cloud.google.com/itsmehimaja/overnight_all_compressed_new.npz\n",
    "    \n",
    "d= np.load(myfile)"
   ]
  },
  {
   "cell_type": "code",
   "execution_count": 3,
   "metadata": {
    "collapsed": true
   },
   "outputs": [],
   "source": [
    "data = np.load('overnight_all_compressed.npz')\n"
   ]
  },
  {
   "cell_type": "code",
   "execution_count": 4,
   "metadata": {
    "collapsed": true,
    "scrolled": true
   },
   "outputs": [],
   "source": [
    "final_array=np.array([])\n",
    "\n",
    "a = data['arr_0']\n",
    "b = data['arr_1']\n",
    "c = data['arr_2']\n",
    "d= c[:,(0,5,2,1)]\n",
    "\n",
    "#change the below numpy array to stack required files and perform modelling on\n",
    "final_array=np.vstack([a])"
   ]
  },
  {
   "cell_type": "markdown",
   "metadata": {},
   "source": [
    "Create a dataframe from the above array"
   ]
  },
  {
   "cell_type": "code",
   "execution_count": 5,
   "metadata": {
    "collapsed": true
   },
   "outputs": [],
   "source": [
    "#create a dataframe of required file to check stats\n",
    "df = pd.DataFrame(final_array,columns=columns)\n",
    "#change below to see stats tests for different files\n",
    "#df = pd.DataFrame(d,columns=columns)"
   ]
  },
  {
   "cell_type": "code",
   "execution_count": 29,
   "metadata": {},
   "outputs": [
    {
     "data": {
      "text/plain": [
       "[<matplotlib.lines.Line2D at 0x208aa91f3c8>]"
      ]
     },
     "execution_count": 29,
     "metadata": {},
     "output_type": "execute_result"
    },
    {
     "data": {
      "image/png": "[encoded data removed]",
      "text/plain": [
       "<matplotlib.figure.Figure at 0x208a6cdf6a0>"
      ]
     },
     "metadata": {},
     "output_type": "display_data"
    }
   ],
   "source": [
    "plt.plot(b[::,0],b[::,2])"
   ]
  },
  {
   "cell_type": "code",
   "execution_count": null,
   "metadata": {
    "collapsed": true
   },
   "outputs": [],
   "source": [
    "#to check loaded data correcteness by simple plots\n",
    "fig = plt.figure(figsize=(20,10))\n",
    "ax = fig.add_subplot(1,1,1)\n",
    "ax.plot(b[:,0],b[:,1],label='mic (trachea)')\n",
    "ax.set_ylabel('Patient Data')\n",
    "ax.set_xlabel('time(in sec)')\n",
    "ax.legend()"
   ]
  },
  {
   "cell_type": "markdown",
   "metadata": {},
   "source": [
    "http://barnesanalytics.com/analyzing-multivariate-time-series-using-arimax-in-python-with-statsmodels \n",
    "\n",
    "\n",
    "http://barnesanalytics.com/basics-of-arima-models-with-statsmodels-in-python"
   ]
  },
  {
   "cell_type": "markdown",
   "metadata": {},
   "source": [
    "see the adfuller test results for above data to check stationarity of the series\n",
    "\n",
    " As P-value is less than 0.05 which is that the series does not have a unit root and thus the series is stationary."
   ]
  },
  {
   "cell_type": "code",
   "execution_count": null,
   "metadata": {
    "collapsed": true
   },
   "outputs": [],
   "source": [
    "#to see the ADFuller test results - to verify the stationarity of data\n",
    "print(sm.tsa.stattools.adfuller(df['mic (trachea)'],autolag=None,maxlag=10))\n",
    "print(sm.tsa.stattools.adfuller(df['abdominal movement (stretch sensor)'],autolag=None,maxlag=10))\n",
    "print(sm.tsa.stattools.adfuller(df['thorax movement (stretch sensor)'],autolag=None,maxlag=10))\n",
    "#output - Test static, p-value, no.of lags, no.of observations ..."
   ]
  },
  {
   "cell_type": "markdown",
   "metadata": {},
   "source": [
    "#### A naive regression on above time-series to see the model results for thorax movement\n",
    "X - Mic trachea\n",
    "Y - Thorax Movement --> gave p-value of 0.04 indicating model fits slight closely but R - value is zero surprisingly -- need to understand this"
   ]
  },
  {
   "cell_type": "code",
   "execution_count": 6,
   "metadata": {},
   "outputs": [
    {
     "name": "stdout",
     "output_type": "stream",
     "text": [
      "                            OLS Regression Results                            \n",
      "==============================================================================\n",
      "Dep. Variable:          mic (trachea)   R-squared:                       0.000\n",
      "Model:                            OLS   Adj. R-squared:                  0.000\n",
      "Method:                 Least Squares   F-statistic:                     4.234\n",
      "Date:                Wed, 15 Aug 2018   Prob (F-statistic):             0.0396\n",
      "Time:                        19:00:25   Log-Likelihood:             2.7373e+07\n",
      "No. Observations:            15437778   AIC:                        -5.475e+07\n",
      "Df Residuals:                15437776   BIC:                        -5.475e+07\n",
      "Df Model:                           1                                         \n",
      "Covariance Type:            nonrobust                                         \n",
      "====================================================================================================\n",
      "                                       coef    std err          t      P>|t|      [0.025      0.975]\n",
      "----------------------------------------------------------------------------------------------------\n",
      "thorax movement (stretch sensor)     0.0003      0.000      2.058      0.040     1.4e-05       0.001\n",
      "const                                1.2488      0.000   6978.437      0.000       1.248       1.249\n",
      "==============================================================================\n",
      "Omnibus:                  6711389.738   Durbin-Watson:                   1.393\n",
      "Prob(Omnibus):                  0.000   Jarque-Bera (JB):       7182127229.143\n",
      "Skew:                           0.530   Prob(JB):                         0.00\n",
      "Kurtosis:                     108.662   Cond. No.                         35.0\n",
      "==============================================================================\n",
      "\n",
      "Warnings:\n",
      "[1] Standard Errors assume that the covariance matrix of the errors is correctly specified.\n"
     ]
    }
   ],
   "source": [
    "df['const']=1 \n",
    "model1=sm.OLS(endog=df['mic (trachea)'],exog=df[['thorax movement (stretch sensor)','const']])\n",
    "results1=model1.fit()\n",
    "print(results1.summary())\n"
   ]
  },
  {
   "cell_type": "markdown",
   "metadata": {},
   "source": [
    "#### A naive regression on above time-series to see the model results for abdominal movement\n",
    "X - Mic trachea\n",
    "Y - Abdominal Movement --> gave p-value of 0.00 and R-value is zero surprisingly "
   ]
  },
  {
   "cell_type": "code",
   "execution_count": 14,
   "metadata": {},
   "outputs": [
    {
     "name": "stdout",
     "output_type": "stream",
     "text": [
      "                            OLS Regression Results                            \n",
      "==============================================================================\n",
      "Dep. Variable:          mic (trachea)   R-squared:                       0.000\n",
      "Model:                            OLS   Adj. R-squared:                 -0.000\n",
      "Method:                 Least Squares   F-statistic:                   0.09993\n",
      "Date:                Mon, 20 Aug 2018   Prob (F-statistic):              0.752\n",
      "Time:                        12:56:17   Log-Likelihood:                 61421.\n",
      "No. Observations:               11045   AIC:                        -1.228e+05\n",
      "Df Residuals:                   11043   BIC:                        -1.228e+05\n",
      "Df Model:                           1                                         \n",
      "Covariance Type:            nonrobust                                         \n",
      "=======================================================================================================\n",
      "                                          coef    std err          t      P>|t|      [0.025      0.975]\n",
      "-------------------------------------------------------------------------------------------------------\n",
      "abdominal movement (stretch sensor) -4.491e-06   1.42e-05     -0.316      0.752   -3.23e-05    2.34e-05\n",
      "const                                   1.2475   2.49e-05   5.01e+04      0.000       1.247       1.248\n",
      "==============================================================================\n",
      "Omnibus:                     7028.358   Durbin-Watson:                   1.676\n",
      "Prob(Omnibus):                  0.000   Jarque-Bera (JB):           222115.474\n",
      "Skew:                          -2.560   Prob(JB):                         0.00\n",
      "Kurtosis:                      24.364   Cond. No.                         6.38\n",
      "==============================================================================\n",
      "\n",
      "Warnings:\n",
      "[1] Standard Errors assume that the covariance matrix of the errors is correctly specified.\n"
     ]
    }
   ],
   "source": [
    "df['const']=1 \n",
    "model1=sm.OLS(endog=df['mic (trachea)'],exog=df[['abdominal movement (stretch sensor)','const']])\n",
    "results1=model1.fit()\n",
    "print(results1.summary())"
   ]
  },
  {
   "cell_type": "markdown",
   "metadata": {},
   "source": [
    "lets try differencing the abdominal stretch series data and applying Naive regeression as below -- p-value & R-value both are zero"
   ]
  },
  {
   "cell_type": "code",
   "execution_count": 15,
   "metadata": {},
   "outputs": [
    {
     "name": "stdout",
     "output_type": "stream",
     "text": [
      "                            OLS Regression Results                            \n",
      "==============================================================================\n",
      "Dep. Variable:          mic (trachea)   R-squared:                       0.000\n",
      "Model:                            OLS   Adj. R-squared:                 -0.000\n",
      "Method:                 Least Squares   F-statistic:                   0.09993\n",
      "Date:                Mon, 20 Aug 2018   Prob (F-statistic):              0.752\n",
      "Time:                        12:56:19   Log-Likelihood:                 61421.\n",
      "No. Observations:               11045   AIC:                        -1.228e+05\n",
      "Df Residuals:                   11043   BIC:                        -1.228e+05\n",
      "Df Model:                           1                                         \n",
      "Covariance Type:            nonrobust                                         \n",
      "=======================================================================================================\n",
      "                                          coef    std err          t      P>|t|      [0.025      0.975]\n",
      "-------------------------------------------------------------------------------------------------------\n",
      "abdominal movement (stretch sensor) -4.491e-06   1.42e-05     -0.316      0.752   -3.23e-05    2.34e-05\n",
      "const                                   1.2475   2.49e-05   5.01e+04      0.000       1.247       1.248\n",
      "==============================================================================\n",
      "Omnibus:                     7028.358   Durbin-Watson:                   1.676\n",
      "Prob(Omnibus):                  0.000   Jarque-Bera (JB):           222115.474\n",
      "Skew:                          -2.560   Prob(JB):                         0.00\n",
      "Kurtosis:                      24.364   Cond. No.                         6.38\n",
      "==============================================================================\n",
      "\n",
      "Warnings:\n",
      "[1] Standard Errors assume that the covariance matrix of the errors is correctly specified.\n"
     ]
    }
   ],
   "source": [
    "df['diffS']=df['mic (trachea)'].diff() \n",
    "df['diffM']=df['abdominal movement (stretch sensor)'].diff() \n",
    "model2=sm.OLS(endog=df['diffS'].dropna(),exog=df[['diffM','const']].dropna()) \n",
    "results2=model1.fit() \n",
    "print(results2.summary())"
   ]
  },
  {
   "cell_type": "code",
   "execution_count": 16,
   "metadata": {
    "scrolled": true
   },
   "outputs": [
    {
     "name": "stdout",
     "output_type": "stream",
     "text": [
      "                            OLS Regression Results                            \n",
      "==============================================================================\n",
      "Dep. Variable:          mic (trachea)   R-squared:                       0.000\n",
      "Model:                            OLS   Adj. R-squared:                 -0.000\n",
      "Method:                 Least Squares   F-statistic:                   0.09993\n",
      "Date:                Mon, 20 Aug 2018   Prob (F-statistic):              0.752\n",
      "Time:                        12:56:31   Log-Likelihood:                 61421.\n",
      "No. Observations:               11045   AIC:                        -1.228e+05\n",
      "Df Residuals:                   11043   BIC:                        -1.228e+05\n",
      "Df Model:                           1                                         \n",
      "Covariance Type:            nonrobust                                         \n",
      "=======================================================================================================\n",
      "                                          coef    std err          t      P>|t|      [0.025      0.975]\n",
      "-------------------------------------------------------------------------------------------------------\n",
      "abdominal movement (stretch sensor) -4.491e-06   1.42e-05     -0.316      0.752   -3.23e-05    2.34e-05\n",
      "const                                   1.2475   2.49e-05   5.01e+04      0.000       1.247       1.248\n",
      "==============================================================================\n",
      "Omnibus:                     7028.358   Durbin-Watson:                   1.676\n",
      "Prob(Omnibus):                  0.000   Jarque-Bera (JB):           222115.474\n",
      "Skew:                          -2.560   Prob(JB):                         0.00\n",
      "Kurtosis:                      24.364   Cond. No.                         6.38\n",
      "==============================================================================\n",
      "\n",
      "Warnings:\n",
      "[1] Standard Errors assume that the covariance matrix of the errors is correctly specified.\n"
     ]
    }
   ],
   "source": [
    "df['diffS']=df['mic (trachea)'].diff() \n",
    "df['diffM']=df['abdominal movement (stretch sensor)'].diff() \n",
    "model2=sm.OLS(endog=df['diffS'].dropna(),exog=df[['diffM','const']].dropna()) \n",
    "results2=model1.fit() \n",
    "print(results2.summary())\n"
   ]
  },
  {
   "cell_type": "code",
   "execution_count": null,
   "metadata": {
    "collapsed": true
   },
   "outputs": [],
   "source": [
    "print(sm.tsa.stattools.grangercausalitytests(df[['mic (trachea)','abdominal movement (stretch sensor)']].dropna(),1))\n",
    "print(sm.tsa.stattools.grangercausalitytests(df[['abdominal movement (stretch sensor)','mic (trachea)']].dropna(),1))\n",
    "print(sm.tsa.stattools.grangercausalitytests(df[['thorax movement (stretch sensor)','mic (trachea)']].dropna(),1))\n",
    "print(sm.tsa.stattools.grangercausalitytests(df[['mic (trachea)','thorax movement (stretch sensor)']].dropna(),1))"
   ]
  },
  {
   "cell_type": "markdown",
   "metadata": {},
   "source": [
    "#### So from all the results above we can see that there is no causality between Mic Trachea & Thorax movement. Lets try fitting ARIMAX on abdominal movement. Before that lets index the time-series with the Datetime index.\n"
   ]
  },
  {
   "cell_type": "markdown",
   "metadata": {},
   "source": [
    "Get the timestamp given the no.of milliseconds"
   ]
  },
  {
   "cell_type": "code",
   "execution_count": 6,
   "metadata": {
    "collapsed": true
   },
   "outputs": [],
   "source": [
    "def get_time(ml):\n",
    "    milliseconds = (str)(ml % 1000)\n",
    "    seconds = (int) ((ml / 1000) % 60)\n",
    "    minutes = (int) ((ml / (1000*60)) % 60)\n",
    "    hours   = (int) ((ml / (1000*60*60)) % 24)\n",
    "    hours = \"0\" + (str)(hours) if(hours < 10)  else (str)(hours)\n",
    "    minutes = \"0\" + (str)(minutes) if(minutes < 10)  else (str)(minutes)\n",
    "    seconds =\"0\" + (str)(seconds) if (seconds < 10)  else (str)(seconds)\n",
    "    \n",
    "    return (' '+ hours + \":\" + minutes + \":\" + seconds + \".\" + milliseconds+\"000\")\n",
    "\n",
    "#print('*********'+str(4*60*60*1000+17*60*1000+17*1000+778))\n",
    "#print('**************'+ str(milliseconds))\n",
    "#index=pd.date_range(start=('2018-05-05 01:00:00.000'), end=get_time(df.shape[0]), freq='1MS').tz_localize('UTC')\n",
    "#index = df.between_time(start_time='2018-05-05 01:00:00.000', end_time=get_time(df.shape[0]),include_start=True,include_end=True)"
   ]
  },
  {
   "cell_type": "code",
   "execution_count": 7,
   "metadata": {
    "collapsed": true
   },
   "outputs": [],
   "source": [
    "start = '2018-05-05 00:00:00.000' # set the date for current file\n",
    "#end = '2018-05-05 00:00:00.100'\n",
    "end_date = start.split(' ')[0]\n",
    "end =end_date+get_time(df.shape[0]-1)\n",
    "times = pd.DatetimeIndex(freq='1ms', start=start, end=end) # generate timestamps to use as the indexes\n",
    "df['index']=times\n",
    "df =df.set_index('index') # set index to our dataframe"
   ]
  },
  {
   "cell_type": "code",
   "execution_count": 8,
   "metadata": {},
   "outputs": [],
   "source": [
    "down_sample = df.resample('S')\n",
    "down_sampled = down_sample.mean()\n"
   ]
  },
  {
   "cell_type": "code",
   "execution_count": 9,
   "metadata": {},
   "outputs": [],
   "source": [
    "df = down_sampled"
   ]
  },
  {
   "cell_type": "code",
   "execution_count": 33,
   "metadata": {},
   "outputs": [
    {
     "data": {
      "text/plain": [
       "array([[0.000000e+00, 1.197292e+00, 2.357576e+00, 2.191535e+00],\n",
       "       [1.000000e-03, 1.241303e+00, 2.353575e+00, 2.187534e+00],\n",
       "       [2.000000e-03, 1.233301e+00, 2.357576e+00, 2.187534e+00],\n",
       "       ...,\n",
       "       [4.769864e+03, 1.345328e+00, 2.163528e+00, 2.015492e+00],\n",
       "       [4.769865e+03, 1.349329e+00, 2.163528e+00, 2.017493e+00],\n",
       "       [4.769866e+03, 1.353330e+00, 2.165529e+00, 2.019493e+00]])"
      ]
     },
     "execution_count": 33,
     "metadata": {},
     "output_type": "execute_result"
    }
   ],
   "source": [
    "b"
   ]
  },
  {
   "cell_type": "markdown",
   "metadata": {},
   "source": [
    "#### Now fit the ARIMAX model for the estimation of Thorax movement given mic trachea"
   ]
  },
  {
   "cell_type": "markdown",
   "metadata": {},
   "source": [
    "Before that get the Auto correlation and Partial Correlation plots to find the Parameters for ARIMA model."
   ]
  },
  {
   "cell_type": "code",
   "execution_count": 13,
   "metadata": {
    "collapsed": true
   },
   "outputs": [],
   "source": [
    "#get a small sample to plot the correlation plots as the data is large\n",
    "## we plot the first few seconds data to see where the plot first crosses the confidence interval\n",
    "def get_a_sample(interval,start):\n",
    "    samplingFrequency=1000\n",
    "    sample = df[:][start*samplingFrequency:samplingFrequency*(start+interval)]\n",
    "    return sample"
   ]
  },
  {
   "cell_type": "code",
   "execution_count": 10,
   "metadata": {},
   "outputs": [
    {
     "data": {
      "text/plain": [
       "<matplotlib.lines.Line2D at 0x208a8d67d68>"
      ]
     },
     "execution_count": 10,
     "metadata": {},
     "output_type": "execute_result"
    },
    {
     "data": {
      "image/png": "[encoded data removed]",
      "text/plain": [
       "<matplotlib.figure.Figure at 0x208427256d8>"
      ]
     },
     "metadata": {},
     "output_type": "display_data"
    }
   ],
   "source": [
    "from statsmodels.tsa.stattools import acf, pacf\n",
    "#plot ACF\n",
    "ts=df['mic (trachea)']\n",
    "#ts=get_a_sample(3,0)['thorax movement (stretch sensor)']\n",
    "plt.plot(acf(ts, nlags=2000))\n",
    "plt.axhline(y=0,linestyle='--',color='gray')\n",
    "plt.axhline(y=-1.96/np.sqrt(len(ts)),linestyle='--',color='gray')\n",
    "plt.axhline(y=1.96/np.sqrt(len(ts)),linestyle='--',color='gray')"
   ]
  },
  {
   "cell_type": "code",
   "execution_count": 11,
   "metadata": {},
   "outputs": [
    {
     "data": {
      "image/png": "[encoded data removed]",
      "text/plain": [
       "<matplotlib.figure.Figure at 0x208a8d787b8>"
      ]
     },
     "metadata": {},
     "output_type": "display_data"
    }
   ],
   "source": [
    "#Plot PACF:\n",
    "plt.subplot(122)\n",
    "plt.plot(pacf(ts, nlags=200, method='ols'))\n",
    "plt.axhline(y=0,linestyle='--',color='gray')\n",
    "plt.axhline(y=-1.96/np.sqrt(len(ts)),linestyle='--',color='gray')\n",
    "plt.axhline(y=1.96/np.sqrt(len(ts)),linestyle='--',color='gray')\n",
    "plt.title('Partial Autocorrelation Function')\n",
    "plt.tight_layout()"
   ]
  },
  {
   "cell_type": "markdown",
   "metadata": {},
   "source": [
    "#### From above we get ARIMA model parametrs for (p,d,q) as below:\n",
    "p=650\n",
    "q=650"
   ]
  },
  {
   "cell_type": "code",
   "execution_count": 35,
   "metadata": {},
   "outputs": [
    {
     "name": "stderr",
     "output_type": "stream",
     "text": [
      "C:\\local\\Anaconda3\\lib\\site-packages\\statsmodels\\tsa\\kalmanf\\kalmanfilter.py:646: FutureWarning: Conversion of the second argument of issubdtype from `float` to `np.floating` is deprecated. In future, it will be treated as `np.float64 == np.dtype(float).type`.\n",
      "  if issubdtype(paramsdtype, float):\n",
      "C:\\local\\Anaconda3\\lib\\site-packages\\statsmodels\\tsa\\kalmanf\\kalmanfilter.py:650: FutureWarning: Conversion of the second argument of issubdtype from `complex` to `np.complexfloating` is deprecated. In future, it will be treated as `np.complex128 == np.dtype(complex).type`.\n",
      "  elif issubdtype(paramsdtype, complex):\n",
      "C:\\local\\Anaconda3\\lib\\site-packages\\statsmodels\\base\\model.py:473: HessianInversionWarning: Inverting hessian failed, no bse or cov_params available\n",
      "  'available', HessianInversionWarning)\n"
     ]
    },
    {
     "name": "stdout",
     "output_type": "stream",
     "text": [
      "                             ARIMA Model Results                              \n",
      "==============================================================================\n",
      "Dep. Variable:        D.mic (trachea)   No. Observations:                11044\n",
      "Model:               ARIMA(10, 1, 10)   Log Likelihood               61955.399\n",
      "Method:                       css-mle   S.D. of innovations              0.001\n",
      "Date:                Mon, 20 Aug 2018   AIC                        -123864.799\n",
      "Time:                        15:48:51   BIC                        -123696.677\n",
      "Sample:                    05-05-2018   HQIC                       -123808.170\n",
      "                         - 05-05-2018                                         \n",
      "=======================================================================================================\n",
      "                                          coef    std err          z      P>|z|      [0.025      0.975]\n",
      "-------------------------------------------------------------------------------------------------------\n",
      "const                                3.231e-07   6.39e-07      0.506      0.613   -9.29e-07    1.57e-06\n",
      "abdominal movement (stretch sensor) -1.397e-07   3.66e-07     -0.382      0.703   -8.56e-07    5.77e-07\n",
      "ar.L1.D.mic (trachea)                  -0.7756        nan        nan        nan         nan         nan\n",
      "ar.L2.D.mic (trachea)                  -0.5679        nan        nan        nan         nan         nan\n",
      "ar.L3.D.mic (trachea)                  -0.4265        nan        nan        nan         nan         nan\n",
      "ar.L4.D.mic (trachea)                  -0.3899        nan        nan        nan         nan         nan\n",
      "ar.L5.D.mic (trachea)                  -0.1058        nan        nan        nan         nan         nan\n",
      "ar.L6.D.mic (trachea)                   0.1884        nan        nan        nan         nan         nan\n",
      "ar.L7.D.mic (trachea)                   0.1848        nan        nan        nan         nan         nan\n",
      "ar.L8.D.mic (trachea)                   0.2047        nan        nan        nan         nan         nan\n",
      "ar.L9.D.mic (trachea)                   0.0596        nan        nan        nan         nan         nan\n",
      "ar.L10.D.mic (trachea)                  0.0002        nan        nan        nan         nan         nan\n",
      "ma.L1.D.mic (trachea)                  -0.1483        nan        nan        nan         nan         nan\n",
      "ma.L2.D.mic (trachea)                  -0.1264        nan        nan        nan         nan         nan\n",
      "ma.L3.D.mic (trachea)                  -0.0712        nan        nan        nan         nan         nan\n",
      "ma.L4.D.mic (trachea)                  -0.0160        nan        nan        nan         nan         nan\n",
      "ma.L5.D.mic (trachea)                  -0.2549        nan        nan        nan         nan         nan\n",
      "ma.L6.D.mic (trachea)                  -0.3332        nan        nan        nan         nan         nan\n",
      "ma.L7.D.mic (trachea)                  -0.0239        nan        nan        nan         nan         nan\n",
      "ma.L8.D.mic (trachea)                  -0.0922        nan        nan        nan         nan         nan\n",
      "ma.L9.D.mic (trachea)                   0.1145        nan        nan        nan         nan         nan\n",
      "ma.L10.D.mic (trachea)                  0.0219        nan        nan        nan         nan         nan\n",
      "                                    Roots                                     \n",
      "==============================================================================\n",
      "                  Real           Imaginary           Modulus         Frequency\n",
      "------------------------------------------------------------------------------\n",
      "AR.1             0.5751           -0.9520j            1.1123           -0.1635\n",
      "AR.2             0.5751           +0.9520j            1.1123            0.1635\n",
      "AR.3             1.3545           -0.0000j            1.3545           -0.0000\n",
      "AR.4            -0.1556           -1.4131j            1.4216           -0.2675\n",
      "AR.5            -0.1556           +1.4131j            1.4216            0.2675\n",
      "AR.6            -0.8121           -0.8722j            1.1917           -0.3693\n",
      "AR.7            -0.8121           +0.8722j            1.1917            0.3693\n",
      "AR.8            -1.2831           -0.0000j            1.2831           -0.5000\n",
      "AR.9            -2.7537           -0.0000j            2.7537           -0.5000\n",
      "AR.10         -280.8538           -0.0000j          280.8538           -0.5000\n",
      "MA.1            -1.1947           -0.0000j            1.1947           -0.5000\n",
      "MA.2            -0.8109           -0.8586j            1.1810           -0.3705\n",
      "MA.3            -0.8109           +0.8586j            1.1810            0.3705\n",
      "MA.4             1.0189           -0.0000j            1.0189           -0.0000\n",
      "MA.5             0.5798           -0.9503j            1.1132           -0.1628\n",
      "MA.6             0.5798           +0.9503j            1.1132            0.1628\n",
      "MA.7            -0.1832           -1.4335j            1.4452           -0.2702\n",
      "MA.8            -0.1832           +1.4335j            1.4452            0.2702\n",
      "MA.9             1.7417           -0.0000j            1.7417           -0.0000\n",
      "MA.10           -5.9571           -0.0000j            5.9571           -0.5000\n",
      "------------------------------------------------------------------------------\n"
     ]
    },
    {
     "name": "stderr",
     "output_type": "stream",
     "text": [
      "C:\\local\\Anaconda3\\lib\\site-packages\\statsmodels\\tsa\\arima_model.py:1441: RuntimeWarning: invalid value encountered in sqrt\n",
      "  return np.sqrt(np.diag(-inv(hess)))\n",
      "C:\\local\\Anaconda3\\lib\\site-packages\\scipy\\stats\\_distn_infrastructure.py:879: RuntimeWarning: invalid value encountered in greater\n",
      "  return (self.a < x) & (x < self.b)\n",
      "C:\\local\\Anaconda3\\lib\\site-packages\\scipy\\stats\\_distn_infrastructure.py:879: RuntimeWarning: invalid value encountered in less\n",
      "  return (self.a < x) & (x < self.b)\n",
      "C:\\local\\Anaconda3\\lib\\site-packages\\scipy\\stats\\_distn_infrastructure.py:1821: RuntimeWarning: invalid value encountered in less_equal\n",
      "  cond2 = cond0 & (x <= self.a)\n"
     ]
    }
   ],
   "source": [
    "df['lag']=df['diffM'].shift()\n",
    "#df.dropna(inplace=True)\n",
    "model3=sm.tsa.ARIMA(endog=df['mic (trachea)'],exog=df['abdominal movement (stretch sensor)'],order=[10,1,10])\n",
    "results3=model3.fit()\n",
    "print(results3.summary())"
   ]
  },
  {
   "cell_type": "code",
   "execution_count": 36,
   "metadata": {},
   "outputs": [
    {
     "name": "stderr",
     "output_type": "stream",
     "text": [
      "C:\\local\\Anaconda3\\lib\\site-packages\\statsmodels\\tsa\\kalmanf\\kalmanfilter.py:577: FutureWarning: Conversion of the second argument of issubdtype from `float` to `np.floating` is deprecated. In future, it will be treated as `np.float64 == np.dtype(float).type`.\n",
      "  if issubdtype(paramsdtype, float):\n"
     ]
    }
   ],
   "source": [
    "y_pred=model3.predict(b[::,1])"
   ]
  },
  {
   "cell_type": "markdown",
   "metadata": {},
   "source": [
    "Below is the plot of the predicted values by our model for unseen data true values for this can be found in the beginning of the file"
   ]
  },
  {
   "cell_type": "code",
   "execution_count": 37,
   "metadata": {},
   "outputs": [
    {
     "data": {
      "text/plain": [
       "[<matplotlib.lines.Line2D at 0x208ab52fef0>]"
      ]
     },
     "execution_count": 37,
     "metadata": {},
     "output_type": "execute_result"
    },
    {
     "data": {
      "image/png": "[encoded data removed]",
      "text/plain": [
       "<matplotlib.figure.Figure at 0x2084ae49240>"
      ]
     },
     "metadata": {},
     "output_type": "display_data"
    }
   ],
   "source": [
    "plt.plot(y_pred)\n"
   ]
  },
  {
   "cell_type": "code",
   "execution_count": 38,
   "metadata": {},
   "outputs": [
    {
     "data": {
      "text/plain": [
       "[<matplotlib.lines.Line2D at 0x208ab4dc6a0>]"
      ]
     },
     "execution_count": 38,
     "metadata": {},
     "output_type": "execute_result"
    },
    {
     "data": {
      "image/png": "[encoded data removed]",
      "text/plain": [
       "<matplotlib.figure.Figure at 0x208ab56e2b0>"
      ]
     },
     "metadata": {},
     "output_type": "display_data"
    }
   ],
   "source": [
    "plt.plot(b[::,2])"
   ]
  },
  {
   "cell_type": "code",
   "execution_count": null,
   "metadata": {
    "collapsed": true
   },
   "outputs": [],
   "source": []
  }
 ],
 "metadata": {
  "kernelspec": {
   "display_name": "Python 3",
   "language": "python",
   "name": "python3"
  },
  "language_info": {
   "codemirror_mode": {
    "name": "ipython",
    "version": 3
   },
   "file_extension": ".py",
   "mimetype": "text/x-python",
   "name": "python",
   "nbconvert_exporter": "python",
   "pygments_lexer": "ipython3",
   "version": "3.6.1"
  }
 },
 "nbformat": 4,
 "nbformat_minor": 2
}

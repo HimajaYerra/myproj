{
 "cells": [
  {
   "cell_type": "code",
   "execution_count": null,
   "metadata": {},
   "outputs": [],
   "source": [
    "## Load in the data\n",
    "import numpy as np\n",
    "import matplotlib.pyplot as plt\n",
    "import scipy.io\n",
    "import time\n",
    "import pandas as pd\n",
    "import seaborn as sns\n",
    "import statsmodels.api as sm\n",
    "from statsmodels.graphics.tsaplots import plot_pacf\n",
    "import tensorflow\n",
    "import keras\n",
    "%matplotlib inline"
   ]
  },
  {
   "cell_type": "code",
   "execution_count": null,
   "metadata": {
    "collapsed": true
   },
   "outputs": [],
   "source": [
    "columns=['seconds','mic (trachea)','abdominal movement (stretch sensor)','thorax movement (stretch sensor)']\n",
    "data_test=['seconds','thorax movement (stretch sensor)','abdominal movement (stretch sensor)','mic (right of trachea)','mic 2 (left of trachea)','mic (trachea)',]"
   ]
  },
  {
   "cell_type": "raw",
   "metadata": {},
   "source": [
    "myfile=\"overnight_all_compressed_new.npz\"\n",
    "!curl -o $myfile https://storage.cloud.google.com/itsmehimaja/overnight_all_compressed_new.npz\n",
    "    \n",
    "d= np.load(myfile)"
   ]
  },
  {
   "cell_type": "code",
   "execution_count": null,
   "metadata": {
    "collapsed": true
   },
   "outputs": [],
   "source": [
    "data = np.load('overnight_all_compressed.npz')\n"
   ]
  },
  {
   "cell_type": "code",
   "execution_count": null,
   "metadata": {
    "scrolled": true
   },
   "outputs": [],
   "source": [
    "final_array=np.array([])\n",
    "\n",
    "a = data['arr_0']\n",
    "b = data['arr_1']\n",
    "c = data['arr_2']\n",
    "d= c[:,(0,5,2,1)]\n",
    "print(a.shape)\n",
    "print(b.shape)\n",
    "\n",
    "\n",
    "final_array=np.vstack([b,d])\n",
    "\n",
    "print(final_array.shape)\n"
   ]
  },
  {
   "cell_type": "code",
   "execution_count": null,
   "metadata": {
    "collapsed": true
   },
   "outputs": [],
   "source": [
    "df = pd.DataFrame(final_array,columns=columns)"
   ]
  },
  {
   "cell_type": "code",
   "execution_count": null,
   "metadata": {
    "collapsed": true
   },
   "outputs": [],
   "source": [
    "from keras.models import Sequential\n",
    "from keras.layers import Dense\n",
    "from keras.wrappers.scikit_learn import KerasRegressor\n",
    "from sklearn.model_selection import cross_val_score\n",
    "from sklearn.model_selection import KFold\n",
    "from sklearn.preprocessing import StandardScaler\n",
    "from sklearn.pipeline import Pipeline"
   ]
  },
  {
   "cell_type": "code",
   "execution_count": null,
   "metadata": {
    "collapsed": true
   },
   "outputs": [],
   "source": [
    "X_train = final_array[:,1]\n",
    "Y_train = final_array[:,2]\n",
    "l= len(X_train)\n",
    "Xtrain = X_train[:round(l*0.7)]\n",
    "Xtest = X_train[round(l*0.7)+1:]\n",
    "ytrain = Y_train[:round(l*0.7)]\n",
    "ytest = Y_train[round(l*0.7)+1:]"
   ]
  },
  {
   "cell_type": "markdown",
   "metadata": {},
   "source": [
    "http://barnesanalytics.com/analyzing-multivariate-time-series-using-arimax-in-python-with-statsmodels \n",
    "\n",
    "\n",
    "http://barnesanalytics.com/basics-of-arima-models-with-statsmodels-in-python"
   ]
  },
  {
   "cell_type": "markdown",
   "metadata": {},
   "source": []
  },
  {
   "cell_type": "code",
   "execution_count": null,
   "metadata": {},
   "outputs": [],
   "source": [
    "import statsmodels.api as sm\n",
    "print(sm.tsa.stattools.adfuller(df['mic (trachea)'],autolag=None,maxlag=0))\n",
    "print(sm.tsa.stattools.adfuller(df['abdominal movement (stretch sensor)'],autolag=None,maxlag=0))\n"
   ]
  },
  {
   "cell_type": "code",
   "execution_count": null,
   "metadata": {
    "collapsed": true
   },
   "outputs": [],
   "source": []
  },
  {
   "cell_type": "code",
   "execution_count": null,
   "metadata": {},
   "outputs": [],
   "source": [
    "df['const']=1 \n",
    "model1=sm.OLS(endog=df['mic (trachea)'],exog=df[['abdominal movement (stretch sensor)','const']])\n",
    "results1=model1.fit()\n",
    "print(results1.summary())\n"
   ]
  },
  {
   "cell_type": "code",
   "execution_count": null,
   "metadata": {
    "scrolled": true
   },
   "outputs": [],
   "source": [
    "df['diffS']=df['mic (trachea)'].diff() \n",
    "df['diffM']=df['abdominal movement (stretch sensor)'].diff() \n",
    "model2=sm.OLS(endog=df['diffS'].dropna(),exog=df[['diffM','const']].dropna()) \n",
    "results2=model1.fit() \n",
    "print(results2.summary())\n"
   ]
  },
  {
   "cell_type": "code",
   "execution_count": null,
   "metadata": {},
   "outputs": [],
   "source": [
    "print(sm.tsa.stattools.grangercausalitytests(df[['abdominal movement (stretch sensor)','mic (trachea)']].dropna(),1))"
   ]
  },
  {
   "cell_type": "code",
   "execution_count": null,
   "metadata": {
    "collapsed": true
   },
   "outputs": [],
   "source": [
    "df['lag']=df['diffM'].shift()\n",
    "df.dropna(inplace=True)\n",
    "model3=sm.tsa.ARIMA(endog=df['Sales'],exog=df[['lag']],order=[1,1,0])\n",
    "results3=model3.fit()\n",
    "print(results3.summary())1"
   ]
  },
  {
   "cell_type": "code",
   "execution_count": null,
   "metadata": {},
   "outputs": [],
   "source": [
    "print(Xtrain.shape)\n",
    "print(ytrain.shape)\n",
    "\n",
    "#Xtrain=Xtrain.reshape(-1,1)\n",
    "#ytrain=ytrain.reshape(-1,1)\n",
    "Xtest=Xtest.reshape(-1,1)"
   ]
  },
  {
   "cell_type": "code",
   "execution_count": null,
   "metadata": {
    "collapsed": true
   },
   "outputs": [],
   "source": [
    "window_size = 1000\n",
    "leftover = len(Xtrain)%window_size\n",
    "\n",
    "X_reshaped_train=(Xtrain[:-leftover]).reshape(-1,window_size,1)\n",
    "print(X_reshaped_train.shape)\n",
    "\n",
    "y_reshaped_train=(ytrain[:-leftover]).reshape(-1,window_size,1)\n",
    "\n",
    "leftover_test = len(Xtest)%window_size\n",
    "\n",
    "X_reshaped_test=(Xtest[:-leftover_test]).reshape(-1,window_size,1)\n",
    "y_reshaped_test=(ytest[:-leftover_test]).reshape(-1,window_size,1)\n"
   ]
  },
  {
   "cell_type": "code",
   "execution_count": null,
   "metadata": {
    "collapsed": true
   },
   "outputs": [],
   "source": [
    "from sklearn import datasets, linear_model\n",
    "from sklearn.metrics import mean_squared_error, r2_score\n",
    "\n",
    "regr = linear_model.LinearRegression()\n",
    "regr.fit(Xtrain,ytrain)\n",
    "y_pred = regr.predict(Xtest)"
   ]
  },
  {
   "cell_type": "code",
   "execution_count": null,
   "metadata": {},
   "outputs": [],
   "source": [
    "plt.plot(ytest,  color='black')\n",
    "plt.plot(y_pred, color='blue')\n"
   ]
  },
  {
   "cell_type": "code",
   "execution_count": null,
   "metadata": {
    "collapsed": true
   },
   "outputs": [],
   "source": [
    "def baseline_model():\n",
    "    # create model\n",
    "    model = Sequential()\n",
    "    model.add(Dense(4,  kernel_initializer='normal', activation='relu'))\n",
    "    model.add(Dense(1, kernel_initializer='normal',activation='linear'))\n",
    "    # Compile model\n",
    "    model.compile(loss='mean_squared_error', optimizer='adam')\n",
    "    return model"
   ]
  },
  {
   "cell_type": "code",
   "execution_count": null,
   "metadata": {
    "collapsed": true
   },
   "outputs": [],
   "source": [
    "from keras.callbacks import EarlyStopping\n",
    "early_stopping = EarlyStopping(monitor='val_loss', patience=2)\n",
    "\n",
    "\n",
    "# Xtrain=(Xtrain).reshape(len(Xtrain),1,1)\n",
    "\n",
    "# ytrain=ytrain.reshape(len(ytrain),1,1)\n",
    "\n",
    "# Xtest=Xtest.reshape(len(Xtest),1,1)\n",
    "\n",
    "# ytest=ytest.reshape(len(ytest),1,1)\n",
    "\n",
    "validationData=(Xtest,ytest)\n",
    "'''\n",
    "print(X_train.shape)\n",
    "print(Y_train.shape)\n",
    "print(X_test.shape)\n",
    "print(Y_test.shape)'''\n",
    "print(Xtrain.shape)\n",
    "\n",
    "model=baseline_model()\n",
    "history = model.fit(X_reshaped_train,y_reshaped_train,\n",
    "                    validation_data=(X_reshaped_test, y_reshaped_test),\n",
    "                    epochs=3,batch_size=50,\n",
    "                    callbacks=[early_stopping])"
   ]
  },
  {
   "cell_type": "code",
   "execution_count": null,
   "metadata": {
    "collapsed": true
   },
   "outputs": [],
   "source": [
    "y_pred=model.predict(X_reshaped_train)\n",
    "y_pred_unravel=y_pred.reshape(-1,1)\n",
    "print(y_pred_unravel.shape)"
   ]
  },
  {
   "cell_type": "code",
   "execution_count": null,
   "metadata": {
    "collapsed": true
   },
   "outputs": [],
   "source": [
    "y_pred=model.predict(X_reshaped_train)\n",
    "y_pred.reshape(-1,1)\n",
    "print(y_pred.shape)\n",
    "y_pred= y_pred.reshape(-1,1)\n",
    "print(y_pred)\n",
    "fig = plt.figure(figsize=(20,10))\n",
    "#for ix,items in zip([1,2],x):\n",
    "ax = fig.add_subplot(2,1,1)\n",
    "ax.set_title('Time vs Patient Data')\n",
    "ax.set_xlabel('Time(in sec)')\n",
    "ax.set_ylabel('Patient Data')\n",
    "ax.plot(y_pred,label='abdominal movement (stretch sensor)_pred')\n",
    "ax.plot(y_reshaped_train.reshape(-1,1),label='abdominal movement (stretch sensor)_true')\n",
    "#ax.plot(final_array[:,2],label='abdominal movement (stretch sensor)_original')\n",
    "\n",
    "\n",
    "\n",
    "\n",
    "ax.legend()\n"
   ]
  },
  {
   "cell_type": "code",
   "execution_count": null,
   "metadata": {
    "collapsed": true
   },
   "outputs": [],
   "source": [
    "# fix random seed for reproducibility\n",
    "seed = 7\n",
    "numpy.random.seed(seed)\n",
    "# evaluate model with standardized dataset\n",
    "estimator = KerasRegressor(build_fn=baseline_model, epochs=100, batch_size=5, verbose=0)"
   ]
  },
  {
   "cell_type": "code",
   "execution_count": null,
   "metadata": {
    "collapsed": true
   },
   "outputs": [],
   "source": [
    "kfold = KFold(n_splits=2, random_state=seed)\n",
    "results = cross_val_score(estimator, X_train, Y_train, cv=kfold)\n",
    "print(\"Results: %.2f (%.2f) MSE\" % (results.mean(), results.std()))"
   ]
  },
  {
   "cell_type": "code",
   "execution_count": null,
   "metadata": {
    "collapsed": true
   },
   "outputs": [],
   "source": [
    "#http://barnesanalytics.com/analyzing-multivariate-time-series-using-arimax-in-python-with-statsmodels import statsmodels.api as sm print(sm.tsa.stattools.adfuller(df['Marketing'])) print(sm.tsa.stattools.adfuller(df['Sales']))\n",
    "df['const']=1 model1=sm.OLS(endog=df['Sales'],exog=df['Marketing','const']) results1=model1.fit() print(results1.summary())\n",
    "df['diffS']=df['Sales'].diff() df['diffM']=df['Marketing'].diff() model2=sm.OLS(endog=df['diffS'].dropna(),exog=df'diffM','const'.dropna()) results2=model1.fit() print(results2.summary())\n",
    "#http://barnesanalytics.com/basics-of-arima-models-with-statsmodels-in-python"
   ]
  }
 ],
 "metadata": {
  "kernelspec": {
   "display_name": "Python 3",
   "language": "python",
   "name": "python3"
  },
  "language_info": {
   "codemirror_mode": {
    "name": "ipython",
    "version": 3
   },
   "file_extension": ".py",
   "mimetype": "text/x-python",
   "name": "python",
   "nbconvert_exporter": "python",
   "pygments_lexer": "ipython3",
   "version": "3.6.1"
  }
 },
 "nbformat": 4,
 "nbformat_minor": 2
}

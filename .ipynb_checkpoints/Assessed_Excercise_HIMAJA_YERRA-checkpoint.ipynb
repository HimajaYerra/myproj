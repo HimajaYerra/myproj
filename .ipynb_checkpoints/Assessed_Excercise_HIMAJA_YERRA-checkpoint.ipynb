{
 "cells": [
  {
   "cell_type": "markdown",
   "metadata": {
    "colab_type": "text",
    "id": "2gv2i9fNDvrg"
   },
   "source": [
    "## Part A: Subreddit Prediction ##"
   ]
  },
  {
   "cell_type": "markdown",
   "metadata": {
    "colab_type": "text",
    "id": "DuMQUsbETMQt"
   },
   "source": [
    "Load Subreddit data"
   ]
  },
  {
   "cell_type": "code",
   "execution_count": 25,
   "metadata": {
    "colab": {
     "autoexec": {
      "startup": false,
      "wait_interval": 0
     },
     "base_uri": "https://localhost:8080/",
     "height": 121,
     "output_extras": [
      {
       "item_id": 4
      }
     ]
    },
    "colab_type": "code",
    "executionInfo": {
     "elapsed": 3564,
     "status": "ok",
     "timestamp": 1520896674089,
     "user": {
      "displayName": "Himaja y",
      "photoUrl": "//lh4.googleusercontent.com/-yhV3E8-6GOQ/AAAAAAAAAAI/AAAAAAAAURQ/Pcr0UKtZ_ww/s50-c-k-no/photo.jpg",
      "userId": "111905420220784225824"
     },
     "user_tz": 0
    },
    "id": "ZG9BpbQt3-ko",
    "outputId": "12245366-c525-47aa-9b31-015989929341"
   },
   "outputs": [
    {
     "name": "stdout",
     "output_type": "stream",
     "text": [
      "  % Total    % Received % Xferd  Average Speed   Time    Time     Time  Current\r\n",
      "                                 Dload  Upload   Total   Spent    Left  Speed\n",
      "100 10.0M  100 10.0M    0     0  10.0M      0  0:00:01 --:--:--  0:00:01 11.1M\n",
      "  % Total    % Received % Xferd  Average Speed   Time    Time     Time  Current\n",
      "                                 Dload  Upload   Total   Spent    Left  Speed\n",
      "100 2722k  100 2722k    0     0  2722k      0  0:00:01 --:--:--  0:00:01 12.7M\n"
     ]
    }
   ],
   "source": [
    "subreddit_train = \"coursework_subreddit_train.json\"\n",
    "subreddit_test = \"coursework_subreddit_test.json\"\n",
    "\n",
    "!curl -o  $subreddit_train https://storage.googleapis.com/tad2018/coursework_subreddit_train3.json\n",
    "!curl -o  $subreddit_test https://storage.googleapis.com/tad2018/coursework_subreddit_test3.json"
   ]
  },
  {
   "cell_type": "code",
   "execution_count": 0,
   "metadata": {
    "colab": {
     "autoexec": {
      "startup": false,
      "wait_interval": 0
     }
    },
    "colab_type": "code",
    "collapsed": true,
    "id": "iCEG8t6PC2f7"
   },
   "outputs": [],
   "source": [
    "import pandas as pd\n",
    "\n",
    "train_threads = pd.read_json(path_or_buf=subreddit_train, lines=True)\n",
    "test_threads = pd.read_json(path_or_buf=subreddit_test, lines=True)\n",
    "# train_threads\n",
    "\n"
   ]
  },
  {
   "cell_type": "markdown",
   "metadata": {
    "colab_type": "text",
    "id": "LXIfYnIXU3yK"
   },
   "source": [
    "Assign labels in to which data is to be classified"
   ]
  },
  {
   "cell_type": "code",
   "execution_count": 0,
   "metadata": {
    "colab": {
     "autoexec": {
      "startup": false,
      "wait_interval": 0
     }
    },
    "colab_type": "code",
    "collapsed": true,
    "id": "02OXNfo9H8Kc"
   },
   "outputs": [],
   "source": [
    "train_labels = train_threads['subreddit']\n",
    "test_labels = test_threads['subreddit']\n",
    "\n",
    "\n"
   ]
  },
  {
   "cell_type": "markdown",
   "metadata": {
    "colab_type": "text",
    "id": "7D2mA5E8TgHh"
   },
   "source": [
    "**Question 1**\n",
    "Get title and body from each thread"
   ]
  },
  {
   "cell_type": "code",
   "execution_count": 0,
   "metadata": {
    "colab": {
     "autoexec": {
      "startup": false,
      "wait_interval": 0
     }
    },
    "colab_type": "code",
    "collapsed": true,
    "id": "8WCaI5v85twp"
   },
   "outputs": [],
   "source": [
    "import json\n",
    "import pandas as pd\n",
    "\n",
    "\n",
    "def get_title_body(subreddit_train):\n",
    "  posts_frame_title = []\n",
    "\n",
    "  # Construct a dataframe, by opening the JSON file line-by-line\n",
    "  with open(subreddit_train) as jsonfile:\n",
    "    for i, line in enumerate(jsonfile):\n",
    "      thread = json.loads(line)\n",
    "      posts_train_title=[]\n",
    "\n",
    "      for post in thread['posts']:\n",
    "\n",
    "        posts_train_title.append(post.get('body',\"\"))\n",
    "      posts_train_title.append(thread['title'])\n",
    "      s =' '.join(posts_train_title)\n",
    "      posts_frame_title.append(s)\n",
    "\n",
    "  post_frame= pd.DataFrame(posts_frame_title)\n",
    "  post_frame.columns=[\"data\"]\n",
    "\n",
    "  return post_frame"
   ]
  },
  {
   "cell_type": "code",
   "execution_count": 0,
   "metadata": {
    "colab": {
     "autoexec": {
      "startup": false,
      "wait_interval": 0
     }
    },
    "colab_type": "code",
    "collapsed": true,
    "id": "A0YvtE_GSMUc"
   },
   "outputs": [],
   "source": [
    "post_frame_train = get_title_body(subreddit_train)\n",
    "post_frame_test = get_title_body(subreddit_test)"
   ]
  },
  {
   "cell_type": "markdown",
   "metadata": {
    "colab_type": "text",
    "id": "WZF-FIOETzBa"
   },
   "source": [
    "**Count Vectorizer** transform body and title to features"
   ]
  },
  {
   "cell_type": "code",
   "execution_count": 30,
   "metadata": {
    "colab": {
     "autoexec": {
      "startup": false,
      "wait_interval": 0
     },
     "base_uri": "https://localhost:8080/",
     "height": 34,
     "output_extras": [
      {
       "item_id": 1
      }
     ]
    },
    "colab_type": "code",
    "executionInfo": {
     "elapsed": 927,
     "status": "ok",
     "timestamp": 1520896677378,
     "user": {
      "displayName": "Himaja y",
      "photoUrl": "//lh4.googleusercontent.com/-yhV3E8-6GOQ/AAAAAAAAAAI/AAAAAAAAURQ/Pcr0UKtZ_ww/s50-c-k-no/photo.jpg",
      "userId": "111905420220784225824"
     },
     "user_tz": 0
    },
    "id": "4hRY7CBQ4SIR",
    "outputId": "8a81c46c-f436-4d13-8707-160a4a86f85b"
   },
   "outputs": [
    {
     "data": {
      "text/plain": [
       "(1456, 27437)"
      ]
     },
     "execution_count": 30,
     "metadata": {
      "tags": []
     },
     "output_type": "execute_result"
    }
   ],
   "source": [
    "\n",
    "from sklearn.feature_extraction.text import CountVectorizer\n",
    "import numpy as np\n",
    "one_hot_vectorizer = CountVectorizer()\n",
    "train_term_document_matrix_cv = one_hot_vectorizer.fit_transform(post_frame_train['data'])\n",
    "train_term_document_matrix_cv.shape"
   ]
  },
  {
   "cell_type": "markdown",
   "metadata": {
    "colab_type": "text",
    "id": "VKYVZWjFUD3p"
   },
   "source": [
    "**Tfidf Vectorizer** transform body and title to features"
   ]
  },
  {
   "cell_type": "code",
   "execution_count": 31,
   "metadata": {
    "colab": {
     "autoexec": {
      "startup": false,
      "wait_interval": 0
     },
     "base_uri": "https://localhost:8080/",
     "height": 34,
     "output_extras": [
      {
       "item_id": 1
      }
     ]
    },
    "colab_type": "code",
    "executionInfo": {
     "elapsed": 909,
     "status": "ok",
     "timestamp": 1520896678363,
     "user": {
      "displayName": "Himaja y",
      "photoUrl": "//lh4.googleusercontent.com/-yhV3E8-6GOQ/AAAAAAAAAAI/AAAAAAAAURQ/Pcr0UKtZ_ww/s50-c-k-no/photo.jpg",
      "userId": "111905420220784225824"
     },
     "user_tz": 0
    },
    "id": "iJ6Pk-8D5TXG",
    "outputId": "9a8234f8-f9fe-4b2d-e8ee-7a811081a8d8"
   },
   "outputs": [
    {
     "data": {
      "text/plain": [
       "(1456, 27437)"
      ]
     },
     "execution_count": 31,
     "metadata": {
      "tags": []
     },
     "output_type": "execute_result"
    }
   ],
   "source": [
    "from sklearn.feature_extraction.text import TfidfVectorizer\n",
    "vectorizer = TfidfVectorizer()\n",
    "train_term_document_matrix_tfidfvc = vectorizer.fit_transform(post_frame_train['data'])\n",
    "train_term_document_matrix_tfidfvc.shape\n"
   ]
  },
  {
   "cell_type": "markdown",
   "metadata": {
    "colab_type": "text",
    "id": "TXhv5mioUYnC"
   },
   "source": [
    "**Logistic Regression** Learn two models of logistic regression with both the both above vectorizers"
   ]
  },
  {
   "cell_type": "code",
   "execution_count": 32,
   "metadata": {
    "colab": {
     "autoexec": {
      "startup": false,
      "wait_interval": 0
     },
     "base_uri": "https://localhost:8080/",
     "height": 34,
     "output_extras": [
      {
       "item_id": 1
      }
     ]
    },
    "colab_type": "code",
    "executionInfo": {
     "elapsed": 3280,
     "status": "ok",
     "timestamp": 1520896681701,
     "user": {
      "displayName": "Himaja y",
      "photoUrl": "//lh4.googleusercontent.com/-yhV3E8-6GOQ/AAAAAAAAAAI/AAAAAAAAURQ/Pcr0UKtZ_ww/s50-c-k-no/photo.jpg",
      "userId": "111905420220784225824"
     },
     "user_tz": 0
    },
    "id": "qCqu6mT0sgdh",
    "outputId": "95770427-5eb6-45b3-a6fd-5d508899b121"
   },
   "outputs": [
    {
     "data": {
      "text/plain": [
       "0.673972602739726"
      ]
     },
     "execution_count": 32,
     "metadata": {
      "tags": []
     },
     "output_type": "execute_result"
    }
   ],
   "source": [
    "\n",
    "from  sklearn.linear_model import LogisticRegression\n",
    "\n",
    "L1 = LogisticRegression()\n",
    "\n",
    "model_lr_cv= L1.fit(train_term_document_matrix_cv,train_labels)\n",
    "test_term_document_matrix_lr_cv= one_hot_vectorizer.transform(post_frame_test['data'])\n",
    "model_lr_cv.score(test_term_document_matrix_lr_cv, test_labels)\n",
    "\n"
   ]
  },
  {
   "cell_type": "code",
   "execution_count": 33,
   "metadata": {
    "colab": {
     "autoexec": {
      "startup": false,
      "wait_interval": 0
     },
     "base_uri": "https://localhost:8080/",
     "height": 34,
     "output_extras": [
      {
       "item_id": 1
      }
     ]
    },
    "colab_type": "code",
    "executionInfo": {
     "elapsed": 1224,
     "status": "ok",
     "timestamp": 1520896682962,
     "user": {
      "displayName": "Himaja y",
      "photoUrl": "//lh4.googleusercontent.com/-yhV3E8-6GOQ/AAAAAAAAAAI/AAAAAAAAURQ/Pcr0UKtZ_ww/s50-c-k-no/photo.jpg",
      "userId": "111905420220784225824"
     },
     "user_tz": 0
    },
    "id": "ZYJGyqLrtAYs",
    "outputId": "cbcf984d-d483-4727-e15c-ccb7cfdf2e5e"
   },
   "outputs": [
    {
     "data": {
      "text/plain": [
       "0.4849315068493151"
      ]
     },
     "execution_count": 33,
     "metadata": {
      "tags": []
     },
     "output_type": "execute_result"
    }
   ],
   "source": [
    "L2 = LogisticRegression()\n",
    "model_lr_tf= L2.fit(train_term_document_matrix_tfidfvc,train_labels)\n",
    "test_term_document_matrix_lr_tf= vectorizer.transform(post_frame_test['data'])\n",
    "model_lr_tf.score(test_term_document_matrix_lr_tf, test_labels)\n"
   ]
  },
  {
   "cell_type": "markdown",
   "metadata": {
    "colab_type": "text",
    "id": "mDhRUnyzUm54"
   },
   "source": [
    "**SVC** Learn two models of logistic regression with both the both above vectorizers"
   ]
  },
  {
   "cell_type": "code",
   "execution_count": 34,
   "metadata": {
    "colab": {
     "autoexec": {
      "startup": false,
      "wait_interval": 0
     },
     "base_uri": "https://localhost:8080/",
     "height": 34,
     "output_extras": [
      {
       "item_id": 1
      }
     ]
    },
    "colab_type": "code",
    "executionInfo": {
     "elapsed": 6594,
     "status": "ok",
     "timestamp": 1520896689615,
     "user": {
      "displayName": "Himaja y",
      "photoUrl": "//lh4.googleusercontent.com/-yhV3E8-6GOQ/AAAAAAAAAAI/AAAAAAAAURQ/Pcr0UKtZ_ww/s50-c-k-no/photo.jpg",
      "userId": "111905420220784225824"
     },
     "user_tz": 0
    },
    "id": "doqyY5WUWuR3",
    "outputId": "862b9e53-9f99-45d7-845a-ad8262b1c8c1"
   },
   "outputs": [
    {
     "data": {
      "text/plain": [
       "0.2821917808219178"
      ]
     },
     "execution_count": 34,
     "metadata": {
      "tags": []
     },
     "output_type": "execute_result"
    }
   ],
   "source": [
    "from sklearn.svm import SVC\n",
    "\n",
    "\n",
    "clf1 = SVC()\n",
    "clf1.fit(train_term_document_matrix_cv,train_labels,sample_weight=None)\n",
    "test_term_document_matrix_svc_cv = one_hot_vectorizer.transform(post_frame_test['data'])\n",
    "clf1.score(test_term_document_matrix_svc_cv, test_labels)\n"
   ]
  },
  {
   "cell_type": "code",
   "execution_count": 35,
   "metadata": {
    "colab": {
     "autoexec": {
      "startup": false,
      "wait_interval": 0
     },
     "base_uri": "https://localhost:8080/",
     "height": 34,
     "output_extras": [
      {
       "item_id": 1
      }
     ]
    },
    "colab_type": "code",
    "executionInfo": {
     "elapsed": 5863,
     "status": "ok",
     "timestamp": 1520896695558,
     "user": {
      "displayName": "Himaja y",
      "photoUrl": "//lh4.googleusercontent.com/-yhV3E8-6GOQ/AAAAAAAAAAI/AAAAAAAAURQ/Pcr0UKtZ_ww/s50-c-k-no/photo.jpg",
      "userId": "111905420220784225824"
     },
     "user_tz": 0
    },
    "id": "GGs5UFbQtO1F",
    "outputId": "7dfde3ed-1efb-405d-afb4-b68287b76868"
   },
   "outputs": [
    {
     "data": {
      "text/plain": [
       "0.23013698630136986"
      ]
     },
     "execution_count": 35,
     "metadata": {
      "tags": []
     },
     "output_type": "execute_result"
    }
   ],
   "source": [
    "clf2 = SVC()\n",
    "clf2.fit(train_term_document_matrix_tfidfvc,train_labels,sample_weight=None)\n",
    "test_term_document_matrix_svc_tf = vectorizer.transform(post_frame_test['data'])\n",
    "clf2.score(test_term_document_matrix_svc_tf, test_labels)\n"
   ]
  },
  {
   "cell_type": "markdown",
   "metadata": {
    "colab_type": "text",
    "id": "Cyaw0CkMWe_V"
   },
   "source": [
    "Evaluate the above models:"
   ]
  },
  {
   "cell_type": "code",
   "execution_count": 0,
   "metadata": {
    "colab": {
     "autoexec": {
      "startup": false,
      "wait_interval": 0
     }
    },
    "colab_type": "code",
    "collapsed": true,
    "id": "i1uYObBjTXxB"
   },
   "outputs": [],
   "source": [
    "from sklearn.metrics import precision_score\n",
    "from sklearn.metrics import recall_score\n",
    "from sklearn.metrics import accuracy_score\n",
    "from sklearn.metrics import fbeta_score\n",
    "from sklearn.metrics import classification_report\n",
    "from sklearn.metrics import confusion_matrix\n",
    "%matplotlib inline \n",
    "import matplotlib.pyplot as plt\n",
    "\n",
    "def eval_summary(name, predictions, labels):\n",
    "  \n",
    "  \n",
    "  precision = precision_score(predictions, labels,average='macro')\n",
    "  recall = recall_score(predictions, labels,average='macro')\n",
    "  accuracy = accuracy_score(predictions, labels)\n",
    "  f1 = fbeta_score(predictions, labels, 1,average='macro')#1 means f_1 measure\n",
    "  \n",
    "  print(\"Classifier '%s' has P=%0.3f R=%0.3f Acc=%0.3f F1=%0.3f\" % (name,precision,recall,accuracy,f1))\n",
    "\n",
    "\n",
    "#   print(classification_report(predictions, labels))\n",
    "#   print('\\nConfusion matrix:\\n',confusion_matrix(labels, predictions))\n"
   ]
  },
  {
   "cell_type": "markdown",
   "metadata": {
    "colab_type": "text",
    "id": "7KSVswgGWoux"
   },
   "source": [
    "Eval scores and confusion  matrix of Logistic regression"
   ]
  },
  {
   "cell_type": "code",
   "execution_count": 37,
   "metadata": {
    "colab": {
     "autoexec": {
      "startup": false,
      "wait_interval": 0
     },
     "base_uri": "https://localhost:8080/",
     "height": 121,
     "output_extras": [
      {
       "item_id": 1
      },
      {
       "item_id": 2
      }
     ]
    },
    "colab_type": "code",
    "executionInfo": {
     "elapsed": 498,
     "status": "ok",
     "timestamp": 1520896696644,
     "user": {
      "displayName": "Himaja y",
      "photoUrl": "//lh4.googleusercontent.com/-yhV3E8-6GOQ/AAAAAAAAAAI/AAAAAAAAURQ/Pcr0UKtZ_ww/s50-c-k-no/photo.jpg",
      "userId": "111905420220784225824"
     },
     "user_tz": 0
    },
    "id": "GhUXmMTOTomD",
    "outputId": "01635160-e324-4027-b2aa-76c6dff96748"
   },
   "outputs": [
    {
     "name": "stdout",
     "output_type": "stream",
     "text": [
      "Classifier 'CV LR' has P=0.562 R=0.693 Acc=0.674 F1=0.587\n",
      "Classifier 'TF LR' has P=0.265 R=0.484 Acc=0.485 F1=0.289\n"
     ]
    },
    {
     "name": "stderr",
     "output_type": "stream",
     "text": [
      "/usr/local/lib/python3.6/dist-packages/sklearn/metrics/classification.py:1137: UndefinedMetricWarning: Recall is ill-defined and being set to 0.0 in labels with no true samples.\n",
      "  'recall', 'true', average, warn_for)\n",
      "/usr/local/lib/python3.6/dist-packages/sklearn/metrics/classification.py:1137: UndefinedMetricWarning: F-score is ill-defined and being set to 0.0 in labels with no true samples.\n",
      "  'recall', 'true', average, warn_for)\n"
     ]
    }
   ],
   "source": [
    "eval_summary(\"CV LR\",  model_lr_cv.predict(test_term_document_matrix_lr_cv), test_labels)\n",
    "eval_summary(\"TF LR\",  model_lr_tf.predict(test_term_document_matrix_lr_tf), test_labels)\n"
   ]
  },
  {
   "cell_type": "markdown",
   "metadata": {
    "colab_type": "text",
    "id": "go-kjWgUWyYs"
   },
   "source": [
    "Eval scores and confusion matrix of SVClassifier"
   ]
  },
  {
   "cell_type": "code",
   "execution_count": 38,
   "metadata": {
    "colab": {
     "autoexec": {
      "startup": false,
      "wait_interval": 0
     },
     "base_uri": "https://localhost:8080/",
     "height": 121,
     "output_extras": [
      {
       "item_id": 1
      },
      {
       "item_id": 3
      }
     ]
    },
    "colab_type": "code",
    "executionInfo": {
     "elapsed": 2003,
     "status": "ok",
     "timestamp": 1520896698739,
     "user": {
      "displayName": "Himaja y",
      "photoUrl": "//lh4.googleusercontent.com/-yhV3E8-6GOQ/AAAAAAAAAAI/AAAAAAAAURQ/Pcr0UKtZ_ww/s50-c-k-no/photo.jpg",
      "userId": "111905420220784225824"
     },
     "user_tz": 0
    },
    "id": "F5fZrj54WT91",
    "outputId": "bc70cee8-606f-4f77-cb7b-9a6d7a3aa735"
   },
   "outputs": [
    {
     "name": "stderr",
     "output_type": "stream",
     "text": [
      "/usr/local/lib/python3.6/dist-packages/sklearn/metrics/classification.py:1137: UndefinedMetricWarning: Recall is ill-defined and being set to 0.0 in labels with no true samples.\n",
      "  'recall', 'true', average, warn_for)\n",
      "/usr/local/lib/python3.6/dist-packages/sklearn/metrics/classification.py:1137: UndefinedMetricWarning: F-score is ill-defined and being set to 0.0 in labels with no true samples.\n",
      "  'recall', 'true', average, warn_for)\n"
     ]
    },
    {
     "name": "stdout",
     "output_type": "stream",
     "text": [
      "Classifier 'CV SVC' has P=0.090 R=0.105 Acc=0.282 F1=0.075\n",
      "Classifier 'TF SVC' has P=0.050 R=0.012 Acc=0.230 F1=0.019\n"
     ]
    }
   ],
   "source": [
    "eval_summary(\"CV SVC\",  clf1.predict(test_term_document_matrix_svc_cv), test_labels)\n",
    "eval_summary(\"TF SVC\",  clf2.predict(test_term_document_matrix_svc_tf), test_labels)"
   ]
  },
  {
   "cell_type": "markdown",
   "metadata": {
    "colab_type": "text",
    "id": "zOQ9iynUW9WJ"
   },
   "source": [
    "Evaluation measures of Dummy classifier for both statified and most_frequent strategy"
   ]
  },
  {
   "cell_type": "code",
   "execution_count": 39,
   "metadata": {
    "colab": {
     "autoexec": {
      "startup": false,
      "wait_interval": 0
     },
     "base_uri": "https://localhost:8080/",
     "height": 156,
     "output_extras": [
      {
       "item_id": 1
      },
      {
       "item_id": 2
      }
     ]
    },
    "colab_type": "code",
    "executionInfo": {
     "elapsed": 781,
     "status": "ok",
     "timestamp": 1520896699567,
     "user": {
      "displayName": "Himaja y",
      "photoUrl": "//lh4.googleusercontent.com/-yhV3E8-6GOQ/AAAAAAAAAAI/AAAAAAAAURQ/Pcr0UKtZ_ww/s50-c-k-no/photo.jpg",
      "userId": "111905420220784225824"
     },
     "user_tz": 0
    },
    "id": "-t2G3yI-kQYb",
    "outputId": "7350d4c4-0476-4623-e9fb-cacabf445f1c"
   },
   "outputs": [
    {
     "name": "stdout",
     "output_type": "stream",
     "text": [
      "Classifier 'Dummy Random' has P=0.039 R=0.041 Acc=0.085 F1=0.039\n",
      "Classifier 'Dummy Random' has P=0.050 R=0.044 Acc=0.088 F1=0.046\n",
      "Classifier 'Dummy MF' has P=0.050 R=0.012 Acc=0.230 F1=0.019\n",
      "Classifier 'Dummy MF' has P=0.050 R=0.012 Acc=0.230 F1=0.019\n"
     ]
    },
    {
     "name": "stderr",
     "output_type": "stream",
     "text": [
      "/usr/local/lib/python3.6/dist-packages/sklearn/metrics/classification.py:1137: UndefinedMetricWarning: Recall is ill-defined and being set to 0.0 in labels with no true samples.\n",
      "  'recall', 'true', average, warn_for)\n",
      "/usr/local/lib/python3.6/dist-packages/sklearn/metrics/classification.py:1137: UndefinedMetricWarning: F-score is ill-defined and being set to 0.0 in labels with no true samples.\n",
      "  'recall', 'true', average, warn_for)\n"
     ]
    }
   ],
   "source": [
    "from sklearn.dummy import DummyClassifier\n",
    "\n",
    "dummy_cv_lr = DummyClassifier(strategy='stratified')\n",
    "prior_model1 = dummy_cv_lr.fit(train_term_document_matrix_cv,train_labels)\n",
    "eval_summary(\"Dummy Random\", prior_model1.predict(test_term_document_matrix_lr_cv), test_labels )\n",
    "\n",
    "dummy_tf_lr = DummyClassifier(strategy='stratified')\n",
    "prior_model2 = dummy_tf_lr.fit(train_term_document_matrix_tfidfvc,train_labels)\n",
    "eval_summary(\"Dummy Random\", prior_model2.predict(test_term_document_matrix_lr_tf), test_labels )\n",
    "\n",
    "dummy_cv_svc = DummyClassifier(strategy='most_frequent')\n",
    "prior_model3 = dummy_cv_svc.fit(train_term_document_matrix_cv, train_labels)\n",
    "eval_summary(\"Dummy MF\", prior_model3.predict(test_term_document_matrix_lr_cv), test_labels )\n",
    "\n",
    "\n",
    "\n",
    "dummy_tf_svc = DummyClassifier(strategy='most_frequent')\n",
    "prior_model4 = dummy_tf_svc.fit(train_term_document_matrix_tfidfvc,train_labels)\n",
    "eval_summary(\"Dummy MF\", prior_model4.predict(test_term_document_matrix_lr_tf), test_labels )"
   ]
  },
  {
   "cell_type": "markdown",
   "metadata": {
    "colab_type": "text",
    "id": "WWR-HXT7XM1q"
   },
   "source": [
    "**Question 2** Tuning the parameters of tfidf vectorizer, logistic regressor and SVC"
   ]
  },
  {
   "cell_type": "code",
   "execution_count": 40,
   "metadata": {
    "colab": {
     "autoexec": {
      "startup": false,
      "wait_interval": 0
     },
     "base_uri": "https://localhost:8080/",
     "height": 3733,
     "output_extras": [
      {
       "item_id": 1
      },
      {
       "item_id": 2
      }
     ]
    },
    "colab_type": "code",
    "executionInfo": {
     "elapsed": 3786822,
     "status": "ok",
     "timestamp": 1520900486484,
     "user": {
      "displayName": "Himaja y",
      "photoUrl": "//lh4.googleusercontent.com/-yhV3E8-6GOQ/AAAAAAAAAAI/AAAAAAAAURQ/Pcr0UKtZ_ww/s50-c-k-no/photo.jpg",
      "userId": "111905420220784225824"
     },
     "user_tz": 0
    },
    "id": "iO6vMnEicefw",
    "outputId": "1a16a5f6-7100-4a77-953a-507306c5cdd8"
   },
   "outputs": [
    {
     "name": "stdout",
     "output_type": "stream",
     "text": [
      "Best: 0.259615 using {'clf__C': 100, 'tfidf__max_features': 5000, 'tfidf__ngram_range': (1, 3), 'tfidf__sublinear_tf': False}\n",
      "Best: 0.722527 using {'lr__C': 100, 'tfidf__max_features': 5000, 'tfidf__ngram_range': (1, 1), 'tfidf__sublinear_tf': True}\n",
      "0.229396 (0.002090) with: {'clf__C': 0.1, 'tfidf__max_features': 5000, 'tfidf__ngram_range': (1, 1), 'tfidf__sublinear_tf': True}\n",
      "0.229396 (0.002090) with: {'clf__C': 0.1, 'tfidf__max_features': 5000, 'tfidf__ngram_range': (1, 1), 'tfidf__sublinear_tf': False}\n",
      "0.229396 (0.002090) with: {'clf__C': 0.1, 'tfidf__max_features': 5000, 'tfidf__ngram_range': (1, 2), 'tfidf__sublinear_tf': True}\n",
      "0.229396 (0.002090) with: {'clf__C': 0.1, 'tfidf__max_features': 5000, 'tfidf__ngram_range': (1, 2), 'tfidf__sublinear_tf': False}\n",
      "0.229396 (0.002090) with: {'clf__C': 0.1, 'tfidf__max_features': 5000, 'tfidf__ngram_range': (1, 3), 'tfidf__sublinear_tf': True}\n",
      "0.229396 (0.002090) with: {'clf__C': 0.1, 'tfidf__max_features': 5000, 'tfidf__ngram_range': (1, 3), 'tfidf__sublinear_tf': False}\n",
      "0.229396 (0.002090) with: {'clf__C': 0.1, 'tfidf__max_features': 10000, 'tfidf__ngram_range': (1, 1), 'tfidf__sublinear_tf': True}\n",
      "0.229396 (0.002090) with: {'clf__C': 0.1, 'tfidf__max_features': 10000, 'tfidf__ngram_range': (1, 1), 'tfidf__sublinear_tf': False}\n",
      "0.229396 (0.002090) with: {'clf__C': 0.1, 'tfidf__max_features': 10000, 'tfidf__ngram_range': (1, 2), 'tfidf__sublinear_tf': True}\n",
      "0.229396 (0.002090) with: {'clf__C': 0.1, 'tfidf__max_features': 10000, 'tfidf__ngram_range': (1, 2), 'tfidf__sublinear_tf': False}\n",
      "0.229396 (0.002090) with: {'clf__C': 0.1, 'tfidf__max_features': 10000, 'tfidf__ngram_range': (1, 3), 'tfidf__sublinear_tf': True}\n",
      "0.229396 (0.002090) with: {'clf__C': 0.1, 'tfidf__max_features': 10000, 'tfidf__ngram_range': (1, 3), 'tfidf__sublinear_tf': False}\n",
      "0.229396 (0.002090) with: {'clf__C': 0.1, 'tfidf__max_features': 20000, 'tfidf__ngram_range': (1, 1), 'tfidf__sublinear_tf': True}\n",
      "0.229396 (0.002090) with: {'clf__C': 0.1, 'tfidf__max_features': 20000, 'tfidf__ngram_range': (1, 1), 'tfidf__sublinear_tf': False}\n",
      "0.229396 (0.002090) with: {'clf__C': 0.1, 'tfidf__max_features': 20000, 'tfidf__ngram_range': (1, 2), 'tfidf__sublinear_tf': True}\n",
      "0.229396 (0.002090) with: {'clf__C': 0.1, 'tfidf__max_features': 20000, 'tfidf__ngram_range': (1, 2), 'tfidf__sublinear_tf': False}\n",
      "0.229396 (0.002090) with: {'clf__C': 0.1, 'tfidf__max_features': 20000, 'tfidf__ngram_range': (1, 3), 'tfidf__sublinear_tf': True}\n",
      "0.229396 (0.002090) with: {'clf__C': 0.1, 'tfidf__max_features': 20000, 'tfidf__ngram_range': (1, 3), 'tfidf__sublinear_tf': False}\n",
      "0.229396 (0.002090) with: {'clf__C': 0.1, 'tfidf__max_features': None, 'tfidf__ngram_range': (1, 1), 'tfidf__sublinear_tf': True}\n",
      "0.229396 (0.002090) with: {'clf__C': 0.1, 'tfidf__max_features': None, 'tfidf__ngram_range': (1, 1), 'tfidf__sublinear_tf': False}\n",
      "0.229396 (0.002090) with: {'clf__C': 0.1, 'tfidf__max_features': None, 'tfidf__ngram_range': (1, 2), 'tfidf__sublinear_tf': True}\n",
      "0.229396 (0.002090) with: {'clf__C': 0.1, 'tfidf__max_features': None, 'tfidf__ngram_range': (1, 2), 'tfidf__sublinear_tf': False}\n",
      "0.229396 (0.002090) with: {'clf__C': 0.1, 'tfidf__max_features': None, 'tfidf__ngram_range': (1, 3), 'tfidf__sublinear_tf': True}\n",
      "0.229396 (0.002090) with: {'clf__C': 0.1, 'tfidf__max_features': None, 'tfidf__ngram_range': (1, 3), 'tfidf__sublinear_tf': False}\n",
      "0.229396 (0.002090) with: {'clf__C': 1, 'tfidf__max_features': 5000, 'tfidf__ngram_range': (1, 1), 'tfidf__sublinear_tf': True}\n",
      "0.229396 (0.002090) with: {'clf__C': 1, 'tfidf__max_features': 5000, 'tfidf__ngram_range': (1, 1), 'tfidf__sublinear_tf': False}\n",
      "0.229396 (0.002090) with: {'clf__C': 1, 'tfidf__max_features': 5000, 'tfidf__ngram_range': (1, 2), 'tfidf__sublinear_tf': True}\n",
      "0.229396 (0.002090) with: {'clf__C': 1, 'tfidf__max_features': 5000, 'tfidf__ngram_range': (1, 2), 'tfidf__sublinear_tf': False}\n",
      "0.229396 (0.002090) with: {'clf__C': 1, 'tfidf__max_features': 5000, 'tfidf__ngram_range': (1, 3), 'tfidf__sublinear_tf': True}\n",
      "0.229396 (0.002090) with: {'clf__C': 1, 'tfidf__max_features': 5000, 'tfidf__ngram_range': (1, 3), 'tfidf__sublinear_tf': False}\n",
      "0.229396 (0.002090) with: {'clf__C': 1, 'tfidf__max_features': 10000, 'tfidf__ngram_range': (1, 1), 'tfidf__sublinear_tf': True}\n",
      "0.229396 (0.002090) with: {'clf__C': 1, 'tfidf__max_features': 10000, 'tfidf__ngram_range': (1, 1), 'tfidf__sublinear_tf': False}\n",
      "0.229396 (0.002090) with: {'clf__C': 1, 'tfidf__max_features': 10000, 'tfidf__ngram_range': (1, 2), 'tfidf__sublinear_tf': True}\n",
      "0.229396 (0.002090) with: {'clf__C': 1, 'tfidf__max_features': 10000, 'tfidf__ngram_range': (1, 2), 'tfidf__sublinear_tf': False}\n",
      "0.229396 (0.002090) with: {'clf__C': 1, 'tfidf__max_features': 10000, 'tfidf__ngram_range': (1, 3), 'tfidf__sublinear_tf': True}\n",
      "0.229396 (0.002090) with: {'clf__C': 1, 'tfidf__max_features': 10000, 'tfidf__ngram_range': (1, 3), 'tfidf__sublinear_tf': False}\n",
      "0.229396 (0.002090) with: {'clf__C': 1, 'tfidf__max_features': 20000, 'tfidf__ngram_range': (1, 1), 'tfidf__sublinear_tf': True}\n",
      "0.229396 (0.002090) with: {'clf__C': 1, 'tfidf__max_features': 20000, 'tfidf__ngram_range': (1, 1), 'tfidf__sublinear_tf': False}\n",
      "0.229396 (0.002090) with: {'clf__C': 1, 'tfidf__max_features': 20000, 'tfidf__ngram_range': (1, 2), 'tfidf__sublinear_tf': True}\n",
      "0.229396 (0.002090) with: {'clf__C': 1, 'tfidf__max_features': 20000, 'tfidf__ngram_range': (1, 2), 'tfidf__sublinear_tf': False}\n",
      "0.229396 (0.002090) with: {'clf__C': 1, 'tfidf__max_features': 20000, 'tfidf__ngram_range': (1, 3), 'tfidf__sublinear_tf': True}\n",
      "0.229396 (0.002090) with: {'clf__C': 1, 'tfidf__max_features': 20000, 'tfidf__ngram_range': (1, 3), 'tfidf__sublinear_tf': False}\n",
      "0.229396 (0.002090) with: {'clf__C': 1, 'tfidf__max_features': None, 'tfidf__ngram_range': (1, 1), 'tfidf__sublinear_tf': True}\n",
      "0.229396 (0.002090) with: {'clf__C': 1, 'tfidf__max_features': None, 'tfidf__ngram_range': (1, 1), 'tfidf__sublinear_tf': False}\n",
      "0.229396 (0.002090) with: {'clf__C': 1, 'tfidf__max_features': None, 'tfidf__ngram_range': (1, 2), 'tfidf__sublinear_tf': True}\n",
      "0.229396 (0.002090) with: {'clf__C': 1, 'tfidf__max_features': None, 'tfidf__ngram_range': (1, 2), 'tfidf__sublinear_tf': False}\n",
      "0.229396 (0.002090) with: {'clf__C': 1, 'tfidf__max_features': None, 'tfidf__ngram_range': (1, 3), 'tfidf__sublinear_tf': True}\n",
      "0.229396 (0.002090) with: {'clf__C': 1, 'tfidf__max_features': None, 'tfidf__ngram_range': (1, 3), 'tfidf__sublinear_tf': False}\n",
      "0.229396 (0.002090) with: {'clf__C': 10, 'tfidf__max_features': 5000, 'tfidf__ngram_range': (1, 1), 'tfidf__sublinear_tf': True}\n",
      "0.229396 (0.002090) with: {'clf__C': 10, 'tfidf__max_features': 5000, 'tfidf__ngram_range': (1, 1), 'tfidf__sublinear_tf': False}\n",
      "0.229396 (0.002090) with: {'clf__C': 10, 'tfidf__max_features': 5000, 'tfidf__ngram_range': (1, 2), 'tfidf__sublinear_tf': True}\n",
      "0.229396 (0.002090) with: {'clf__C': 10, 'tfidf__max_features': 5000, 'tfidf__ngram_range': (1, 2), 'tfidf__sublinear_tf': False}\n",
      "0.229396 (0.002090) with: {'clf__C': 10, 'tfidf__max_features': 5000, 'tfidf__ngram_range': (1, 3), 'tfidf__sublinear_tf': True}\n",
      "0.229396 (0.002090) with: {'clf__C': 10, 'tfidf__max_features': 5000, 'tfidf__ngram_range': (1, 3), 'tfidf__sublinear_tf': False}\n",
      "0.229396 (0.002090) with: {'clf__C': 10, 'tfidf__max_features': 10000, 'tfidf__ngram_range': (1, 1), 'tfidf__sublinear_tf': True}\n",
      "0.229396 (0.002090) with: {'clf__C': 10, 'tfidf__max_features': 10000, 'tfidf__ngram_range': (1, 1), 'tfidf__sublinear_tf': False}\n",
      "0.229396 (0.002090) with: {'clf__C': 10, 'tfidf__max_features': 10000, 'tfidf__ngram_range': (1, 2), 'tfidf__sublinear_tf': True}\n",
      "0.229396 (0.002090) with: {'clf__C': 10, 'tfidf__max_features': 10000, 'tfidf__ngram_range': (1, 2), 'tfidf__sublinear_tf': False}\n",
      "0.229396 (0.002090) with: {'clf__C': 10, 'tfidf__max_features': 10000, 'tfidf__ngram_range': (1, 3), 'tfidf__sublinear_tf': True}\n",
      "0.229396 (0.002090) with: {'clf__C': 10, 'tfidf__max_features': 10000, 'tfidf__ngram_range': (1, 3), 'tfidf__sublinear_tf': False}\n",
      "0.229396 (0.002090) with: {'clf__C': 10, 'tfidf__max_features': 20000, 'tfidf__ngram_range': (1, 1), 'tfidf__sublinear_tf': True}\n",
      "0.229396 (0.002090) with: {'clf__C': 10, 'tfidf__max_features': 20000, 'tfidf__ngram_range': (1, 1), 'tfidf__sublinear_tf': False}\n",
      "0.229396 (0.002090) with: {'clf__C': 10, 'tfidf__max_features': 20000, 'tfidf__ngram_range': (1, 2), 'tfidf__sublinear_tf': True}\n",
      "0.229396 (0.002090) with: {'clf__C': 10, 'tfidf__max_features': 20000, 'tfidf__ngram_range': (1, 2), 'tfidf__sublinear_tf': False}\n",
      "0.229396 (0.002090) with: {'clf__C': 10, 'tfidf__max_features': 20000, 'tfidf__ngram_range': (1, 3), 'tfidf__sublinear_tf': True}\n",
      "0.229396 (0.002090) with: {'clf__C': 10, 'tfidf__max_features': 20000, 'tfidf__ngram_range': (1, 3), 'tfidf__sublinear_tf': False}\n",
      "0.229396 (0.002090) with: {'clf__C': 10, 'tfidf__max_features': None, 'tfidf__ngram_range': (1, 1), 'tfidf__sublinear_tf': True}\n",
      "0.229396 (0.002090) with: {'clf__C': 10, 'tfidf__max_features': None, 'tfidf__ngram_range': (1, 1), 'tfidf__sublinear_tf': False}\n",
      "0.229396 (0.002090) with: {'clf__C': 10, 'tfidf__max_features': None, 'tfidf__ngram_range': (1, 2), 'tfidf__sublinear_tf': True}\n",
      "0.229396 (0.002090) with: {'clf__C': 10, 'tfidf__max_features': None, 'tfidf__ngram_range': (1, 2), 'tfidf__sublinear_tf': False}\n",
      "0.229396 (0.002090) with: {'clf__C': 10, 'tfidf__max_features': None, 'tfidf__ngram_range': (1, 3), 'tfidf__sublinear_tf': True}\n",
      "0.229396 (0.002090) with: {'clf__C': 10, 'tfidf__max_features': None, 'tfidf__ngram_range': (1, 3), 'tfidf__sublinear_tf': False}\n",
      "0.229396 (0.002090) with: {'clf__C': 100, 'tfidf__max_features': 5000, 'tfidf__ngram_range': (1, 1), 'tfidf__sublinear_tf': True}\n",
      "0.245879 (0.002321) with: {'clf__C': 100, 'tfidf__max_features': 5000, 'tfidf__ngram_range': (1, 1), 'tfidf__sublinear_tf': False}\n",
      "0.229396 (0.002090) with: {'clf__C': 100, 'tfidf__max_features': 5000, 'tfidf__ngram_range': (1, 2), 'tfidf__sublinear_tf': True}\n",
      "0.258929 (0.006242) with: {'clf__C': 100, 'tfidf__max_features': 5000, 'tfidf__ngram_range': (1, 2), 'tfidf__sublinear_tf': False}\n",
      "0.229396 (0.002090) with: {'clf__C': 100, 'tfidf__max_features': 5000, 'tfidf__ngram_range': (1, 3), 'tfidf__sublinear_tf': True}\n",
      "0.259615 (0.007217) with: {'clf__C': 100, 'tfidf__max_features': 5000, 'tfidf__ngram_range': (1, 3), 'tfidf__sublinear_tf': False}\n",
      "0.229396 (0.002090) with: {'clf__C': 100, 'tfidf__max_features': 10000, 'tfidf__ngram_range': (1, 1), 'tfidf__sublinear_tf': True}\n",
      "0.229396 (0.002090) with: {'clf__C': 100, 'tfidf__max_features': 10000, 'tfidf__ngram_range': (1, 1), 'tfidf__sublinear_tf': False}\n",
      "0.229396 (0.002090) with: {'clf__C': 100, 'tfidf__max_features': 10000, 'tfidf__ngram_range': (1, 2), 'tfidf__sublinear_tf': True}\n",
      "0.229396 (0.002090) with: {'clf__C': 100, 'tfidf__max_features': 10000, 'tfidf__ngram_range': (1, 2), 'tfidf__sublinear_tf': False}\n",
      "0.229396 (0.002090) with: {'clf__C': 100, 'tfidf__max_features': 10000, 'tfidf__ngram_range': (1, 3), 'tfidf__sublinear_tf': True}\n",
      "0.229396 (0.002090) with: {'clf__C': 100, 'tfidf__max_features': 10000, 'tfidf__ngram_range': (1, 3), 'tfidf__sublinear_tf': False}\n",
      "0.229396 (0.002090) with: {'clf__C': 100, 'tfidf__max_features': 20000, 'tfidf__ngram_range': (1, 1), 'tfidf__sublinear_tf': True}\n",
      "0.229396 (0.002090) with: {'clf__C': 100, 'tfidf__max_features': 20000, 'tfidf__ngram_range': (1, 1), 'tfidf__sublinear_tf': False}\n",
      "0.229396 (0.002090) with: {'clf__C': 100, 'tfidf__max_features': 20000, 'tfidf__ngram_range': (1, 2), 'tfidf__sublinear_tf': True}\n",
      "0.229396 (0.002090) with: {'clf__C': 100, 'tfidf__max_features': 20000, 'tfidf__ngram_range': (1, 2), 'tfidf__sublinear_tf': False}\n",
      "0.229396 (0.002090) with: {'clf__C': 100, 'tfidf__max_features': 20000, 'tfidf__ngram_range': (1, 3), 'tfidf__sublinear_tf': True}\n",
      "0.229396 (0.002090) with: {'clf__C': 100, 'tfidf__max_features': 20000, 'tfidf__ngram_range': (1, 3), 'tfidf__sublinear_tf': False}\n",
      "0.229396 (0.002090) with: {'clf__C': 100, 'tfidf__max_features': None, 'tfidf__ngram_range': (1, 1), 'tfidf__sublinear_tf': True}\n",
      "0.229396 (0.002090) with: {'clf__C': 100, 'tfidf__max_features': None, 'tfidf__ngram_range': (1, 1), 'tfidf__sublinear_tf': False}\n",
      "0.229396 (0.002090) with: {'clf__C': 100, 'tfidf__max_features': None, 'tfidf__ngram_range': (1, 2), 'tfidf__sublinear_tf': True}\n",
      "0.229396 (0.002090) with: {'clf__C': 100, 'tfidf__max_features': None, 'tfidf__ngram_range': (1, 2), 'tfidf__sublinear_tf': False}\n",
      "0.229396 (0.002090) with: {'clf__C': 100, 'tfidf__max_features': None, 'tfidf__ngram_range': (1, 3), 'tfidf__sublinear_tf': True}\n",
      "0.229396 (0.002090) with: {'clf__C': 100, 'tfidf__max_features': None, 'tfidf__ngram_range': (1, 3), 'tfidf__sublinear_tf': False}\n",
      "0.272665 (0.008406) with: {'lr__C': 0.1, 'tfidf__max_features': 5000, 'tfidf__ngram_range': (1, 1), 'tfidf__sublinear_tf': True}\n",
      "0.267170 (0.005069) with: {'lr__C': 0.1, 'tfidf__max_features': 5000, 'tfidf__ngram_range': (1, 1), 'tfidf__sublinear_tf': False}\n",
      "0.270604 (0.007537) with: {'lr__C': 0.1, 'tfidf__max_features': 5000, 'tfidf__ngram_range': (1, 2), 'tfidf__sublinear_tf': True}\n",
      "0.268544 (0.006963) with: {'lr__C': 0.1, 'tfidf__max_features': 5000, 'tfidf__ngram_range': (1, 2), 'tfidf__sublinear_tf': False}\n",
      "0.270604 (0.007537) with: {'lr__C': 0.1, 'tfidf__max_features': 5000, 'tfidf__ngram_range': (1, 3), 'tfidf__sublinear_tf': True}\n",
      "0.268544 (0.006963) with: {'lr__C': 0.1, 'tfidf__max_features': 5000, 'tfidf__ngram_range': (1, 3), 'tfidf__sublinear_tf': False}\n",
      "0.268544 (0.005840) with: {'lr__C': 0.1, 'tfidf__max_features': 10000, 'tfidf__ngram_range': (1, 1), 'tfidf__sublinear_tf': True}\n",
      "0.267170 (0.005069) with: {'lr__C': 0.1, 'tfidf__max_features': 10000, 'tfidf__ngram_range': (1, 1), 'tfidf__sublinear_tf': False}\n",
      "0.267170 (0.005069) with: {'lr__C': 0.1, 'tfidf__max_features': 10000, 'tfidf__ngram_range': (1, 2), 'tfidf__sublinear_tf': True}\n",
      "0.267170 (0.005069) with: {'lr__C': 0.1, 'tfidf__max_features': 10000, 'tfidf__ngram_range': (1, 2), 'tfidf__sublinear_tf': False}\n",
      "0.267170 (0.005069) with: {'lr__C': 0.1, 'tfidf__max_features': 10000, 'tfidf__ngram_range': (1, 3), 'tfidf__sublinear_tf': True}\n",
      "0.267170 (0.005069) with: {'lr__C': 0.1, 'tfidf__max_features': 10000, 'tfidf__ngram_range': (1, 3), 'tfidf__sublinear_tf': False}\n",
      "0.268544 (0.005840) with: {'lr__C': 0.1, 'tfidf__max_features': 20000, 'tfidf__ngram_range': (1, 1), 'tfidf__sublinear_tf': True}\n",
      "0.267170 (0.005069) with: {'lr__C': 0.1, 'tfidf__max_features': 20000, 'tfidf__ngram_range': (1, 1), 'tfidf__sublinear_tf': False}\n",
      "0.266484 (0.005826) with: {'lr__C': 0.1, 'tfidf__max_features': 20000, 'tfidf__ngram_range': (1, 2), 'tfidf__sublinear_tf': True}\n",
      "0.267170 (0.005069) with: {'lr__C': 0.1, 'tfidf__max_features': 20000, 'tfidf__ngram_range': (1, 2), 'tfidf__sublinear_tf': False}\n",
      "0.266484 (0.005826) with: {'lr__C': 0.1, 'tfidf__max_features': 20000, 'tfidf__ngram_range': (1, 3), 'tfidf__sublinear_tf': True}\n",
      "0.266484 (0.005826) with: {'lr__C': 0.1, 'tfidf__max_features': 20000, 'tfidf__ngram_range': (1, 3), 'tfidf__sublinear_tf': False}\n",
      "0.268544 (0.005840) with: {'lr__C': 0.1, 'tfidf__max_features': None, 'tfidf__ngram_range': (1, 1), 'tfidf__sublinear_tf': True}\n",
      "0.267170 (0.005069) with: {'lr__C': 0.1, 'tfidf__max_features': None, 'tfidf__ngram_range': (1, 1), 'tfidf__sublinear_tf': False}\n",
      "0.250687 (0.004938) with: {'lr__C': 0.1, 'tfidf__max_features': None, 'tfidf__ngram_range': (1, 2), 'tfidf__sublinear_tf': True}\n",
      "0.266484 (0.005826) with: {'lr__C': 0.1, 'tfidf__max_features': None, 'tfidf__ngram_range': (1, 2), 'tfidf__sublinear_tf': False}\n",
      "0.230769 (0.001403) with: {'lr__C': 0.1, 'tfidf__max_features': None, 'tfidf__ngram_range': (1, 3), 'tfidf__sublinear_tf': True}\n",
      "0.265110 (0.005053) with: {'lr__C': 0.1, 'tfidf__max_features': None, 'tfidf__ngram_range': (1, 3), 'tfidf__sublinear_tf': False}\n",
      "0.475962 (0.012607) with: {'lr__C': 1, 'tfidf__max_features': 5000, 'tfidf__ngram_range': (1, 1), 'tfidf__sublinear_tf': True}\n",
      "0.473901 (0.011733) with: {'lr__C': 1, 'tfidf__max_features': 5000, 'tfidf__ngram_range': (1, 1), 'tfidf__sublinear_tf': False}\n",
      "0.459478 (0.008545) with: {'lr__C': 1, 'tfidf__max_features': 5000, 'tfidf__ngram_range': (1, 2), 'tfidf__sublinear_tf': True}\n",
      "0.471154 (0.012299) with: {'lr__C': 1, 'tfidf__max_features': 5000, 'tfidf__ngram_range': (1, 2), 'tfidf__sublinear_tf': False}\n",
      "0.460852 (0.007963) with: {'lr__C': 1, 'tfidf__max_features': 5000, 'tfidf__ngram_range': (1, 3), 'tfidf__sublinear_tf': True}\n",
      "0.472527 (0.015924) with: {'lr__C': 1, 'tfidf__max_features': 5000, 'tfidf__ngram_range': (1, 3), 'tfidf__sublinear_tf': False}\n",
      "0.451236 (0.006867) with: {'lr__C': 1, 'tfidf__max_features': 10000, 'tfidf__ngram_range': (1, 1), 'tfidf__sublinear_tf': True}\n",
      "0.456044 (0.010239) with: {'lr__C': 1, 'tfidf__max_features': 10000, 'tfidf__ngram_range': (1, 1), 'tfidf__sublinear_tf': False}\n",
      "0.430632 (0.004607) with: {'lr__C': 1, 'tfidf__max_features': 10000, 'tfidf__ngram_range': (1, 2), 'tfidf__sublinear_tf': True}\n",
      "0.450549 (0.014164) with: {'lr__C': 1, 'tfidf__max_features': 10000, 'tfidf__ngram_range': (1, 2), 'tfidf__sublinear_tf': False}\n",
      "0.431319 (0.004111) with: {'lr__C': 1, 'tfidf__max_features': 10000, 'tfidf__ngram_range': (1, 3), 'tfidf__sublinear_tf': True}\n",
      "0.451236 (0.015441) with: {'lr__C': 1, 'tfidf__max_features': 10000, 'tfidf__ngram_range': (1, 3), 'tfidf__sublinear_tf': False}\n",
      "0.435440 (0.007619) with: {'lr__C': 1, 'tfidf__max_features': 20000, 'tfidf__ngram_range': (1, 1), 'tfidf__sublinear_tf': True}\n",
      "0.449863 (0.013402) with: {'lr__C': 1, 'tfidf__max_features': 20000, 'tfidf__ngram_range': (1, 1), 'tfidf__sublinear_tf': False}\n",
      "0.407967 (0.005192) with: {'lr__C': 1, 'tfidf__max_features': 20000, 'tfidf__ngram_range': (1, 2), 'tfidf__sublinear_tf': True}\n",
      "0.428571 (0.009061) with: {'lr__C': 1, 'tfidf__max_features': 20000, 'tfidf__ngram_range': (1, 2), 'tfidf__sublinear_tf': False}\n",
      "0.407967 (0.002947) with: {'lr__C': 1, 'tfidf__max_features': 20000, 'tfidf__ngram_range': (1, 3), 'tfidf__sublinear_tf': True}\n",
      "0.425824 (0.005611) with: {'lr__C': 1, 'tfidf__max_features': 20000, 'tfidf__ngram_range': (1, 3), 'tfidf__sublinear_tf': False}\n",
      "0.434066 (0.008030) with: {'lr__C': 1, 'tfidf__max_features': None, 'tfidf__ngram_range': (1, 1), 'tfidf__sublinear_tf': True}\n",
      "0.449863 (0.011833) with: {'lr__C': 1, 'tfidf__max_features': None, 'tfidf__ngram_range': (1, 1), 'tfidf__sublinear_tf': False}\n",
      "0.354396 (0.005576) with: {'lr__C': 1, 'tfidf__max_features': None, 'tfidf__ngram_range': (1, 2), 'tfidf__sublinear_tf': True}\n",
      "0.375000 (0.008568) with: {'lr__C': 1, 'tfidf__max_features': None, 'tfidf__ngram_range': (1, 2), 'tfidf__sublinear_tf': False}\n",
      "0.320742 (0.003264) with: {'lr__C': 1, 'tfidf__max_features': None, 'tfidf__ngram_range': (1, 3), 'tfidf__sublinear_tf': True}\n",
      "0.351648 (0.002973) with: {'lr__C': 1, 'tfidf__max_features': None, 'tfidf__ngram_range': (1, 3), 'tfidf__sublinear_tf': False}\n",
      "0.694368 (0.017984) with: {'lr__C': 10, 'tfidf__max_features': 5000, 'tfidf__ngram_range': (1, 1), 'tfidf__sublinear_tf': True}\n",
      "0.679258 (0.026285) with: {'lr__C': 10, 'tfidf__max_features': 5000, 'tfidf__ngram_range': (1, 1), 'tfidf__sublinear_tf': False}\n",
      "0.672390 (0.012474) with: {'lr__C': 10, 'tfidf__max_features': 5000, 'tfidf__ngram_range': (1, 2), 'tfidf__sublinear_tf': True}\n",
      "0.660714 (0.016704) with: {'lr__C': 10, 'tfidf__max_features': 5000, 'tfidf__ngram_range': (1, 2), 'tfidf__sublinear_tf': False}\n",
      "0.675824 (0.014696) with: {'lr__C': 10, 'tfidf__max_features': 5000, 'tfidf__ngram_range': (1, 3), 'tfidf__sublinear_tf': True}\n",
      "0.662775 (0.014620) with: {'lr__C': 10, 'tfidf__max_features': 5000, 'tfidf__ngram_range': (1, 3), 'tfidf__sublinear_tf': False}\n",
      "0.680632 (0.025392) with: {'lr__C': 10, 'tfidf__max_features': 10000, 'tfidf__ngram_range': (1, 1), 'tfidf__sublinear_tf': True}\n",
      "0.671703 (0.028280) with: {'lr__C': 10, 'tfidf__max_features': 10000, 'tfidf__ngram_range': (1, 1), 'tfidf__sublinear_tf': False}\n",
      "0.657280 (0.019311) with: {'lr__C': 10, 'tfidf__max_features': 10000, 'tfidf__ngram_range': (1, 2), 'tfidf__sublinear_tf': True}\n",
      "0.663462 (0.022240) with: {'lr__C': 10, 'tfidf__max_features': 10000, 'tfidf__ngram_range': (1, 2), 'tfidf__sublinear_tf': False}\n",
      "0.658654 (0.014557) with: {'lr__C': 10, 'tfidf__max_features': 10000, 'tfidf__ngram_range': (1, 3), 'tfidf__sublinear_tf': True}\n",
      "0.654533 (0.018870) with: {'lr__C': 10, 'tfidf__max_features': 10000, 'tfidf__ngram_range': (1, 3), 'tfidf__sublinear_tf': False}\n",
      "0.670330 (0.021123) with: {'lr__C': 10, 'tfidf__max_features': 20000, 'tfidf__ngram_range': (1, 1), 'tfidf__sublinear_tf': True}\n",
      "0.657967 (0.026559) with: {'lr__C': 10, 'tfidf__max_features': 20000, 'tfidf__ngram_range': (1, 1), 'tfidf__sublinear_tf': False}\n",
      "0.636676 (0.016586) with: {'lr__C': 10, 'tfidf__max_features': 20000, 'tfidf__ngram_range': (1, 2), 'tfidf__sublinear_tf': True}\n",
      "0.651786 (0.021293) with: {'lr__C': 10, 'tfidf__max_features': 20000, 'tfidf__ngram_range': (1, 2), 'tfidf__sublinear_tf': False}\n",
      "0.631868 (0.022062) with: {'lr__C': 10, 'tfidf__max_features': 20000, 'tfidf__ngram_range': (1, 3), 'tfidf__sublinear_tf': True}\n",
      "0.650412 (0.024715) with: {'lr__C': 10, 'tfidf__max_features': 20000, 'tfidf__ngram_range': (1, 3), 'tfidf__sublinear_tf': False}\n",
      "0.668956 (0.023085) with: {'lr__C': 10, 'tfidf__max_features': None, 'tfidf__ngram_range': (1, 1), 'tfidf__sublinear_tf': True}\n",
      "0.654533 (0.028476) with: {'lr__C': 10, 'tfidf__max_features': None, 'tfidf__ngram_range': (1, 1), 'tfidf__sublinear_tf': False}\n",
      "0.566621 (0.024285) with: {'lr__C': 10, 'tfidf__max_features': None, 'tfidf__ngram_range': (1, 2), 'tfidf__sublinear_tf': True}\n",
      "0.609203 (0.022293) with: {'lr__C': 10, 'tfidf__max_features': None, 'tfidf__ngram_range': (1, 2), 'tfidf__sublinear_tf': False}\n",
      "0.515110 (0.015065) with: {'lr__C': 10, 'tfidf__max_features': None, 'tfidf__ngram_range': (1, 3), 'tfidf__sublinear_tf': True}\n",
      "0.574863 (0.024591) with: {'lr__C': 10, 'tfidf__max_features': None, 'tfidf__ngram_range': (1, 3), 'tfidf__sublinear_tf': False}\n",
      "0.722527 (0.016722) with: {'lr__C': 100, 'tfidf__max_features': 5000, 'tfidf__ngram_range': (1, 1), 'tfidf__sublinear_tf': True}\n",
      "0.703297 (0.019769) with: {'lr__C': 100, 'tfidf__max_features': 5000, 'tfidf__ngram_range': (1, 1), 'tfidf__sublinear_tf': False}\n",
      "0.704670 (0.015443) with: {'lr__C': 100, 'tfidf__max_features': 5000, 'tfidf__ngram_range': (1, 2), 'tfidf__sublinear_tf': True}\n",
      "0.686813 (0.018021) with: {'lr__C': 100, 'tfidf__max_features': 5000, 'tfidf__ngram_range': (1, 2), 'tfidf__sublinear_tf': False}\n",
      "0.705357 (0.013969) with: {'lr__C': 100, 'tfidf__max_features': 5000, 'tfidf__ngram_range': (1, 3), 'tfidf__sublinear_tf': True}\n",
      "0.686126 (0.014629) with: {'lr__C': 100, 'tfidf__max_features': 5000, 'tfidf__ngram_range': (1, 3), 'tfidf__sublinear_tf': False}\n",
      "0.714286 (0.015432) with: {'lr__C': 100, 'tfidf__max_features': 10000, 'tfidf__ngram_range': (1, 1), 'tfidf__sublinear_tf': True}\n",
      "0.699176 (0.022941) with: {'lr__C': 100, 'tfidf__max_features': 10000, 'tfidf__ngram_range': (1, 1), 'tfidf__sublinear_tf': False}\n",
      "0.702610 (0.013018) with: {'lr__C': 100, 'tfidf__max_features': 10000, 'tfidf__ngram_range': (1, 2), 'tfidf__sublinear_tf': True}\n",
      "0.692995 (0.021068) with: {'lr__C': 100, 'tfidf__max_features': 10000, 'tfidf__ngram_range': (1, 2), 'tfidf__sublinear_tf': False}\n",
      "0.694368 (0.013379) with: {'lr__C': 100, 'tfidf__max_features': 10000, 'tfidf__ngram_range': (1, 3), 'tfidf__sublinear_tf': True}\n",
      "0.688874 (0.022686) with: {'lr__C': 100, 'tfidf__max_features': 10000, 'tfidf__ngram_range': (1, 3), 'tfidf__sublinear_tf': False}\n",
      "0.709478 (0.018092) with: {'lr__C': 100, 'tfidf__max_features': 20000, 'tfidf__ngram_range': (1, 1), 'tfidf__sublinear_tf': True}\n",
      "0.698489 (0.020423) with: {'lr__C': 100, 'tfidf__max_features': 20000, 'tfidf__ngram_range': (1, 1), 'tfidf__sublinear_tf': False}\n",
      "0.690247 (0.019166) with: {'lr__C': 100, 'tfidf__max_features': 20000, 'tfidf__ngram_range': (1, 2), 'tfidf__sublinear_tf': True}\n",
      "0.684753 (0.016792) with: {'lr__C': 100, 'tfidf__max_features': 20000, 'tfidf__ngram_range': (1, 2), 'tfidf__sublinear_tf': False}\n",
      "0.687500 (0.019823) with: {'lr__C': 100, 'tfidf__max_features': 20000, 'tfidf__ngram_range': (1, 3), 'tfidf__sublinear_tf': True}\n",
      "0.684753 (0.016551) with: {'lr__C': 100, 'tfidf__max_features': 20000, 'tfidf__ngram_range': (1, 3), 'tfidf__sublinear_tf': False}\n",
      "0.708791 (0.015571) with: {'lr__C': 100, 'tfidf__max_features': None, 'tfidf__ngram_range': (1, 1), 'tfidf__sublinear_tf': True}\n",
      "0.696429 (0.024748) with: {'lr__C': 100, 'tfidf__max_features': None, 'tfidf__ngram_range': (1, 1), 'tfidf__sublinear_tf': False}\n",
      "0.640797 (0.022807) with: {'lr__C': 100, 'tfidf__max_features': None, 'tfidf__ngram_range': (1, 2), 'tfidf__sublinear_tf': True}\n",
      "0.658654 (0.024808) with: {'lr__C': 100, 'tfidf__max_features': None, 'tfidf__ngram_range': (1, 2), 'tfidf__sublinear_tf': False}\n",
      "0.594780 (0.023970) with: {'lr__C': 100, 'tfidf__max_features': None, 'tfidf__ngram_range': (1, 3), 'tfidf__sublinear_tf': True}\n",
      "0.644231 (0.024781) with: {'lr__C': 100, 'tfidf__max_features': None, 'tfidf__ngram_range': (1, 3), 'tfidf__sublinear_tf': False}\n"
     ]
    },
    {
     "data": {
      "text/plain": [
       "['mean_fit_time',\n",
       " 'mean_score_time',\n",
       " 'mean_test_score',\n",
       " 'mean_train_score',\n",
       " 'param_lr__C',\n",
       " 'param_tfidf__max_features',\n",
       " 'param_tfidf__ngram_range',\n",
       " 'param_tfidf__sublinear_tf',\n",
       " 'params',\n",
       " 'rank_test_score',\n",
       " 'split0_test_score',\n",
       " 'split0_train_score',\n",
       " 'split1_test_score',\n",
       " 'split1_train_score',\n",
       " 'split2_test_score',\n",
       " 'split2_train_score',\n",
       " 'std_fit_time',\n",
       " 'std_score_time',\n",
       " 'std_test_score',\n",
       " 'std_train_score']"
      ]
     },
     "execution_count": 40,
     "metadata": {
      "tags": []
     },
     "output_type": "execute_result"
    }
   ],
   "source": [
    "from sklearn.model_selection import GridSearchCV\n",
    "from sklearn.pipeline import Pipeline\n",
    "\n",
    "pipeline1=Pipeline([('tfidf',TfidfVectorizer()),('clf',SVC())])\n",
    "\n",
    "\n",
    "parameters1 = {'tfidf__sublinear_tf':[True,False], 'tfidf__ngram_range':[(1,1),(1,2),(1,3)], 'tfidf__max_features':[5000, 10000, 20000,None],'clf__C':[0.1,1,10,100]}\n",
    "\n",
    "\n",
    "\n",
    "pipeline2=Pipeline([('tfidf',TfidfVectorizer()),('lr',LogisticRegression())])\n",
    "\n",
    "\n",
    "parameters2 = {'tfidf__sublinear_tf':[True,False], 'tfidf__ngram_range':[(1,1),(1,2),(1,3)], 'tfidf__max_features':[5000, 10000, 20000,None],'lr__C':[0.1,1,10,100]}\n",
    "\n",
    "\n",
    "grid1 = GridSearchCV(pipeline1, parameters1)\n",
    "grid1.fit(post_frame_train['data'],train_labels)    \n",
    "grid1.predict(post_frame_test['data'])\n",
    "\n",
    "\n",
    "\n",
    "\n",
    "grid2=GridSearchCV(pipeline2,parameters2)\n",
    "grid2.fit(post_frame_train['data'],train_labels)\n",
    "grid2.predict(post_frame_test['data'])\n",
    "\n",
    "\n",
    "\n",
    "print(\"Best: %f using %s\" % (grid1.best_score_,grid1.best_params_))\n",
    "\n",
    "print(\"Best: %f using %s\" % (grid2.best_score_,grid2.best_params_))\n",
    "\n",
    "means = grid1.cv_results_['mean_test_score']\n",
    "stds = grid1.cv_results_['std_test_score']\n",
    "params = grid1.cv_results_['params']\n",
    "for mean, stdev, param in zip(means, stds, params):\n",
    "  print(\"%f (%f) with: %r\" % (mean, stdev, param))\n",
    "\n",
    "sorted(grid1.cv_results_.keys())\n",
    "\n",
    "means = grid2.cv_results_['mean_test_score']\n",
    "stds = grid2.cv_results_['std_test_score']\n",
    "params = grid2.cv_results_['params']\n",
    "for mean, stdev, param in zip(means, stds, params):\n",
    "  print(\"%f (%f) with: %r\" % (mean, stdev, param))\n",
    "\n",
    "sorted(grid2.cv_results_.keys())\n",
    "\n",
    "\n"
   ]
  },
  {
   "cell_type": "code",
   "execution_count": 0,
   "metadata": {
    "colab": {
     "autoexec": {
      "startup": false,
      "wait_interval": 0
     }
    },
    "colab_type": "code",
    "collapsed": true,
    "id": "tYdo9IUsVei0"
   },
   "outputs": [],
   "source": []
  },
  {
   "cell_type": "markdown",
   "metadata": {
    "colab_type": "text",
    "id": "D-G938e8D5qn"
   },
   "source": [
    "## Part B: Discourse prediction ##"
   ]
  },
  {
   "cell_type": "code",
   "execution_count": 1,
   "metadata": {
    "colab": {
     "autoexec": {
      "startup": false,
      "wait_interval": 0
     },
     "base_uri": "https://localhost:8080/",
     "height": 121,
     "output_extras": [
      {
       "item_id": 8
      }
     ]
    },
    "colab_type": "code",
    "executionInfo": {
     "elapsed": 6787,
     "status": "ok",
     "timestamp": 1520945026086,
     "user": {
      "displayName": "Himaja y",
      "photoUrl": "//lh4.googleusercontent.com/-yhV3E8-6GOQ/AAAAAAAAAAI/AAAAAAAAURQ/Pcr0UKtZ_ww/s50-c-k-no/photo.jpg",
      "userId": "111905420220784225824"
     },
     "user_tz": 0
    },
    "id": "3AsEg79hM_f8",
    "outputId": "114ebc4f-c643-4325-a286-e488b38ba04d"
   },
   "outputs": [
    {
     "name": "stdout",
     "output_type": "stream",
     "text": [
      "  % Total    % Received % Xferd  Average Speed   Time    Time     Time  Current\r\n",
      "                                 Dload  Upload   Total   Spent    Left  Speed\n",
      "100 59.9M  100 59.9M    0     0  59.9M      0  0:00:01  0:00:01 --:--:-- 32.2M\n",
      "  % Total    % Received % Xferd  Average Speed   Time    Time     Time  Current\n",
      "                                 Dload  Upload   Total   Spent    Left  Speed\n",
      "100 15.3M  100 15.3M    0     0  7856k      0  0:00:02  0:00:02 --:--:-- 7185k\n"
     ]
    }
   ],
   "source": [
    "discourse_train = \"coursework_discourse_train.json\"\n",
    "discourse_test = \"coursework_discourse_test.json\"\n",
    "\n",
    "!curl -o  $discourse_train https://storage.googleapis.com/tad2018/coursework_discourse_train.json\n",
    "!curl -o  $discourse_test https://storage.googleapis.com/tad2018/coursework_discourse_test.json"
   ]
  },
  {
   "cell_type": "code",
   "execution_count": 0,
   "metadata": {
    "colab": {
     "autoexec": {
      "startup": false,
      "wait_interval": 0
     }
    },
    "colab_type": "code",
    "collapsed": true,
    "id": "pwOaf_6aD-Vh"
   },
   "outputs": [],
   "source": [
    "# The reddit thread structure is nested with posts in a new content.\n",
    "# This block reads the file as json and creates a new data frame.\n",
    "import pandas as pd\n",
    "import json\n",
    "\n",
    "def load_posts(file):\n",
    "  # A temporary variable to store the list of post content.\n",
    "  posts_tmp = list()\n",
    "\n",
    "  with open(file) as jsonfile:\n",
    "    for i, line in enumerate(jsonfile):\n",
    "     # if (i > 2): break\n",
    "      thread = json.loads(line)\n",
    "      for post in thread['posts']:\n",
    "        # NOTE: This could be changed to use additional features from the post or thread.\n",
    "        # DO NOT change the labels for the test set.\n",
    "        posts_tmp.append((thread['subreddit'], thread['title'], thread['url'],\n",
    "                        post['id'], post.get('author', \"\"), post.get('body', \"\"), post.get(\"majority_link\", \"\"), \n",
    "                        post.get('post_depth', 0), post.get('author', \"\"), post.get('majority_type', \"\"), post.get('in_reply_to', \"\") ))\n",
    "       \n",
    "\n",
    "# Create the posts data frame.  \n",
    "  labels = ['subreddit', 'title', 'url', 'id', 'author', 'body', 'majority_link', \n",
    "          'post_depth', 'author', 'discourse_type', 'in_reply_to']\n",
    "  return pd.DataFrame(posts_tmp, columns=labels)"
   ]
  },
  {
   "cell_type": "code",
   "execution_count": 3,
   "metadata": {
    "colab": {
     "autoexec": {
      "startup": false,
      "wait_interval": 0
     },
     "base_uri": "https://localhost:8080/",
     "height": 503,
     "output_extras": [
      {
       "item_id": 1
      }
     ]
    },
    "colab_type": "code",
    "executionInfo": {
     "elapsed": 1498,
     "status": "ok",
     "timestamp": 1520945028310,
     "user": {
      "displayName": "Himaja y",
      "photoUrl": "//lh4.googleusercontent.com/-yhV3E8-6GOQ/AAAAAAAAAAI/AAAAAAAAURQ/Pcr0UKtZ_ww/s50-c-k-no/photo.jpg",
      "userId": "111905420220784225824"
     },
     "user_tz": 0
    },
    "id": "PDzHTDcmEQ11",
    "outputId": "48ee4f93-27ac-4365-a2d2-66d2a8fa374a"
   },
   "outputs": [
    {
     "name": "stdout",
     "output_type": "stream",
     "text": [
      "  subreddit                                              title  \\\n",
      "0    guitar  Long time Acoustic player here. Recently got a...   \n",
      "1    guitar  Long time Acoustic player here. Recently got a...   \n",
      "2    guitar  Long time Acoustic player here. Recently got a...   \n",
      "3    guitar  Long time Acoustic player here. Recently got a...   \n",
      "4     apple                                  Loving Continuity   \n",
      "\n",
      "                                                 url          id  \\\n",
      "0  https://www.reddit.com/r/Guitar/comments/ev3ju...    t3_ev3ju   \n",
      "1  https://www.reddit.com/r/Guitar/comments/ev3ju...  t1_c1b7ilz   \n",
      "2  https://www.reddit.com/r/Guitar/comments/ev3ju...  t1_c1b7ioh   \n",
      "3  https://www.reddit.com/r/Guitar/comments/ev3ju...  t1_c1b7ls3   \n",
      "4  https://www.reddit.com/r/apple/comments/2jq6on...   t3_2jq6on   \n",
      "\n",
      "            author                                               body  \\\n",
      "0      SilverChaos  I've been playing around with it for a while. ...   \n",
      "1  AcrimoniousFuzz  Advice for playing faster: Practice. It'll com...   \n",
      "2       Zalamander  The advice given to me, and I'm far from pro, ...   \n",
      "3         mmlacuna  You need some boxes now. Or something like thi...   \n",
      "4           cnn795  Answering my phone via my Mac is actually real...   \n",
      "\n",
      "  majority_link  post_depth           author discourse_type in_reply_to  \n",
      "0          none           0      SilverChaos       question              \n",
      "1      t3_ev3ju           1  AcrimoniousFuzz         answer    t3_ev3ju  \n",
      "2      t3_ev3ju           1       Zalamander         answer    t3_ev3ju  \n",
      "3      t3_ev3ju           1         mmlacuna         answer    t3_ev3ju  \n",
      "4          none           0           cnn795   announcement              \n",
      "Num posts:  869506\n"
     ]
    }
   ],
   "source": [
    "train_posts = load_posts(discourse_train)\n",
    "# Filter out empty labels\n",
    "train_posts = train_posts[train_posts['discourse_type'] != \"\"]\n",
    "print(train_posts.head())\n",
    "print(\"Num posts: \", train_posts.size)"
   ]
  },
  {
   "cell_type": "markdown",
   "metadata": {
    "colab_type": "text",
    "id": "dqGLzyTOGadY"
   },
   "source": [
    "The label for the post we will be predicting is in the discourse_type column."
   ]
  },
  {
   "cell_type": "code",
   "execution_count": 4,
   "metadata": {
    "colab": {
     "autoexec": {
      "startup": false,
      "wait_interval": 0
     },
     "base_uri": "https://localhost:8080/",
     "height": 34,
     "output_extras": [
      {
       "item_id": 1
      }
     ]
    },
    "colab_type": "code",
    "executionInfo": {
     "elapsed": 612,
     "status": "ok",
     "timestamp": 1520945029034,
     "user": {
      "displayName": "Himaja y",
      "photoUrl": "//lh4.googleusercontent.com/-yhV3E8-6GOQ/AAAAAAAAAAI/AAAAAAAAURQ/Pcr0UKtZ_ww/s50-c-k-no/photo.jpg",
      "userId": "111905420220784225824"
     },
     "user_tz": 0
    },
    "id": "7vvo7hfCEmvj",
    "outputId": "9cb17592-f085-4da5-bfc6-5e5e60a6f9cd"
   },
   "outputs": [
    {
     "name": "stdout",
     "output_type": "stream",
     "text": [
      "Num posts:  220363\n"
     ]
    }
   ],
   "source": [
    "test_posts = load_posts(discourse_test)\n",
    "# Filter out empty labels\n",
    "test_posts = test_posts[test_posts['discourse_type'] != \"\"]\n",
    "print(\"Num posts: \", test_posts.size)\n"
   ]
  },
  {
   "cell_type": "code",
   "execution_count": 5,
   "metadata": {
    "colab": {
     "autoexec": {
      "startup": false,
      "wait_interval": 0
     },
     "base_uri": "https://localhost:8080/",
     "height": 34,
     "output_extras": [
      {
       "item_id": 1
      }
     ]
    },
    "colab_type": "code",
    "executionInfo": {
     "elapsed": 475,
     "status": "ok",
     "timestamp": 1520945029731,
     "user": {
      "displayName": "Himaja y",
      "photoUrl": "//lh4.googleusercontent.com/-yhV3E8-6GOQ/AAAAAAAAAAI/AAAAAAAAURQ/Pcr0UKtZ_ww/s50-c-k-no/photo.jpg",
      "userId": "111905420220784225824"
     },
     "user_tz": 0
    },
    "id": "Jat55HhNHGBp",
    "outputId": "8903a0c6-7eff-4ef5-ce99-be8b03c7bbcb"
   },
   "outputs": [
    {
     "name": "stdout",
     "output_type": "stream",
     "text": [
      "20033\n"
     ]
    }
   ],
   "source": [
    "train_labels = train_posts['discourse_type']\n",
    "test_labels = test_posts['discourse_type']\n",
    "print(len(test_labels))"
   ]
  },
  {
   "cell_type": "markdown",
   "metadata": {
    "colab_type": "text",
    "id": "rFl6sM58HNFp"
   },
   "source": [
    "Examine the distribution over labels on the training data."
   ]
  },
  {
   "cell_type": "code",
   "execution_count": 6,
   "metadata": {
    "colab": {
     "autoexec": {
      "startup": false,
      "wait_interval": 0
     },
     "base_uri": "https://localhost:8080/",
     "height": 382,
     "output_extras": [
      {
       "item_id": 1
      }
     ]
    },
    "colab_type": "code",
    "executionInfo": {
     "elapsed": 459,
     "status": "ok",
     "timestamp": 1520945034287,
     "user": {
      "displayName": "Himaja y",
      "photoUrl": "//lh4.googleusercontent.com/-yhV3E8-6GOQ/AAAAAAAAAAI/AAAAAAAAURQ/Pcr0UKtZ_ww/s50-c-k-no/photo.jpg",
      "userId": "111905420220784225824"
     },
     "user_tz": 0
    },
    "id": "n3NbLPBhFOkp",
    "outputId": "a726563f-9e29-41d7-f7fd-1942bcbf93a9"
   },
   "outputs": [
    {
     "name": "stdout",
     "output_type": "stream",
     "text": [
      "count       10.000000\n",
      "mean      7904.600000\n",
      "std       9654.256841\n",
      "min       1240.000000\n",
      "25%       1665.000000\n",
      "50%       3195.500000\n",
      "75%      11851.250000\n",
      "max      31408.000000\n",
      "Name: discourse_type, dtype: float64\n",
      "answer              31408\n",
      "elaboration         14715\n",
      "question            13497\n",
      "appreciation         6914\n",
      "agreement            3804\n",
      "disagreement         2587\n",
      "humor                1806\n",
      "other                1618\n",
      "announcement         1457\n",
      "negativereaction     1240\n",
      "Name: discourse_type, dtype: int64\n",
      "['answer', 'elaboration', 'question', 'appreciation', 'agreement', 'disagreement', 'humor', 'other', 'announcement', 'negativereaction']\n"
     ]
    }
   ],
   "source": [
    "discourse_counts = train_labels.value_counts()\n",
    "print(discourse_counts.describe())\n",
    "\n",
    "top_discourse = discourse_counts.nlargest(200)\n",
    "print(top_discourse)\n",
    "top_discourse = top_discourse.index.tolist()\n",
    "print(top_discourse)"
   ]
  },
  {
   "cell_type": "markdown",
   "metadata": {
    "colab_type": "text",
    "id": "UZa_Bqf8X16Z"
   },
   "source": [
    "**Question 3** Implementing the logistic regression classifier with the best observed vectorizer(count vectorizer here) representation"
   ]
  },
  {
   "cell_type": "code",
   "execution_count": 0,
   "metadata": {
    "colab": {
     "autoexec": {
      "startup": false,
      "wait_interval": 0
     }
    },
    "colab_type": "code",
    "collapsed": true,
    "id": "mcGnznTbB8C9"
   },
   "outputs": [],
   "source": [
    "from sklearn.feature_extraction.text import CountVectorizer\n",
    "best_vect = CountVectorizer()\n",
    "\n",
    "X_train = best_vect.fit_transform(train_posts['body'])\n"
   ]
  },
  {
   "cell_type": "code",
   "execution_count": 0,
   "metadata": {
    "colab": {
     "autoexec": {
      "startup": false,
      "wait_interval": 0
     }
    },
    "colab_type": "code",
    "collapsed": true,
    "id": "aMscoRIur8s8"
   },
   "outputs": [],
   "source": [
    "\n",
    "from  sklearn.linear_model import LogisticRegression\n",
    "L = LogisticRegression()\n",
    "model_lr_cv= L.fit(X_train,train_labels)\n",
    "\n",
    "X_test = best_vect.transform(test_posts['body'])"
   ]
  },
  {
   "cell_type": "code",
   "execution_count": 49,
   "metadata": {
    "colab": {
     "autoexec": {
      "startup": false,
      "wait_interval": 0
     },
     "base_uri": "https://localhost:8080/",
     "height": 34,
     "output_extras": [
      {
       "item_id": 1
      }
     ]
    },
    "colab_type": "code",
    "executionInfo": {
     "elapsed": 826,
     "status": "ok",
     "timestamp": 1520900740059,
     "user": {
      "displayName": "Himaja y",
      "photoUrl": "//lh4.googleusercontent.com/-yhV3E8-6GOQ/AAAAAAAAAAI/AAAAAAAAURQ/Pcr0UKtZ_ww/s50-c-k-no/photo.jpg",
      "userId": "111905420220784225824"
     },
     "user_tz": 0
    },
    "id": "gBdVq3gUW8az",
    "outputId": "d0daf0cf-2d7c-469d-d4c4-a3220759a36b"
   },
   "outputs": [
    {
     "name": "stdout",
     "output_type": "stream",
     "text": [
      "Classifier 'CV LR' has P=0.256 R=0.410 Acc=0.482 F1=0.277\n"
     ]
    }
   ],
   "source": [
    "eval_summary(\"CV LR\", model_lr_cv.predict(X_test), test_labels)\n"
   ]
  },
  {
   "cell_type": "markdown",
   "metadata": {
    "colab_type": "text",
    "id": "LnfuZvOrYVEH"
   },
   "source": [
    "**Question 4** Implementing additional features"
   ]
  },
  {
   "cell_type": "markdown",
   "metadata": {
    "colab_type": "text",
    "id": "tY1aewnYYa9f"
   },
   "source": [
    "**Feature 1** **Conent + punctuation** \n",
    "Words unigrams, bigrams, trigrams"
   ]
  },
  {
   "cell_type": "code",
   "execution_count": 0,
   "metadata": {
    "colab": {
     "autoexec": {
      "startup": false,
      "wait_interval": 0
     }
    },
    "colab_type": "code",
    "collapsed": true,
    "id": "KXeCTqE2sm7A"
   },
   "outputs": [],
   "source": [
    "from sklearn.feature_extraction.text import CountVectorizer\n",
    "vect = CountVectorizer(ngram_range=(1,3))\n",
    "\n",
    "train_posts_features_contents = vect.fit_transform(train_posts['body'])\n",
    "test_posts_features_contents = vect.transform(test_posts['body'])\n"
   ]
  },
  {
   "cell_type": "markdown",
   "metadata": {
    "colab_type": "text",
    "id": "h7dWh0V0Y48m"
   },
   "source": [
    "**Feature 2 Structure** No.of sentences,words & characters in title and body"
   ]
  },
  {
   "cell_type": "code",
   "execution_count": 0,
   "metadata": {
    "colab": {
     "autoexec": {
      "startup": false,
      "wait_interval": 0
     }
    },
    "colab_type": "code",
    "collapsed": true,
    "id": "_hHTJwAy-phI"
   },
   "outputs": [],
   "source": [
    "def structurefeatures(train_posts):\n",
    "\n",
    " \n",
    "  words_body=[]\n",
    "  words_title=[]\n",
    "  char_body=[]\n",
    "  sent_body=[]\n",
    "  sent_title=[]\n",
    "  char_title=[]\n",
    "  temp_features=[]\n",
    "  for row in train_posts.itertuples():\n",
    " \n",
    "    words_body.append(len(row.body.split(' ')))\n",
    "    sent_body.append(len(row.body.split('.')))\n",
    "    char_body.append(len(list(row.body)))\n",
    "    words_title.append(len(row.title.split(' ')))\n",
    "    sent_title.append(len(row.title.split('.')))\n",
    "    char_title.append(len(list(row.title)))\n",
    "\n",
    "  \n",
    "  temp_features.append((sent_title,words_title,char_title,sent_body,words_body,char_body))\n",
    " \n",
    "  features_data={'structure_sentences_title':sent_title,'structure_words_title':words_title,'structure_char_title':char_title,'structure_sentences_body':sent_body,'structure_words_body':words_body,'structure_char_body':char_body}\n",
    "  return pd.DataFrame(data=features_data)\n"
   ]
  },
  {
   "cell_type": "code",
   "execution_count": 9,
   "metadata": {
    "colab": {
     "autoexec": {
      "startup": false,
      "wait_interval": 0
     },
     "base_uri": "https://localhost:8080/",
     "height": 52,
     "output_extras": [
      {
       "item_id": 1
      }
     ]
    },
    "colab_type": "code",
    "executionInfo": {
     "elapsed": 1375,
     "status": "ok",
     "timestamp": 1520945248950,
     "user": {
      "displayName": "Himaja y",
      "photoUrl": "//lh4.googleusercontent.com/-yhV3E8-6GOQ/AAAAAAAAAAI/AAAAAAAAURQ/Pcr0UKtZ_ww/s50-c-k-no/photo.jpg",
      "userId": "111905420220784225824"
     },
     "user_tz": 0
    },
    "id": "kwkkLKFD-70f",
    "outputId": "f2d97f3b-2fb4-4d15-acc8-8a81750a6f7a"
   },
   "outputs": [
    {
     "name": "stdout",
     "output_type": "stream",
     "text": [
      "False\n",
      "False\n"
     ]
    }
   ],
   "source": [
    "train_posts_features = structurefeatures(train_posts)\n",
    "test_posts_features = structurefeatures(test_posts)\n",
    "print(train_posts_features.isnull().values.any())\n",
    "print(test_posts_features.isnull().values.any())\n"
   ]
  },
  {
   "cell_type": "markdown",
   "metadata": {
    "colab_type": "text",
    "id": "Zb2lLQirYWIt"
   },
   "source": [
    "**Feature 3: ** Author"
   ]
  },
  {
   "cell_type": "code",
   "execution_count": 0,
   "metadata": {
    "colab": {
     "autoexec": {
      "startup": false,
      "wait_interval": 0
     }
    },
    "colab_type": "code",
    "collapsed": true,
    "id": "cOGxOL2_rtNs"
   },
   "outputs": [],
   "source": [
    "def author_feature(train_posts):\n",
    "\n",
    "  author_match = []\n",
    "  train_posts_features=pd.DataFrame()\n",
    " \n",
    "  line=train_posts.head(1)['author']\n",
    "  line  = line.T.drop_duplicates().T\n",
    " \n",
    "  for row in train_posts.itertuples():\n",
    "\n",
    "    if(row.post_depth==0):\n",
    "      line.author=row.author\n",
    "\n",
    "    if((line.author==row.author).bool()):\n",
    "      author_match.append('1')\n",
    "    else:\n",
    "      author_match.append('0')\n",
    "  return pd.DataFrame(author_match)\n",
    "\n"
   ]
  },
  {
   "cell_type": "code",
   "execution_count": 11,
   "metadata": {
    "colab": {
     "autoexec": {
      "startup": false,
      "wait_interval": 0
     },
     "base_uri": "https://localhost:8080/",
     "height": 52,
     "output_extras": [
      {
       "item_id": 1
      }
     ]
    },
    "colab_type": "code",
    "executionInfo": {
     "elapsed": 24642,
     "status": "ok",
     "timestamp": 1520945275390,
     "user": {
      "displayName": "Himaja y",
      "photoUrl": "//lh4.googleusercontent.com/-yhV3E8-6GOQ/AAAAAAAAAAI/AAAAAAAAURQ/Pcr0UKtZ_ww/s50-c-k-no/photo.jpg",
      "userId": "111905420220784225824"
     },
     "user_tz": 0
    },
    "id": "niiPkum3t8A3",
    "outputId": "b518bc4f-70e7-4984-8258-6872c36d63b9"
   },
   "outputs": [
    {
     "name": "stdout",
     "output_type": "stream",
     "text": [
      "False\n",
      "False\n"
     ]
    }
   ],
   "source": [
    "train_posts_features['author']=author_feature(train_posts)\n",
    "test_posts_features['author']=author_feature(test_posts)\n",
    "print(train_posts_features.isnull().values.any())\n",
    "print(test_posts_features.isnull().values.any())"
   ]
  },
  {
   "cell_type": "markdown",
   "metadata": {
    "colab_type": "text",
    "id": "Ios02btgYelf"
   },
   "source": [
    "**Feature 4** Thread Features"
   ]
  },
  {
   "cell_type": "code",
   "execution_count": 0,
   "metadata": {
    "colab": {
     "autoexec": {
      "startup": false,
      "wait_interval": 0
     }
    },
    "colab_type": "code",
    "collapsed": true,
    "id": "MIeUt3PTYir_"
   },
   "outputs": [],
   "source": [
    "def thread_features(train_posts):\n",
    "  temp = list()\n",
    "  temp.append('guitar')\n",
    "  comment=0\n",
    "  num_comments = list()\n",
    "  for row in train_posts.itertuples():\n",
    "\n",
    "\n",
    "    if(row.post_depth==0):\n",
    "      \n",
    "      for i in range (comment):\n",
    "        num_comments.append(comment-1)\n",
    "#         print(num_comments)\n",
    "      comment = 1\n",
    "      temp=row.subreddit\n",
    "\n",
    "    if((temp==row.subreddit)):\n",
    "      comment+=1\n",
    "    \n",
    "\n",
    "  return pd.DataFrame(num_comments)\n",
    "\n",
    "  "
   ]
  },
  {
   "cell_type": "code",
   "execution_count": 13,
   "metadata": {
    "colab": {
     "autoexec": {
      "startup": false,
      "wait_interval": 0
     },
     "base_uri": "https://localhost:8080/",
     "height": 52,
     "output_extras": [
      {
       "item_id": 1
      }
     ]
    },
    "colab_type": "code",
    "executionInfo": {
     "elapsed": 512,
     "status": "ok",
     "timestamp": 1520945276719,
     "user": {
      "displayName": "Himaja y",
      "photoUrl": "//lh4.googleusercontent.com/-yhV3E8-6GOQ/AAAAAAAAAAI/AAAAAAAAURQ/Pcr0UKtZ_ww/s50-c-k-no/photo.jpg",
      "userId": "111905420220784225824"
     },
     "user_tz": 0
    },
    "id": "7vBMuFpm_qKH",
    "outputId": "91bd3492-fd9b-4460-a4f5-304bda08b6ae"
   },
   "outputs": [
    {
     "name": "stdout",
     "output_type": "stream",
     "text": [
      "False\n",
      "False\n"
     ]
    }
   ],
   "source": [
    "train_posts_features['thread_features'] = thread_features(train_posts)\n",
    "test_posts_features['thread_features'] = thread_features(test_posts)\n",
    "\n",
    "train_posts_features['thread_features']\n",
    "print(train_posts_features.isnull().values.any())\n",
    "print(test_posts_features.isnull().values.any())"
   ]
  },
  {
   "cell_type": "markdown",
   "metadata": {
    "colab_type": "text",
    "id": "pDME3pBzYnPu"
   },
   "source": [
    "**Feature 5:** Community"
   ]
  },
  {
   "cell_type": "code",
   "execution_count": 0,
   "metadata": {
    "colab": {
     "autoexec": {
      "startup": false,
      "wait_interval": 0
     }
    },
    "colab_type": "code",
    "collapsed": true,
    "id": "1t2fODlE_opJ"
   },
   "outputs": [],
   "source": [
    "from sklearn.preprocessing import LabelEncoder\n",
    "\n",
    "\n",
    "e = LabelEncoder()\n",
    "\n",
    "train_community = e.fit_transform(train_posts['subreddit'])\n",
    "test_community = e.fit_transform(test_posts['subreddit'])"
   ]
  },
  {
   "cell_type": "code",
   "execution_count": 0,
   "metadata": {
    "colab": {
     "autoexec": {
      "startup": false,
      "wait_interval": 0
     }
    },
    "colab_type": "code",
    "collapsed": true,
    "id": "YxwBiUatyVo4"
   },
   "outputs": [],
   "source": [
    "train_posts_features['community']=train_community\n",
    "test_posts_features['community']=test_community"
   ]
  },
  {
   "cell_type": "markdown",
   "metadata": {
    "colab_type": "text",
    "id": "B3dhYMEvYtSr"
   },
   "source": [
    "**Feature 6: **Word2Vec/NLP - Average/ Max of gensim word2vec ​ reddit ​ embeddings for the post "
   ]
  },
  {
   "cell_type": "code",
   "execution_count": 0,
   "metadata": {
    "colab": {
     "autoexec": {
      "startup": false,
      "wait_interval": 0
     }
    },
    "colab_type": "code",
    "collapsed": true,
    "id": "U_tGpi8qx239"
   },
   "outputs": [],
   "source": [
    "\n",
    "import nltk\n",
    "\n",
    "from nltk.tokenize import RegexpTokenizer\n",
    "tokenizer = RegexpTokenizer(r'\\w+')\n",
    "\n",
    "\n",
    "\n",
    "def tokenize(string):\n",
    "  normalized_tokens = list()\n",
    "  tokens = tokenizer.tokenize(string)\n",
    "  for token in tokens:\n",
    "    normalized = token.lower()\n",
    "    normalized_tokens.append(normalized)\n",
    "  return normalized_tokens\n",
    "\n",
    "\n",
    "all_posts_tokenized_train= train_posts.body.apply(tokenize)\n",
    "all_posts_tokenized_test= test_posts.body.apply(tokenize)"
   ]
  },
  {
   "cell_type": "code",
   "execution_count": 17,
   "metadata": {
    "colab": {
     "autoexec": {
      "startup": false,
      "wait_interval": 0
     },
     "base_uri": "https://localhost:8080/",
     "height": 729,
     "output_extras": [
      {
       "item_id": 27
      }
     ]
    },
    "colab_type": "code",
    "executionInfo": {
     "elapsed": 38898,
     "status": "ok",
     "timestamp": 1520945320889,
     "user": {
      "displayName": "Himaja y",
      "photoUrl": "//lh4.googleusercontent.com/-yhV3E8-6GOQ/AAAAAAAAAAI/AAAAAAAAURQ/Pcr0UKtZ_ww/s50-c-k-no/photo.jpg",
      "userId": "111905420220784225824"
     },
     "user_tz": 0
    },
    "id": "FfJkgh7gNFAk",
    "outputId": "9109550d-f10d-45b6-acec-feaaee6dd049"
   },
   "outputs": [
    {
     "name": "stdout",
     "output_type": "stream",
     "text": [
      "Collecting gensim==3.2.0\n",
      "  Downloading gensim-3.2.0-cp36-cp36m-manylinux1_x86_64.whl (15.9MB)\n",
      "\u001b[K    100% |████████████████████████████████| 15.9MB 82kB/s \n",
      "\u001b[?25hRequirement already satisfied: six>=1.5.0 in /usr/local/lib/python3.6/dist-packages (from gensim==3.2.0)\n",
      "Requirement already satisfied: scipy>=0.18.1 in /usr/local/lib/python3.6/dist-packages (from gensim==3.2.0)\n",
      "Collecting smart-open>=1.2.1 (from gensim==3.2.0)\n",
      "  Downloading smart_open-1.5.6.tar.gz\n",
      "Requirement already satisfied: numpy>=1.11.3 in /usr/local/lib/python3.6/dist-packages (from gensim==3.2.0)\n",
      "Collecting boto3 (from smart-open>=1.2.1->gensim==3.2.0)\n",
      "  Downloading boto3-1.6.7-py2.py3-none-any.whl (128kB)\n",
      "\u001b[K    100% |████████████████████████████████| 133kB 5.6MB/s \n",
      "\u001b[?25hCollecting boto>=2.32 (from smart-open>=1.2.1->gensim==3.2.0)\n",
      "  Downloading boto-2.48.0-py2.py3-none-any.whl (1.4MB)\n",
      "\u001b[K    100% |████████████████████████████████| 1.4MB 943kB/s \n",
      "\u001b[?25hCollecting bz2file (from smart-open>=1.2.1->gensim==3.2.0)\n",
      "  Downloading bz2file-0.98.tar.gz\n",
      "Requirement already satisfied: requests in /usr/local/lib/python3.6/dist-packages (from smart-open>=1.2.1->gensim==3.2.0)\n",
      "Collecting s3transfer<0.2.0,>=0.1.10 (from boto3->smart-open>=1.2.1->gensim==3.2.0)\n",
      "  Downloading s3transfer-0.1.13-py2.py3-none-any.whl (59kB)\n",
      "\u001b[K    100% |████████████████████████████████| 61kB 9.3MB/s \n",
      "\u001b[?25hCollecting jmespath<1.0.0,>=0.7.1 (from boto3->smart-open>=1.2.1->gensim==3.2.0)\n",
      "  Downloading jmespath-0.9.3-py2.py3-none-any.whl\n",
      "Collecting botocore<1.10.0,>=1.9.7 (from boto3->smart-open>=1.2.1->gensim==3.2.0)\n",
      "  Downloading botocore-1.9.7-py2.py3-none-any.whl (4.1MB)\n",
      "\u001b[K    100% |████████████████████████████████| 4.1MB 319kB/s \n",
      "\u001b[?25hRequirement already satisfied: idna<2.7,>=2.5 in /usr/local/lib/python3.6/dist-packages (from requests->smart-open>=1.2.1->gensim==3.2.0)\n",
      "Requirement already satisfied: urllib3<1.23,>=1.21.1 in /usr/local/lib/python3.6/dist-packages (from requests->smart-open>=1.2.1->gensim==3.2.0)\n",
      "Requirement already satisfied: chardet<3.1.0,>=3.0.2 in /usr/local/lib/python3.6/dist-packages (from requests->smart-open>=1.2.1->gensim==3.2.0)\n",
      "Requirement already satisfied: certifi>=2017.4.17 in /usr/local/lib/python3.6/dist-packages (from requests->smart-open>=1.2.1->gensim==3.2.0)\n",
      "Requirement already satisfied: python-dateutil<3.0.0,>=2.1 in /usr/local/lib/python3.6/dist-packages (from botocore<1.10.0,>=1.9.7->boto3->smart-open>=1.2.1->gensim==3.2.0)\n",
      "Collecting docutils>=0.10 (from botocore<1.10.0,>=1.9.7->boto3->smart-open>=1.2.1->gensim==3.2.0)\n",
      "  Downloading docutils-0.14-py3-none-any.whl (543kB)\n",
      "\u001b[K    100% |████████████████████████████████| 552kB 2.3MB/s \n",
      "\u001b[?25hBuilding wheels for collected packages: smart-open, bz2file\n",
      "  Running setup.py bdist_wheel for smart-open ... \u001b[?25l-\b \b\\\b \bdone\n",
      "\u001b[?25h  Stored in directory: /content/.cache/pip/wheels/36/48/35/97efc2bd1b233627131c9a936c9de23681846db707b907d353\n",
      "  Running setup.py bdist_wheel for bz2file ... \u001b[?25l-\b \bdone\n",
      "\u001b[?25h  Stored in directory: /content/.cache/pip/wheels/31/9c/20/996d65ca104cbca940b1b053299b68459391c01c774d073126\n",
      "Successfully built smart-open bz2file\n",
      "Installing collected packages: jmespath, docutils, botocore, s3transfer, boto3, boto, bz2file, smart-open, gensim\n",
      "Successfully installed boto-2.48.0 boto3-1.6.7 botocore-1.9.7 bz2file-0.98 docutils-0.14 gensim-3.2.0 jmespath-0.9.3 s3transfer-0.1.13 smart-open-1.5.6\n"
     ]
    }
   ],
   "source": [
    "\n",
    "!pip install 'gensim==3.2.0'\n",
    "import gensim\n",
    "\n",
    "model = gensim.models.Word2Vec(all_posts_tokenized_train, size=50, window=5, \\\n",
    "                               min_count=5, sg=0, alpha=0.025, iter=5, batch_words=10000)\n",
    "\n",
    "\n",
    "\n",
    "\n",
    "\n"
   ]
  },
  {
   "cell_type": "code",
   "execution_count": 0,
   "metadata": {
    "colab": {
     "autoexec": {
      "startup": false,
      "wait_interval": 0
     }
    },
    "colab_type": "code",
    "collapsed": true,
    "id": "kbW2GyZWGVnp"
   },
   "outputs": [],
   "source": [
    "import numpy as np\n",
    "\n",
    "class Word2VecVectorizer(object):\n",
    "    def __init__(self, embedding_model):\n",
    "        self.embedding = embedding_model\n",
    "        self.dimension = embedding_model.vector_size\n",
    "\n",
    "    def fit(self, X, y):\n",
    "        return self\n",
    "      \n",
    "    def transform(self, X):  \n",
    "      # Skip OOV terms. Return 0 if no words are in the vocabulary.\n",
    "      return np.array([ \n",
    "          np.mean([self.embedding.wv[t] for t in tokenize(doc) if t in self.embedding.wv.vocab]\n",
    "                or [np.zeros(self.dimension)], axis=0)\n",
    "          for doc in X\n",
    "      ])\n",
    "\n",
    "vectorizer = Word2VecVectorizer(model)\n",
    "train_w2v_post_vector_matrix = vectorizer.transform(train_posts['body'])\n",
    "test_w2v_post_vector_matrix = vectorizer.transform(test_posts['body'])"
   ]
  },
  {
   "cell_type": "markdown",
   "metadata": {
    "colab_type": "text",
    "id": "lHG22FOBa8Tv"
   },
   "source": [
    "Check the shapes of feature matrices and make sure all are of same datatype"
   ]
  },
  {
   "cell_type": "code",
   "execution_count": 20,
   "metadata": {
    "colab": {
     "autoexec": {
      "startup": false,
      "wait_interval": 0
     },
     "base_uri": "https://localhost:8080/",
     "height": 121,
     "output_extras": [
      {
       "item_id": 1
      }
     ]
    },
    "colab_type": "code",
    "executionInfo": {
     "elapsed": 489,
     "status": "ok",
     "timestamp": 1520945338074,
     "user": {
      "displayName": "Himaja y",
      "photoUrl": "//lh4.googleusercontent.com/-yhV3E8-6GOQ/AAAAAAAAAAI/AAAAAAAAURQ/Pcr0UKtZ_ww/s50-c-k-no/photo.jpg",
      "userId": "111905420220784225824"
     },
     "user_tz": 0
    },
    "id": "Te-L9DwpFDkz",
    "outputId": "33e256f5-628d-4e40-fde5-d458beefb0ed"
   },
   "outputs": [
    {
     "name": "stdout",
     "output_type": "stream",
     "text": [
      "(79046, 50)\n",
      "(79046, 9)\n",
      "(79046, 3422405)\n",
      "(20033, 50)\n",
      "(20033, 9)\n",
      "(20033, 3422405)\n"
     ]
    }
   ],
   "source": [
    "print(train_w2v_post_vector_matrix.shape)\n",
    "train_posts_features = train_posts_features.astype(float)\n",
    "train_posts_features_contents = train_posts_features_contents.astype(float)\n",
    "test_posts_features = test_posts_features.astype(float)\n",
    "test_posts_features_contents = test_posts_features_contents.astype(float)\n",
    "print(train_posts_features.shape)\n",
    "print(train_posts_features_contents.shape)\n",
    "\n",
    "\n",
    "\n",
    "print(test_w2v_post_vector_matrix.shape)\n",
    "print(test_posts_features.shape)\n",
    "print(test_posts_features_contents.shape)\n"
   ]
  },
  {
   "cell_type": "markdown",
   "metadata": {
    "colab_type": "text",
    "id": "a_2OvVRfbKb-"
   },
   "source": [
    "Combine all the features together and train a logistic regression model"
   ]
  },
  {
   "cell_type": "code",
   "execution_count": 0,
   "metadata": {
    "colab": {
     "autoexec": {
      "startup": false,
      "wait_interval": 0
     }
    },
    "colab_type": "code",
    "collapsed": true,
    "id": "w89e-WNbGtj2"
   },
   "outputs": [],
   "source": [
    "from scipy import sparse\n",
    "from sklearn.linear_model import LogisticRegression\n",
    "\n",
    "X_train = sparse.hstack((train_w2v_post_vector_matrix,train_posts_features,train_posts_features_contents))\n",
    "X_test = sparse.hstack((test_w2v_post_vector_matrix,test_posts_features,test_posts_features_contents))\n",
    "\n",
    "\n",
    "lrcv_w2v = LogisticRegression(max_iter = 300)\n",
    "lrcv_w2v_model = lrcv_w2v.fit(X_train, train_labels)\n",
    "  \n",
    "  "
   ]
  },
  {
   "cell_type": "markdown",
   "metadata": {
    "colab_type": "text",
    "id": "XTwq6LJVbUoP"
   },
   "source": [
    "**Eval Summary of model with trained features**"
   ]
  },
  {
   "cell_type": "code",
   "execution_count": 25,
   "metadata": {
    "colab": {
     "autoexec": {
      "startup": false,
      "wait_interval": 0
     },
     "base_uri": "https://localhost:8080/",
     "height": 34,
     "output_extras": [
      {
       "item_id": 1
      }
     ]
    },
    "colab_type": "code",
    "executionInfo": {
     "elapsed": 1600,
     "status": "ok",
     "timestamp": 1520951943799,
     "user": {
      "displayName": "Himaja y",
      "photoUrl": "//lh4.googleusercontent.com/-yhV3E8-6GOQ/AAAAAAAAAAI/AAAAAAAAURQ/Pcr0UKtZ_ww/s50-c-k-no/photo.jpg",
      "userId": "111905420220784225824"
     },
     "user_tz": 0
    },
    "id": "fqhwcMODbTNW",
    "outputId": "5ca51f2a-69e7-4b3b-b680-3882b02e36fb"
   },
   "outputs": [
    {
     "name": "stdout",
     "output_type": "stream",
     "text": [
      "Classifier 'LR TFIDF w/ W2V' has P=0.304 R=0.503 Acc=0.563 F1=0.330\n"
     ]
    }
   ],
   "source": [
    "eval_summary(\"LR TFIDF w/ W2V\", lrcv_w2v_model.predict(X_test), test_labels)\n"
   ]
  },
  {
   "cell_type": "markdown",
   "metadata": {
    "colab_type": "text",
    "id": "LTNWP4JBbbn1"
   },
   "source": [
    "**Leave one out model except Word2Vec**"
   ]
  },
  {
   "cell_type": "code",
   "execution_count": 65,
   "metadata": {
    "colab": {
     "autoexec": {
      "startup": false,
      "wait_interval": 0
     },
     "base_uri": "https://localhost:8080/",
     "height": 34,
     "output_extras": [
      {
       "item_id": 1
      }
     ]
    },
    "colab_type": "code",
    "executionInfo": {
     "elapsed": 1838119,
     "status": "ok",
     "timestamp": 1520904783101,
     "user": {
      "displayName": "Himaja y",
      "photoUrl": "//lh4.googleusercontent.com/-yhV3E8-6GOQ/AAAAAAAAAAI/AAAAAAAAURQ/Pcr0UKtZ_ww/s50-c-k-no/photo.jpg",
      "userId": "111905420220784225824"
     },
     "user_tz": 0
    },
    "id": "Ye7VkIVby1pk",
    "outputId": "a8e36635-5761-4117-d142-1b94ee44199b"
   },
   "outputs": [
    {
     "name": "stdout",
     "output_type": "stream",
     "text": [
      "Classifier 'LOO CLF' has P=0.281 R=0.494 Acc=0.559 F1=0.300\n"
     ]
    }
   ],
   "source": [
    "from scipy import sparse\n",
    "from sklearn.linear_model import LogisticRegression\n",
    "\n",
    "train_features = sparse.hstack((train_posts_features,train_posts_features_contents))\n",
    "test_features = sparse.hstack((test_posts_features,test_posts_features_contents))\n",
    "\n",
    "\n",
    "looclf = LogisticRegression()\n",
    "looclf.fit(train_features,train_labels)\n",
    "eval_summary(\"LOO CLF\", looclf.predict(test_features), test_labels)"
   ]
  },
  {
   "cell_type": "markdown",
   "metadata": {
    "colab_type": "text",
    "id": "PAyOxS8X7axy"
   },
   "source": [
    "**Leave one out model without Contents**"
   ]
  },
  {
   "cell_type": "code",
   "execution_count": 66,
   "metadata": {
    "colab": {
     "autoexec": {
      "startup": false,
      "wait_interval": 0
     },
     "base_uri": "https://localhost:8080/",
     "height": 34,
     "output_extras": [
      {
       "item_id": 1
      }
     ]
    },
    "colab_type": "code",
    "executionInfo": {
     "elapsed": 99862,
     "status": "ok",
     "timestamp": 1520904883021,
     "user": {
      "displayName": "Himaja y",
      "photoUrl": "//lh4.googleusercontent.com/-yhV3E8-6GOQ/AAAAAAAAAAI/AAAAAAAAURQ/Pcr0UKtZ_ww/s50-c-k-no/photo.jpg",
      "userId": "111905420220784225824"
     },
     "user_tz": 0
    },
    "id": "j5nmO3k_7XQr",
    "outputId": "cfb565d1-272f-45ea-8884-6817c93f7ca8"
   },
   "outputs": [
    {
     "name": "stdout",
     "output_type": "stream",
     "text": [
      "Classifier 'LOO CLF' has P=0.206 R=0.333 Acc=0.499 F1=0.196\n"
     ]
    }
   ],
   "source": [
    "from scipy import sparse\n",
    "from sklearn.linear_model import LogisticRegression\n",
    "\n",
    "train_features = sparse.hstack((train_posts_features,train_w2v_post_vector_matrix))\n",
    "test_features = sparse.hstack((test_posts_features,test_w2v_post_vector_matrix))\n",
    "\n",
    "\n",
    "looclf = LogisticRegression()\n",
    "looclf.fit(train_features,train_labels)\n",
    "eval_summary(\"LOO CLF\", looclf.predict(test_features), test_labels)"
   ]
  },
  {
   "cell_type": "markdown",
   "metadata": {
    "colab_type": "text",
    "id": "qNDjAvM67zjj"
   },
   "source": [
    "**Leave one out model without structure**"
   ]
  },
  {
   "cell_type": "code",
   "execution_count": 68,
   "metadata": {
    "colab": {
     "autoexec": {
      "startup": false,
      "wait_interval": 0
     },
     "base_uri": "https://localhost:8080/",
     "height": 86,
     "output_extras": [
      {
       "item_id": 1
      }
     ]
    },
    "colab_type": "code",
    "executionInfo": {
     "elapsed": 1524310,
     "status": "ok",
     "timestamp": 1520908620169,
     "user": {
      "displayName": "Himaja y",
      "photoUrl": "//lh4.googleusercontent.com/-yhV3E8-6GOQ/AAAAAAAAAAI/AAAAAAAAURQ/Pcr0UKtZ_ww/s50-c-k-no/photo.jpg",
      "userId": "111905420220784225824"
     },
     "user_tz": 0
    },
    "id": "rXdP4VZp77UX",
    "outputId": "40820e71-8265-4dba-dadf-9efaf176b880"
   },
   "outputs": [
    {
     "data": {
      "text/plain": [
       "LogisticRegression(C=1.0, class_weight=None, dual=False, fit_intercept=True,\n",
       "          intercept_scaling=1, max_iter=100, multi_class='ovr', n_jobs=1,\n",
       "          penalty='l2', random_state=None, solver='liblinear', tol=0.0001,\n",
       "          verbose=0, warm_start=False)"
      ]
     },
     "execution_count": 68,
     "metadata": {
      "tags": []
     },
     "output_type": "execute_result"
    }
   ],
   "source": [
    "from scipy import sparse\n",
    "from sklearn.linear_model import LogisticRegression\n",
    "\n",
    "train_features = sparse.hstack((train_posts_features[['author','thread_features','community']],train_w2v_post_vector_matrix,train_posts_features_contents))\n",
    "test_features = sparse.hstack((test_posts_features[['author','thread_features','community']],test_w2v_post_vector_matrix,test_posts_features_contents))\n",
    "\n",
    "\n",
    "looclf = LogisticRegression()\n",
    "looclf.fit(train_features,train_labels)\n"
   ]
  },
  {
   "cell_type": "code",
   "execution_count": 69,
   "metadata": {
    "colab": {
     "autoexec": {
      "startup": false,
      "wait_interval": 0
     },
     "base_uri": "https://localhost:8080/",
     "height": 34,
     "output_extras": [
      {
       "item_id": 1
      }
     ]
    },
    "colab_type": "code",
    "executionInfo": {
     "elapsed": 1615,
     "status": "ok",
     "timestamp": 1520908678676,
     "user": {
      "displayName": "Himaja y",
      "photoUrl": "//lh4.googleusercontent.com/-yhV3E8-6GOQ/AAAAAAAAAAI/AAAAAAAAURQ/Pcr0UKtZ_ww/s50-c-k-no/photo.jpg",
      "userId": "111905420220784225824"
     },
     "user_tz": 0
    },
    "id": "5TDrY23HG1ht",
    "outputId": "625d5be3-e6e9-4d1c-b2d3-372c79e05080"
   },
   "outputs": [
    {
     "name": "stdout",
     "output_type": "stream",
     "text": [
      "Classifier 'LOO CLF' has P=0.294 R=0.508 Acc=0.561 F1=0.317\n"
     ]
    }
   ],
   "source": [
    "eval_summary(\"LOO CLF\", looclf.predict(test_features), test_labels)"
   ]
  },
  {
   "cell_type": "markdown",
   "metadata": {
    "colab_type": "text",
    "id": "B6mOzhK789AX"
   },
   "source": [
    "**Leave one out model without community**"
   ]
  },
  {
   "cell_type": "code",
   "execution_count": 70,
   "metadata": {
    "colab": {
     "autoexec": {
      "startup": false,
      "wait_interval": 0
     },
     "base_uri": "https://localhost:8080/",
     "height": 34,
     "output_extras": [
      {
       "item_id": 1
      }
     ]
    },
    "colab_type": "code",
    "executionInfo": {
     "elapsed": 2253995,
     "status": "ok",
     "timestamp": 1520910946386,
     "user": {
      "displayName": "Himaja y",
      "photoUrl": "//lh4.googleusercontent.com/-yhV3E8-6GOQ/AAAAAAAAAAI/AAAAAAAAURQ/Pcr0UKtZ_ww/s50-c-k-no/photo.jpg",
      "userId": "111905420220784225824"
     },
     "user_tz": 0
    },
    "id": "qpIhzUPW8PmK",
    "outputId": "0eaa6a46-ee11-4eb3-ca37-374a92d81fab"
   },
   "outputs": [
    {
     "name": "stdout",
     "output_type": "stream",
     "text": [
      "Classifier 'LOO CLF' has P=0.312 R=0.507 Acc=0.561 F1=0.341\n"
     ]
    }
   ],
   "source": [
    "\n",
    "from scipy import sparse\n",
    "from sklearn.linear_model import LogisticRegression\n",
    "\n",
    "train_features = sparse.hstack((train_posts_features[['structure_sentences_title','structure_words_title','structure_char_title','structure_sentences_body','structure_words_body','structure_char_body','author','thread_features']],train_w2v_post_vector_matrix,train_posts_features_contents))\n",
    "test_features = sparse.hstack((test_posts_features[['structure_sentences_title','structure_words_title','structure_char_title','structure_sentences_body','structure_words_body','structure_char_body','author','thread_features']],test_w2v_post_vector_matrix,test_posts_features_contents))\n",
    "\n",
    "\n",
    "looclf = LogisticRegression()\n",
    "looclf.fit(train_features,train_labels)\n",
    "eval_summary(\"LOO CLF\", looclf.predict(test_features), test_labels)\n"
   ]
  },
  {
   "cell_type": "markdown",
   "metadata": {
    "colab_type": "text",
    "id": "eFpNTwXw9w0G"
   },
   "source": [
    "**Leave one out model without thread_features**"
   ]
  },
  {
   "cell_type": "code",
   "execution_count": 71,
   "metadata": {
    "colab": {
     "autoexec": {
      "startup": false,
      "wait_interval": 0
     },
     "base_uri": "https://localhost:8080/",
     "height": 34,
     "output_extras": [
      {
       "item_id": 1
      }
     ]
    },
    "colab_type": "code",
    "executionInfo": {
     "elapsed": 1873339,
     "status": "ok",
     "timestamp": 1520912819770,
     "user": {
      "displayName": "Himaja y",
      "photoUrl": "//lh4.googleusercontent.com/-yhV3E8-6GOQ/AAAAAAAAAAI/AAAAAAAAURQ/Pcr0UKtZ_ww/s50-c-k-no/photo.jpg",
      "userId": "111905420220784225824"
     },
     "user_tz": 0
    },
    "id": "uEtHU5vR9v0X",
    "outputId": "a3f30795-b143-41d9-9e42-ca0a2c387fae"
   },
   "outputs": [
    {
     "name": "stdout",
     "output_type": "stream",
     "text": [
      "Classifier 'LOO CLF' has P=0.299 R=0.486 Acc=0.564 F1=0.325\n"
     ]
    }
   ],
   "source": [
    "from scipy import sparse\n",
    "from sklearn.linear_model import LogisticRegression\n",
    "\n",
    "train_features = sparse.hstack((train_posts_features[['structure_sentences_title','structure_words_title','structure_char_title','structure_sentences_body','structure_words_body','structure_char_body','author','community']],train_w2v_post_vector_matrix,train_posts_features_contents))\n",
    "test_features = sparse.hstack((test_posts_features[['structure_sentences_title','structure_words_title','structure_char_title','structure_sentences_body','structure_words_body','structure_char_body','author','community']],test_w2v_post_vector_matrix,test_posts_features_contents))\n",
    "\n",
    "\n",
    "looclf = LogisticRegression()\n",
    "looclf.fit(train_features,train_labels)\n",
    "eval_summary(\"LOO CLF\", looclf.predict(test_features), test_labels)"
   ]
  },
  {
   "cell_type": "markdown",
   "metadata": {
    "colab_type": "text",
    "id": "uxk8QPdV99u2"
   },
   "source": [
    "**Leave one out without author**"
   ]
  },
  {
   "cell_type": "code",
   "execution_count": 72,
   "metadata": {
    "colab": {
     "autoexec": {
      "startup": false,
      "wait_interval": 0
     },
     "base_uri": "https://localhost:8080/",
     "height": 34,
     "output_extras": [
      {
       "item_id": 1
      }
     ]
    },
    "colab_type": "code",
    "executionInfo": {
     "elapsed": 2123585,
     "status": "ok",
     "timestamp": 1520914943420,
     "user": {
      "displayName": "Himaja y",
      "photoUrl": "//lh4.googleusercontent.com/-yhV3E8-6GOQ/AAAAAAAAAAI/AAAAAAAAURQ/Pcr0UKtZ_ww/s50-c-k-no/photo.jpg",
      "userId": "111905420220784225824"
     },
     "user_tz": 0
    },
    "id": "pdg12iQB2PbO",
    "outputId": "b6ac0164-7430-4854-de36-1910d303cb56"
   },
   "outputs": [
    {
     "name": "stdout",
     "output_type": "stream",
     "text": [
      "Classifier 'LOO CLF' has P=0.283 R=0.461 Acc=0.548 F1=0.304\n"
     ]
    }
   ],
   "source": [
    "from scipy import sparse\n",
    "from sklearn.linear_model import LogisticRegression\n",
    "\n",
    "train_features = sparse.hstack((train_posts_features[['structure_sentences_title','structure_words_title','structure_char_title','structure_sentences_body','structure_words_body','structure_char_body','thread_features','community']],train_w2v_post_vector_matrix,train_posts_features_contents))\n",
    "test_features = sparse.hstack((test_posts_features[['structure_sentences_title','structure_words_title','structure_char_title','structure_sentences_body','structure_words_body','structure_char_body','thread_features','community']],test_w2v_post_vector_matrix,test_posts_features_contents))\n",
    "\n",
    "\n",
    "looclf = LogisticRegression()\n",
    "looclf.fit(train_features,train_labels)\n",
    "eval_summary(\"LOO CLF\", looclf.predict(test_features), test_labels)"
   ]
  },
  {
   "cell_type": "code",
   "execution_count": 0,
   "metadata": {
    "colab": {
     "autoexec": {
      "startup": false,
      "wait_interval": 0
     }
    },
    "colab_type": "code",
    "collapsed": true,
    "id": "eRmOegXuOQk4"
   },
   "outputs": [],
   "source": []
  }
 ],
 "metadata": {
  "colab": {
   "collapsed_sections": [],
   "default_view": {},
   "name": "Assessed Excercise.ipynb",
   "provenance": [
    {
     "file_id": "10lIbJX7EclmZ8vFg0FWMRqS3Ez6EAVX4",
     "timestamp": 1519154201300
    }
   ],
   "version": "0.3.2",
   "views": {}
  },
  "kernelspec": {
   "display_name": "Python 3",
   "language": "python",
   "name": "python3"
  },
  "language_info": {
   "codemirror_mode": {
    "name": "ipython",
    "version": 3
   },
   "file_extension": ".py",
   "mimetype": "text/x-python",
   "name": "python",
   "nbconvert_exporter": "python",
   "pygments_lexer": "ipython3",
   "version": "3.6.1"
  }
 },
 "nbformat": 4,
 "nbformat_minor": 1
}

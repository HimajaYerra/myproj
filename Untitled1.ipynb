{
 "cells": [
  {
   "cell_type": "code",
   "execution_count": 1,
   "metadata": {},
   "outputs": [
    {
     "name": "stderr",
     "output_type": "stream",
     "text": [
      "C:\\local\\Anaconda3\\lib\\site-packages\\statsmodels\\compat\\pandas.py:56: FutureWarning: The pandas.core.datetools module is deprecated and will be removed in a future version. Please use the pandas.tseries module instead.\n",
      "  from pandas.core import datetools\n"
     ]
    }
   ],
   "source": [
    "%matplotlib inline\n",
    "\n",
    "from __future__ import print_function\n",
    "import numpy as np\n",
    "from scipy import stats\n",
    "import pandas as pd\n",
    "import matplotlib.pyplot as plt\n",
    "\n",
    "import statsmodels.api as sm"
   ]
  },
  {
   "cell_type": "code",
   "execution_count": 2,
   "metadata": {
    "collapsed": true
   },
   "outputs": [],
   "source": [
    "\n",
    "from statsmodels.graphics.api import qqplot"
   ]
  },
  {
   "cell_type": "code",
   "execution_count": 3,
   "metadata": {},
   "outputs": [
    {
     "name": "stdout",
     "output_type": "stream",
     "text": [
      "::\n",
      "\n",
      "    Number of Observations - 309 (Annual 1700 - 2008)\n",
      "    Number of Variables - 1\n",
      "    Variable name definitions::\n",
      "\n",
      "        SUNACTIVITY - Number of sunspots for each year\n",
      "\n",
      "    The data file contains a 'YEAR' variable that is not returned by load.\n",
      "\n"
     ]
    }
   ],
   "source": [
    "\n",
    "print(sm.datasets.sunspots.NOTE)"
   ]
  },
  {
   "cell_type": "code",
   "execution_count": 4,
   "metadata": {
    "collapsed": true
   },
   "outputs": [],
   "source": [
    "\n",
    "dta = sm.datasets.sunspots.load_pandas().data"
   ]
  },
  {
   "cell_type": "code",
   "execution_count": 5,
   "metadata": {},
   "outputs": [
    {
     "name": "stdout",
     "output_type": "stream",
     "text": [
      "       YEAR  SUNACTIVITY\n",
      "0    1700.0          5.0\n",
      "1    1701.0         11.0\n",
      "2    1702.0         16.0\n",
      "3    1703.0         23.0\n",
      "4    1704.0         36.0\n",
      "5    1705.0         58.0\n",
      "6    1706.0         29.0\n",
      "7    1707.0         20.0\n",
      "8    1708.0         10.0\n",
      "9    1709.0          8.0\n",
      "10   1710.0          3.0\n",
      "11   1711.0          0.0\n",
      "12   1712.0          0.0\n",
      "13   1713.0          2.0\n",
      "14   1714.0         11.0\n",
      "15   1715.0         27.0\n",
      "16   1716.0         47.0\n",
      "17   1717.0         63.0\n",
      "18   1718.0         60.0\n",
      "19   1719.0         39.0\n",
      "20   1720.0         28.0\n",
      "21   1721.0         26.0\n",
      "22   1722.0         22.0\n",
      "23   1723.0         11.0\n",
      "24   1724.0         21.0\n",
      "25   1725.0         40.0\n",
      "26   1726.0         78.0\n",
      "27   1727.0        122.0\n",
      "28   1728.0        103.0\n",
      "29   1729.0         73.0\n",
      "..      ...          ...\n",
      "279  1979.0        155.4\n",
      "280  1980.0        154.6\n",
      "281  1981.0        140.4\n",
      "282  1982.0        115.9\n",
      "283  1983.0         66.6\n",
      "284  1984.0         45.9\n",
      "285  1985.0         17.9\n",
      "286  1986.0         13.4\n",
      "287  1987.0         29.4\n",
      "288  1988.0        100.2\n",
      "289  1989.0        157.6\n",
      "290  1990.0        142.6\n",
      "291  1991.0        145.7\n",
      "292  1992.0         94.3\n",
      "293  1993.0         54.6\n",
      "294  1994.0         29.9\n",
      "295  1995.0         17.5\n",
      "296  1996.0          8.6\n",
      "297  1997.0         21.5\n",
      "298  1998.0         64.3\n",
      "299  1999.0         93.3\n",
      "300  2000.0        119.6\n",
      "301  2001.0        111.0\n",
      "302  2002.0        104.0\n",
      "303  2003.0         63.7\n",
      "304  2004.0         40.4\n",
      "305  2005.0         29.8\n",
      "306  2006.0         15.2\n",
      "307  2007.0          7.5\n",
      "308  2008.0          2.9\n",
      "\n",
      "[309 rows x 2 columns]\n"
     ]
    }
   ],
   "source": [
    "print(dta)"
   ]
  },
  {
   "cell_type": "code",
   "execution_count": null,
   "metadata": {
    "collapsed": true
   },
   "outputs": [],
   "source": []
  }
 ],
 "metadata": {
  "kernelspec": {
   "display_name": "Python 3",
   "language": "python",
   "name": "python3"
  },
  "language_info": {
   "codemirror_mode": {
    "name": "ipython",
    "version": 3
   },
   "file_extension": ".py",
   "mimetype": "text/x-python",
   "name": "python",
   "nbconvert_exporter": "python",
   "pygments_lexer": "ipython3",
   "version": "3.6.1"
  }
 },
 "nbformat": 4,
 "nbformat_minor": 2
}

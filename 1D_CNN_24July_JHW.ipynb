{
 "cells": [
  {
   "cell_type": "code",
   "execution_count": null,
   "metadata": {
    "collapsed": true
   },
   "outputs": [],
   "source": [
    "import os\n",
    "os.environ[\"keras_backend\"] = \"tensorflow\""
   ]
  },
  {
   "cell_type": "code",
   "execution_count": null,
   "metadata": {
    "collapsed": true
   },
   "outputs": [],
   "source": [
    "!pip install tensorflow"
   ]
  },
  {
   "cell_type": "code",
   "execution_count": null,
   "metadata": {
    "collapsed": true
   },
   "outputs": [],
   "source": [
    "!pip install keras"
   ]
  },
  {
   "cell_type": "code",
   "execution_count": 1,
   "metadata": {},
   "outputs": [
    {
     "name": "stderr",
     "output_type": "stream",
     "text": [
      "C:\\local\\Anaconda3\\lib\\site-packages\\h5py\\__init__.py:34: FutureWarning: Conversion of the second argument of issubdtype from `float` to `np.floating` is deprecated. In future, it will be treated as `np.float64 == np.dtype(float).type`.\n",
      "  from ._conv import register_converters as _register_converters\n",
      "Using TensorFlow backend.\n"
     ]
    }
   ],
   "source": [
    "import numpy as np\n",
    "import pandas as pd\n",
    "import tensorflow\n",
    "import keras\n",
    "from keras.layers import Convolution1D, Dense, MaxPooling1D, Flatten, Input\n",
    "from keras.layers import Conv1D\n",
    "from keras.models import Sequential\n",
    "import itertools\n",
    "import matplotlib.pyplot as plt\n",
    "import scipy\n",
    "from scipy import signal\n",
    "import timeit\n",
    "%matplotlib inline\n",
    "\n"
   ]
  },
  {
   "cell_type": "markdown",
   "metadata": {},
   "source": [
    "Load data"
   ]
  },
  {
   "cell_type": "code",
   "execution_count": 2,
   "metadata": {
    "collapsed": true
   },
   "outputs": [],
   "source": [
    "data=np.load('overnight_all_compressed.npz')\n",
    "eval_data = data['arr_2']"
   ]
  },
  {
   "cell_type": "markdown",
   "metadata": {},
   "source": [
    "Load train data from zip file and merge all files in to single array"
   ]
  },
  {
   "cell_type": "code",
   "execution_count": 3,
   "metadata": {},
   "outputs": [
    {
     "name": "stdout",
     "output_type": "stream",
     "text": [
      "(11044514, 4)\n",
      "(4769867, 4)\n",
      "(15814381, 4)\n"
     ]
    },
    {
     "data": {
      "text/plain": [
       "'for i in x:\\n    \\n    print(x[i].shape)\\n    temp=x[i]\\n    final_array = np.hstack()\\n    final_array = np.concatenate((final_array,temp),axis=0)'"
      ]
     },
     "execution_count": 3,
     "metadata": {},
     "output_type": "execute_result"
    }
   ],
   "source": [
    "#x = np.load('overnight_all_compressed_new.npz')\n",
    "#print(x)\n",
    "#x_t=[]\n",
    "final_array=np.array([])\n",
    "\n",
    "a = data['arr_0']\n",
    "b = data['arr_1']\n",
    "\n",
    "print(a.shape)\n",
    "print(b.shape)\n",
    "\n",
    "\n",
    "final_array=np.vstack([a,b])\n",
    "\n",
    "print(final_array.shape)\n",
    "\n",
    "'''for i in x:\n",
    "    \n",
    "    print(x[i].shape)\n",
    "    temp=x[i]\n",
    "    final_array = np.hstack()\n",
    "    final_array = np.concatenate((final_array,temp),axis=0)'''\n",
    "    #np.concatenate(p,x[i])\n",
    "    #p =np.concatenate((p,temp),axis=0)\n",
    "    #np.append(x[i])\n",
    "    \n",
    "#data=['seconds','mic (trachea)','abdominal movement (stretch sensor)','thorax movement (stretch sensor)']\n",
    "#x = pd.DataFrame(x['arr_0'], columns = data)\n",
    "#x = pd.DataFrame(x['arr_1'], columns = data)\n",
    "\n",
    "#merged = list(itertools.chain.from_iterable(x_t))\n"
   ]
  },
  {
   "cell_type": "markdown",
   "metadata": {},
   "source": [
    "Divide data into X & Y sets for the train and validation data"
   ]
  },
  {
   "cell_type": "code",
   "execution_count": 4,
   "metadata": {
    "collapsed": true
   },
   "outputs": [],
   "source": [
    "X_train = final_array[:,1]\n",
    "Y_train = final_array[:,2]"
   ]
  },
  {
   "cell_type": "code",
   "execution_count": null,
   "metadata": {
    "collapsed": true
   },
   "outputs": [],
   "source": [
    "plt.plot(Y_train)"
   ]
  },
  {
   "cell_type": "code",
   "execution_count": null,
   "metadata": {
    "collapsed": true
   },
   "outputs": [],
   "source": [
    "def median_filter(x, n):    \n",
    "    \n",
    "    for i in range(n//2, len(x)-n-n//2):\n",
    "        x[i+n//2,4] = np.median(x[i:i+n])\n",
    "    return x"
   ]
  },
  {
   "cell_type": "code",
   "execution_count": null,
   "metadata": {
    "collapsed": true
   },
   "outputs": [],
   "source": [
    "new_column = np.zeros([final_array.shape[0],1])\n",
    "diff_array=np.hstack([final_array,new_column])\n",
    "diff_array[1:,4]=np.diff(diff_array[:,2],axis=0)\n",
    "plt.plot(diff_array[:,4])"
   ]
  },
  {
   "cell_type": "code",
   "execution_count": null,
   "metadata": {
    "collapsed": true
   },
   "outputs": [],
   "source": []
  },
  {
   "cell_type": "markdown",
   "metadata": {},
   "source": [
    "manual median filter"
   ]
  },
  {
   "cell_type": "code",
   "execution_count": null,
   "metadata": {
    "collapsed": true
   },
   "outputs": [],
   "source": [
    "start=timeit.default_timer()\n",
    "median_array=median_filter(diff_array,3)\n",
    "stop=timeit.default_timer()\n",
    "print(stop-start)\n",
    "plt.plot(median_array[:,4])"
   ]
  },
  {
   "cell_type": "code",
   "execution_count": null,
   "metadata": {
    "collapsed": true
   },
   "outputs": [],
   "source": [
    "median_array[:,4]=np.cumsum(median_array[:,4],axis=0)\n",
    "\n",
    "plt.plot(median_array[:,4])"
   ]
  },
  {
   "cell_type": "code",
   "execution_count": null,
   "metadata": {
    "collapsed": true
   },
   "outputs": [],
   "source": [
    "X_train=median_array[:,1]\n",
    "Y_train=median_array[:,4]"
   ]
  },
  {
   "cell_type": "markdown",
   "metadata": {},
   "source": [
    "removing offset using scipy median filter"
   ]
  },
  {
   "cell_type": "code",
   "execution_count": null,
   "metadata": {
    "collapsed": true
   },
   "outputs": [],
   "source": [
    "Y_train_diff=np.diff(Y_train)\n",
    "start=timeit.default_timer()\n",
    "median_array_func=scipy.signal.medfilt(Y_train_diff,3)\n",
    "stop=timeit.default_timer()\n",
    "print(stop-start)\n",
    "Y_train_final=np.cumsum(median_array_func)"
   ]
  },
  {
   "cell_type": "code",
   "execution_count": null,
   "metadata": {
    "collapsed": true
   },
   "outputs": [],
   "source": [
    "plt.plot(np.cumsum(Y_train_final,axis=0))"
   ]
  },
  {
   "cell_type": "code",
   "execution_count": null,
   "metadata": {
    "collapsed": true
   },
   "outputs": [],
   "source": [
    "plt.plot(np.cumsum(median_array,axis=0))"
   ]
  },
  {
   "cell_type": "code",
   "execution_count": null,
   "metadata": {
    "collapsed": true
   },
   "outputs": [],
   "source": []
  },
  {
   "cell_type": "code",
   "execution_count": null,
   "metadata": {
    "collapsed": true
   },
   "outputs": [],
   "source": [
    "import scipy\n",
    "from scipy import signal\n",
    "z=np.zeros([3,1])\n",
    "print(z.shape)\n",
    "z[0,0]=1\n",
    "print(z)\n",
    "z[1::,0]=np.diff([1,6,8])\n",
    "print(z)\n",
    "z[1::,0]=scipy.signal.medfilt(np.diff([1,6,8]),3)\n",
    "print(z)\n",
    "print(np.cumsum(z))"
   ]
  },
  {
   "cell_type": "code",
   "execution_count": null,
   "metadata": {
    "collapsed": true
   },
   "outputs": [],
   "source": []
  },
  {
   "cell_type": "code",
   "execution_count": null,
   "metadata": {
    "collapsed": true
   },
   "outputs": [],
   "source": []
  },
  {
   "cell_type": "code",
   "execution_count": null,
   "metadata": {
    "collapsed": true
   },
   "outputs": [],
   "source": [
    "# note: try differencing, median filtering and cumsum to remove offset spikes\n",
    "\n",
    "#z = median_filter(Y_train,5)\n",
    "\n",
    "# m= np.diff(Y_train,axis=0)\n",
    "\n",
    "\n",
    "\n",
    "\n",
    "\n",
    "plt.plot(Y_train)\n",
    "#plt.show()"
   ]
  },
  {
   "cell_type": "code",
   "execution_count": null,
   "metadata": {
    "collapsed": true
   },
   "outputs": [],
   "source": [
    "plt.plot(z,label='diff')"
   ]
  },
  {
   "cell_type": "markdown",
   "metadata": {},
   "source": [
    "Divide X & Y sets for the test data"
   ]
  },
  {
   "cell_type": "code",
   "execution_count": 5,
   "metadata": {
    "collapsed": true
   },
   "outputs": [],
   "source": [
    "time=eval_data[:100000,0]\n",
    "x_pred=eval_data[:100000,5].reshape(100000,1,1)\n",
    "y_true=eval_data[:100000,2]"
   ]
  },
  {
   "cell_type": "markdown",
   "metadata": {},
   "source": [
    "model 1 with 1D Convolution layers and final dense/FC layer with filter of size 1,1,1"
   ]
  },
  {
   "cell_type": "code",
   "execution_count": null,
   "metadata": {
    "collapsed": true
   },
   "outputs": [],
   "source": [
    "def Conv_test():\n",
    "    model = Sequential()\n",
    "    model.add(Convolution1D(32,1,border_mode='same',activation='relu'))\n",
    "    model.add(Convolution1D(16,1,border_mode='same',activation='relu'))\n",
    "    model.add(Convolution1D(2,1,border_mode='same',activation='relu'))\n",
    "    model.add(Dense(1,activation='relu'))\n",
    "    model.compile(loss='mean_squared_error', optimizer='adam',metrics=['accuracy'])\n",
    "    return model"
   ]
  },
  {
   "cell_type": "code",
   "execution_count": 6,
   "metadata": {
    "collapsed": true
   },
   "outputs": [],
   "source": [
    "def CausalConv_test():\n",
    "    model = Sequential()    \n",
    "    model.add(Conv1D(64,1,padding='same',activation='relu', input_shape=(1000,1)))\n",
    "    model.add(Conv1D(16,2,padding='same',activation='relu'))\n",
    "    model.add(Conv1D(2,4,padding='same',activation='relu'))\n",
    "    model.add(Conv1D(2,8,padding='same',activation='relu'))\n",
    "\n",
    "    model.add(Dense(4,activation='tanh'))\n",
    "    model.add(Dense(1,activation='linear'))\n",
    "    model.compile(loss='mean_squared_error', optimizer='adam',metrics=['accuracy'])\n",
    "    return model"
   ]
  },
  {
   "cell_type": "markdown",
   "metadata": {},
   "source": [
    "model 2 with 1D Convolution layers and final dense/FC layer with filter of size 3, 1, 1"
   ]
  },
  {
   "cell_type": "code",
   "execution_count": 13,
   "metadata": {
    "collapsed": true
   },
   "outputs": [],
   "source": [
    "def Conv1D_test():\n",
    "    model = Sequential()    \n",
    "    model.add(Conv1D(64,3,padding='same',activation='relu', input_shape=(1000,1)))\n",
    "    model.add(Conv1D(16,1,padding='same',activation='relu'))\n",
    "    model.add(Conv1D(2,1,padding='same',activation='relu'))\n",
    "    model.add(Dense(4,activation='tanh'))\n",
    "    model.add(Dense(1,activation='linear'))\n",
    "    model.compile(loss='mean_squared_error', optimizer='adam',metrics=['accuracy'])\n",
    "    return model"
   ]
  },
  {
   "cell_type": "markdown",
   "metadata": {},
   "source": [
    "Split train data into train and validation using scikit method"
   ]
  },
  {
   "cell_type": "code",
   "execution_count": null,
   "metadata": {
    "collapsed": true
   },
   "outputs": [],
   "source": [
    "from sklearn.model_selection import train_test_split\n",
    "Xtrain, Xtest, ytrain, ytest = train_test_split(\n",
    "    X_train,Y_train, test_size=0.33)"
   ]
  },
  {
   "cell_type": "markdown",
   "metadata": {},
   "source": [
    "manually splitting train data  into train (70%) and validation (30% )"
   ]
  },
  {
   "cell_type": "code",
   "execution_count": 7,
   "metadata": {
    "collapsed": true
   },
   "outputs": [],
   "source": [
    "l= len(X_train)\n",
    "Xtrain = X_train[:round(l*0.7)]\n",
    "Xtest = X_train[round(l*0.7)+1:]\n",
    "ytrain = Y_train[:round(l*0.7)]\n",
    "ytest = Y_train[round(l*0.7)+1:]"
   ]
  },
  {
   "cell_type": "code",
   "execution_count": 8,
   "metadata": {},
   "outputs": [
    {
     "name": "stdout",
     "output_type": "stream",
     "text": [
      "(11070, 1000, 1)\n"
     ]
    }
   ],
   "source": [
    "window_size = 1000\n",
    "leftover = len(Xtrain)%window_size\n",
    "\n",
    "X_reshaped_train=(Xtrain[:-leftover]).reshape(-1,window_size,1)\n",
    "print(X_reshaped_train.shape)\n",
    "\n",
    "y_reshaped_train=(ytrain[:-leftover]).reshape(-1,window_size,1)\n",
    "\n",
    "leftover_test = len(Xtest)%window_size\n",
    "\n",
    "X_reshaped_test=(Xtest[:-leftover_test]).reshape(-1,window_size,1)\n",
    "y_reshaped_test=(ytest[:-leftover_test]).reshape(-1,window_size,1)\n",
    "\n"
   ]
  },
  {
   "cell_type": "code",
   "execution_count": 14,
   "metadata": {},
   "outputs": [
    {
     "name": "stdout",
     "output_type": "stream",
     "text": [
      "(11070067,)\n",
      "Train on 11070 samples, validate on 4744 samples\n",
      "Epoch 1/10\n",
      "11070/11070 [==============================] - 246s 22ms/step - loss: 0.9122 - acc: 0.0000e+00 - val_loss: 0.5276 - val_acc: 0.0000e+00\n",
      "Epoch 2/10\n",
      "11070/11070 [==============================] - 245s 22ms/step - loss: 0.3935 - acc: 0.0000e+00 - val_loss: 0.3500 - val_acc: 0.0000e+00\n",
      "Epoch 3/10\n",
      "11070/11070 [==============================] - 245s 22ms/step - loss: 0.3892 - acc: 0.0000e+00 - val_loss: 0.3375 - val_acc: 0.0000e+00\n",
      "Epoch 4/10\n",
      "11070/11070 [==============================] - 242s 22ms/step - loss: 0.3892 - acc: 0.0000e+00 - val_loss: 0.3371 - val_acc: 0.0000e+00\n",
      "Epoch 5/10\n",
      "11070/11070 [==============================] - 243s 22ms/step - loss: 0.3892 - acc: 0.0000e+00 - val_loss: 0.3428 - val_acc: 0.0000e+00\n",
      "Epoch 6/10\n",
      "11070/11070 [==============================] - 247s 22ms/step - loss: 0.3892 - acc: 0.0000e+00 - val_loss: 0.3383 - val_acc: 0.0000e+00\n"
     ]
    }
   ],
   "source": [
    "from keras.callbacks import EarlyStopping\n",
    "early_stopping = EarlyStopping(monitor='val_loss', patience=2)\n",
    "\n",
    "\n",
    "# Xtrain=(Xtrain).reshape(len(Xtrain),1,1)\n",
    "\n",
    "# ytrain=ytrain.reshape(len(ytrain),1,1)\n",
    "\n",
    "# Xtest=Xtest.reshape(len(Xtest),1,1)\n",
    "\n",
    "# ytest=ytest.reshape(len(ytest),1,1)\n",
    "\n",
    "validationData=(Xtest,ytest)\n",
    "'''\n",
    "print(X_train.shape)\n",
    "print(Y_train.shape)\n",
    "print(X_test.shape)\n",
    "print(Y_test.shape)'''\n",
    "print(Xtrain.shape)\n",
    "\n",
    "model=Conv1D_test()\n",
    "history = model.fit(X_reshaped_train,y_reshaped_train,\n",
    "                    validation_data=(X_reshaped_test, y_reshaped_test),\n",
    "                    epochs=10,batch_size=50,\n",
    "                    callbacks=[early_stopping])"
   ]
  },
  {
   "cell_type": "code",
   "execution_count": 15,
   "metadata": {},
   "outputs": [
    {
     "name": "stdout",
     "output_type": "stream",
     "text": [
      "dict_keys(['val_loss', 'val_acc', 'loss', 'acc'])\n"
     ]
    },
    {
     "data": {
      "image/png": "[encoded data removed]",
      "text/plain": [
       "<matplotlib.figure.Figure at 0x24797858898>"
      ]
     },
     "metadata": {},
     "output_type": "display_data"
    }
   ],
   "source": [
    "print(history.history.keys())\n",
    "#y_pred=model.predict(x_pred)\n",
    "# summarize history for loss\n",
    "plt.plot(history.history['loss'])\n",
    "#plt.plot(history.history['val_loss'])\n",
    "plt.title('model loss')\n",
    "plt.ylabel('loss')\n",
    "plt.xlabel('epoch')\n",
    "plt.legend(['train', 'test'], loc='upper left')\n",
    "plt.show()"
   ]
  },
  {
   "cell_type": "code",
   "execution_count": 16,
   "metadata": {
    "collapsed": true
   },
   "outputs": [],
   "source": [
    "x= y_pred.reshape(11070000,1)"
   ]
  },
  {
   "cell_type": "code",
   "execution_count": null,
   "metadata": {
    "collapsed": true
   },
   "outputs": [],
   "source": [
    "print(x.shape)"
   ]
  },
  {
   "cell_type": "code",
   "execution_count": null,
   "metadata": {
    "collapsed": true
   },
   "outputs": [],
   "source": [
    "y_pred=model.predict(X_reshaped_train)\n",
    "y_pred_unravel=y_pred.reshape(-1,1)\n",
    "print(y_pred_unravel.shape)"
   ]
  },
  {
   "cell_type": "code",
   "execution_count": null,
   "metadata": {
    "collapsed": true
   },
   "outputs": [],
   "source": [
    "plt.plot(y_pred_unravel)"
   ]
  },
  {
   "cell_type": "code",
   "execution_count": 17,
   "metadata": {},
   "outputs": [
    {
     "name": "stdout",
     "output_type": "stream",
     "text": [
      "(11070, 1000, 1)\n"
     ]
    },
    {
     "data": {
      "text/plain": [
       "<matplotlib.legend.Legend at 0x24743591c18>"
      ]
     },
     "execution_count": 17,
     "metadata": {},
     "output_type": "execute_result"
    },
    {
     "data": {
      "image/png": "[encoded data removed]",
      "text/plain": [
       "<matplotlib.figure.Figure at 0x247432a8b00>"
      ]
     },
     "metadata": {},
     "output_type": "display_data"
    }
   ],
   "source": [
    "y_pred=model.predict(X_reshaped_train)\n",
    "y_pred.reshape(-1,1)\n",
    "print(y_pred.shape)\n",
    "y_pred= y_pred.reshape(-1,1)\n",
    "fig = plt.figure(figsize=(20,10))\n",
    "#for ix,items in zip([1,2],x):\n",
    "ax = fig.add_subplot(2,1,1)\n",
    "ax.set_title('Time vs Patient Data')\n",
    "ax.set_xlabel('Time(in sec)')\n",
    "ax.set_ylabel('Patient Data')\n",
    "ax.plot(y_pred,label='abdominal movement (stretch sensor)_pred')\n",
    "ax.plot(y_reshaped_train.reshape(-1,1),label='abdominal movement (stretch sensor)_true')\n",
    "\n",
    "\n",
    "\n",
    "ax.legend()\n"
   ]
  },
  {
   "cell_type": "code",
   "execution_count": null,
   "metadata": {
    "collapsed": true
   },
   "outputs": [],
   "source": [
    "\n",
    "\n",
    "y_pred=model.predict(x_pred)\n",
    "print(y_pred.shape)\n",
    "y_pred= y_pred.reshape(100000,1)\n",
    "fig = plt.figure(figsize=(20,10))\n",
    "#for ix,items in zip([1,2],x):\n",
    "ax = fig.add_subplot(2,1,1)\n",
    "ax.set_title('Time vs Patient Data')\n",
    "ax.set_xlabel('Time(in sec)')\n",
    "ax.set_ylabel('Patient Data')\n",
    "ax.plot(time,y_pred,label='abdominal movement (stretch sensor)_pred')\n",
    "ax.plot(time,y_true,label='abdominal movement (stretch sensor)_true')\n",
    "\n",
    "\n",
    "\n",
    "ax.legend()\n"
   ]
  },
  {
   "cell_type": "code",
   "execution_count": null,
   "metadata": {
    "collapsed": true
   },
   "outputs": [],
   "source": [
    "from sklearn.model_selection import TimeSeriesSplit\n",
    "\n",
    "\n",
    "tscv = TimeSeriesSplit(n_splits=1)\n",
    "\n",
    "for train, test in tscv.split(final_array):\n",
    "    print(len(train))\n",
    "    print(len(test))\n",
    "    X_train=(final_array[train][:,1]).reshape(1,len(train),1)\n",
    "    #X_train=X_train.reshape(1,len(train),1)\n",
    "    Y_train=final_array[train][:,2].reshape(1,len(train),1)\n",
    "    #Y_train.reshape(1,len(train),1)\n",
    "    X_test=final_array[test][:,1].reshape(1,len(test),1)\n",
    "    #X_test.reshape(1,len(test),1)\n",
    "    Y_test=final_array[test][:,2].reshape(1,len(test),1)\n",
    "    #Y_test.reshape(1,len(test),1)\n",
    "    validationData=(X_test,Y_test)\n",
    "    \n",
    "    print(X_train.shape)\n",
    "    print(Y_train.shape)\n",
    "    print(X_test.shape)\n",
    "    print(Y_test.shape)\n",
    "    model=Conv_test()\n",
    "    history = model.fit(X_train,Y_train,epochs=50,batch_size=10, verbose=2)\n",
    "    print(history.history.keys())\n",
    "    #y_pred=model.predict(x_pred)\n",
    "    # summarize history for loss\n",
    "    plt.plot(history.history['loss'])\n",
    "    #plt.plot(history.history['val_loss'])\n",
    "    plt.title('model loss')\n",
    "    plt.ylabel('loss')\n",
    "    plt.xlabel('epoch')\n",
    "    plt.legend(['train', 'test'], loc='upper left')\n",
    "    plt.show()\n",
    "print(X_train.shape)\n",
    "print(Y_train.shape)\n",
    "print(X_test.shape)\n",
    "print(Y_test.shape)"
   ]
  },
  {
   "cell_type": "code",
   "execution_count": null,
   "metadata": {
    "collapsed": true
   },
   "outputs": [],
   "source": [
    "model = Sequential()\n",
    "\n",
    "#model.add(Embedding(max_features, 128))\n",
    "\n",
    "model.add(LSTM(128, dropout=0.2, recurrent_dropout=0.2))\n",
    "\n",
    "model.add(Dense(1, activation='relu'))\n",
    "\n",
    "\n",
    "\n",
    "# try using different optimizers and different optimizer configs\n",
    "\n",
    "model.compile(loss='mean_squared_error',\n",
    "\n",
    "              optimizer='adam',\n",
    "\n",
    "              metrics=['accuracy'])\n",
    "\n",
    "\n",
    "\n",
    "print('Train...')\n",
    "\n",
    "model.fit(x_train, y_train,\n",
    "\n",
    "          batch_size=batch_size,\n",
    "\n",
    "          epochs=15,\n",
    "\n",
    "          validation_data=(x_test, y_test))\n",
    "\n",
    "score, acc = model.evaluate(x_test, y_test,\n",
    "\n",
    "                            batch_size=batch_size)"
   ]
  },
  {
   "cell_type": "code",
   "execution_count": null,
   "metadata": {
    "collapsed": true
   },
   "outputs": [],
   "source": []
  }
 ],
 "metadata": {
  "kernelspec": {
   "display_name": "Python 3",
   "language": "python",
   "name": "python3"
  },
  "language_info": {
   "codemirror_mode": {
    "name": "ipython",
    "version": 3
   },
   "file_extension": ".py",
   "mimetype": "text/x-python",
   "name": "python",
   "nbconvert_exporter": "python",
   "pygments_lexer": "ipython3",
   "version": "3.6.1"
  }
 },
 "nbformat": 4,
 "nbformat_minor": 2
}
